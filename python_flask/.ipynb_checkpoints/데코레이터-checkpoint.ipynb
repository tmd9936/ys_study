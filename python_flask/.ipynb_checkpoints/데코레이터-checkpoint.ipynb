{
 "cells": [
  {
   "cell_type": "markdown",
   "metadata": {},
   "source": [
    "## 데코레이터 @"
   ]
  },
  {
   "cell_type": "code",
   "execution_count": 11,
   "metadata": {},
   "outputs": [
    {
     "name": "stdout",
     "output_type": "stream",
     "text": [
      "내부 함수인데 Hello World!! 매개변수를 받았음\n"
     ]
    }
   ],
   "source": [
    "def outer_fun(param):\n",
    "    def inner_fun():\n",
    "        return f'내부 함수인데 {param} 매개변수를 받았음'\n",
    "    return inner_fun\n",
    "\n",
    "cc = outer_fun('Hello World!!')\n",
    "\n",
    "print(cc())"
   ]
  },
  {
   "cell_type": "code",
   "execution_count": 15,
   "metadata": {},
   "outputs": [
    {
     "name": "stdout",
     "output_type": "stream",
     "text": [
      "함수 동작 시간 : 0.5020549297332764\n"
     ]
    }
   ],
   "source": [
    "import time\n",
    "\n",
    "def test():\n",
    "    start_time = time.time()\n",
    "    for i in range(5):\n",
    "        time.sleep(0.1)\n",
    "    end_time = time.time() - start_time\n",
    "    print(\"함수 동작 시간 : {}\".format(end_time))\n",
    "\n",
    "test()"
   ]
  },
  {
   "cell_type": "code",
   "execution_count": 21,
   "metadata": {},
   "outputs": [
    {
     "name": "stdout",
     "output_type": "stream",
     "text": [
      "함수 t_test1 동작시간: 0.5025210380554199\n",
      "함수 t_test2 동작시간: 1.0030357837677002\n"
     ]
    }
   ],
   "source": [
    "import time\n",
    "def time_check(func):\n",
    "    def inner_func(*args, **kwargs):\n",
    "        start_time = time.time()\n",
    "        func(*args, **kwargs)\n",
    "        end_time = time.time()\n",
    "        print(f'함수 {func.__name__} 동작시간: {end_time - start_time}')\n",
    "    return inner_func\n",
    "\n",
    "@time_check\n",
    "def t_test1():\n",
    "    for i in range(5):\n",
    "        time.sleep(0.1)\n",
    "\n",
    "@time_check\n",
    "def t_test2():\n",
    "    for i in range(10):\n",
    "        time.sleep(0.1)\n",
    "\n",
    "t_test1()\n",
    "t_test2()"
   ]
  },
  {
   "cell_type": "code",
   "execution_count": 32,
   "metadata": {},
   "outputs": [
    {
     "name": "stdout",
     "output_type": "stream",
     "text": [
      "서비스를 제공받기 위해서는 로그인이 필요합니다.\n",
      "서비스를 시작합니다.\n"
     ]
    },
    {
     "ename": "TypeError",
     "evalue": "login_test() got an unexpected keyword argument 'is_login'",
     "output_type": "error",
     "traceback": [
      "\u001b[1;31m---------------------------------------------------------------------------\u001b[0m",
      "\u001b[1;31mTypeError\u001b[0m                                 Traceback (most recent call last)",
      "\u001b[1;32m<ipython-input-32-0f8dfaa6e067>\u001b[0m in \u001b[0;36m<module>\u001b[1;34m\u001b[0m\n\u001b[0;32m     16\u001b[0m \u001b[1;32mdef\u001b[0m \u001b[0mlogin_test2\u001b[0m\u001b[1;33m(\u001b[0m\u001b[1;33m*\u001b[0m\u001b[0margs\u001b[0m\u001b[1;33m,\u001b[0m \u001b[1;33m**\u001b[0m\u001b[0mkwargs\u001b[0m\u001b[1;33m)\u001b[0m\u001b[1;33m:\u001b[0m\u001b[1;33m\u001b[0m\u001b[1;33m\u001b[0m\u001b[0m\n\u001b[0;32m     17\u001b[0m     \u001b[0mprint\u001b[0m\u001b[1;33m(\u001b[0m\u001b[1;34m'당신은 로그인 되었습니다!'\u001b[0m\u001b[1;33m)\u001b[0m\u001b[1;33m\u001b[0m\u001b[1;33m\u001b[0m\u001b[0m\n\u001b[1;32m---> 18\u001b[1;33m \u001b[0mlogin_test\u001b[0m\u001b[1;33m(\u001b[0m\u001b[0mis_login\u001b[0m \u001b[1;33m=\u001b[0m \u001b[1;32mTrue\u001b[0m\u001b[1;33m)\u001b[0m\u001b[1;33m\u001b[0m\u001b[1;33m\u001b[0m\u001b[0m\n\u001b[0m",
      "\u001b[1;32m<ipython-input-32-0f8dfaa6e067>\u001b[0m in \u001b[0;36mwrapper\u001b[1;34m(*args, **kwargs)\u001b[0m\n\u001b[0;32m      5\u001b[0m         \u001b[1;32melse\u001b[0m\u001b[1;33m:\u001b[0m\u001b[1;33m\u001b[0m\u001b[1;33m\u001b[0m\u001b[0m\n\u001b[0;32m      6\u001b[0m             \u001b[0mprint\u001b[0m\u001b[1;33m(\u001b[0m\u001b[1;34m'서비스를 시작합니다.'\u001b[0m\u001b[1;33m)\u001b[0m\u001b[1;33m\u001b[0m\u001b[1;33m\u001b[0m\u001b[0m\n\u001b[1;32m----> 7\u001b[1;33m         \u001b[1;32mreturn\u001b[0m \u001b[0mfunc\u001b[0m\u001b[1;33m(\u001b[0m\u001b[1;33m*\u001b[0m\u001b[0margs\u001b[0m\u001b[1;33m,\u001b[0m \u001b[1;33m**\u001b[0m\u001b[0mkwargs\u001b[0m\u001b[1;33m)\u001b[0m\u001b[1;33m\u001b[0m\u001b[1;33m\u001b[0m\u001b[0m\n\u001b[0m\u001b[0;32m      8\u001b[0m     \u001b[1;32mreturn\u001b[0m \u001b[0mwrapper\u001b[0m\u001b[1;33m\u001b[0m\u001b[1;33m\u001b[0m\u001b[0m\n\u001b[0;32m      9\u001b[0m \u001b[1;33m\u001b[0m\u001b[0m\n",
      "\u001b[1;31mTypeError\u001b[0m: login_test() got an unexpected keyword argument 'is_login'"
     ]
    }
   ],
   "source": [
    "def login_required(func):\n",
    "    def wrapper(*args, **kwargs):\n",
    "        if not kwargs.get('is_login'):\n",
    "            return '서비스를 제공받기 위해서는 로그인이 필요합니다.'\n",
    "        return func(*args, **kwargs)\n",
    "    return wrapper\n",
    "\n",
    "@login_required\n",
    "def login_test():\n",
    "    print('하이??')\n",
    "print(login_test())\n",
    "\n",
    "\n",
    "def login_test2(*args, **kwargs):\n",
    "    print('당신은 로그인 되었습니다!')\n",
    "login_test(is_login = True)"
   ]
  }
 ],
 "metadata": {
  "kernelspec": {
   "display_name": "Python 3",
   "language": "python",
   "name": "python3"
  },
  "language_info": {
   "codemirror_mode": {
    "name": "ipython",
    "version": 3
   },
   "file_extension": ".py",
   "mimetype": "text/x-python",
   "name": "python",
   "nbconvert_exporter": "python",
   "pygments_lexer": "ipython3",
   "version": "3.7.6"
  }
 },
 "nbformat": 4,
 "nbformat_minor": 4
}
