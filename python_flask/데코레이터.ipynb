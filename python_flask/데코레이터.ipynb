{
 "cells": [
  {
   "cell_type": "markdown",
   "metadata": {},
   "source": [
    "## 데코레이터 @"
   ]
  },
  {
   "cell_type": "code",
   "execution_count": 11,
   "metadata": {},
   "outputs": [
    {
     "name": "stdout",
     "output_type": "stream",
     "text": [
      "내부 함수인데 Hello World!! 매개변수를 받았음\n"
     ]
    }
   ],
   "source": [
    "def outer_fun(param):\n",
    "    def inner_fun():\n",
    "        return f'내부 함수인데 {param} 매개변수를 받았음'\n",
    "    return inner_fun\n",
    "\n",
    "cc = outer_fun('Hello World!!')\n",
    "\n",
    "print(cc())"
   ]
  },
  {
   "cell_type": "code",
   "execution_count": 15,
   "metadata": {},
   "outputs": [
    {
     "name": "stdout",
     "output_type": "stream",
     "text": [
      "함수 동작 시간 : 0.5020549297332764\n"
     ]
    }
   ],
   "source": [
    "import time\n",
    "\n",
    "def test():\n",
    "    start_time = time.time()\n",
    "    for i in range(5):\n",
    "        time.sleep(0.1)\n",
    "    end_time = time.time() - start_time\n",
    "    print(\"함수 동작 시간 : {}\".format(end_time))\n",
    "\n",
    "test()"
   ]
  },
  {
   "cell_type": "code",
   "execution_count": 52,
   "metadata": {},
   "outputs": [
    {
     "name": "stdout",
     "output_type": "stream",
     "text": [
      "함수 t_test1 동작시간: 0.5017311573028564\n",
      "함수 t_test2 동작시간: 1.0030364990234375\n"
     ]
    }
   ],
   "source": [
    "import time\n",
    "def time_check(func):\n",
    "    def inner_func(*args, **kwargs):\n",
    "        start_time = time.time()\n",
    "        func(*args, **kwargs)\n",
    "        end_time = time.time()\n",
    "        print(f'함수 {func.__name__} 동작시간: {end_time - start_time}')\n",
    "    return inner_func\n",
    "\n",
    "@time_check\n",
    "def t_test1():\n",
    "    for i in range(5):\n",
    "        time.sleep(0.1)\n",
    "\n",
    "@time_check\n",
    "def t_test2():\n",
    "    for i in range(10):\n",
    "        time.sleep(0.1)\n",
    "\n",
    "t_test1()\n",
    "t_test2()"
   ]
  },
  {
   "cell_type": "code",
   "execution_count": 55,
   "metadata": {},
   "outputs": [
    {
     "name": "stdout",
     "output_type": "stream",
     "text": [
      "서비스를 제공받기 위해서는 로그인이 필요합니다.\n",
      "당신은 로그인 되었습니다!\n",
      "None\n"
     ]
    }
   ],
   "source": [
    "def login_required(func):\n",
    "    def wrapper(*args, **kwargs):\n",
    "        if not kwargs.get('is_login'):\n",
    "            return '서비스를 제공받기 위해서는 로그인이 필요합니다.'\n",
    "        return func(*args, **kwargs)\n",
    "    return wrapper\n",
    "\n",
    "@login_required\n",
    "def login_test():\n",
    "    print('하이??')\n",
    "print(login_test())\n",
    "\n",
    "@login_required\n",
    "def login_test2(*args, **kwargs):\n",
    "    print('당신은 로그인 되었습니다!')\n",
    "print(login_test2(is_login=True))"
   ]
  },
  {
   "cell_type": "markdown",
   "metadata": {},
   "source": [
    "## 함수 속성이 사라지는 문제점이 있다.\n",
    "\n",
    "- 데코레이터를 작성하면 원래 함수가 갖고 있던\n",
    "  name, doc, .. 속성등이 사라지는 문제가 발생한다.\n",
    "- 이런 문제점을 방지하기 위해서 functool모듈의 @wraps을 데코레이팅 해야한다."
   ]
  },
  {
   "cell_type": "code",
   "execution_count": 41,
   "metadata": {},
   "outputs": [
    {
     "name": "stdout",
     "output_type": "stream",
     "text": [
      "Hello\n",
      "테스트 함수입니다.\n",
      "test\n"
     ]
    }
   ],
   "source": [
    "def test():\n",
    "    '''테스트 함수입니다.'''\n",
    "    return 'Hello'\n",
    "print(test())\n",
    "print(test.__doc__)\n",
    "print(test.__name__)"
   ]
  },
  {
   "cell_type": "code",
   "execution_count": 44,
   "metadata": {},
   "outputs": [
    {
     "name": "stdout",
     "output_type": "stream",
     "text": [
      "데코레이터 Hello!!\n",
      "wrapper\n",
      "난 랩퍼함수\n"
     ]
    }
   ],
   "source": [
    "def temp_decorator(func):\n",
    "    def wrapper(*args, **kwargs):\n",
    "        '''난 랩퍼함수'''\n",
    "        return f'데코레이터 {func(*args, **kwargs)}'\n",
    "    return wrapper\n",
    "\n",
    "@temp_decorator\n",
    "def test():\n",
    "    '''테스트용 함수2'''\n",
    "    return 'Hello!!'\n",
    "\n",
    "print(test())\n",
    "print(test.__name__)\n",
    "print(test.__doc__)"
   ]
  },
  {
   "cell_type": "code",
   "execution_count": 48,
   "metadata": {},
   "outputs": [
    {
     "name": "stdout",
     "output_type": "stream",
     "text": [
      "데코레이터 Hello!!\n",
      "test\n",
      "테스트용 함수2\n"
     ]
    }
   ],
   "source": [
    "from functools import wraps\n",
    "\n",
    "\n",
    "def temp_decorator(func):\n",
    "    @wraps(func)\n",
    "    def wrapper(*args, **kwargs):\n",
    "        '''난 랩퍼함수'''\n",
    "        return f'데코레이터 {func(*args, **kwargs)}'\n",
    "    return wrapper\n",
    "\n",
    "@temp_decorator\n",
    "def test():\n",
    "    '''테스트용 함수2'''\n",
    "    return 'Hello!!'\n",
    "\n",
    "print(test())\n",
    "print(test.__name__)\n",
    "print(test.__doc__)"
   ]
  },
  {
   "cell_type": "markdown",
   "metadata": {},
   "source": [
    "### 데코레이터에게 인자 전달하기"
   ]
  },
  {
   "cell_type": "code",
   "execution_count": 56,
   "metadata": {},
   "outputs": [
    {
     "name": "stdout",
     "output_type": "stream",
     "text": [
      "<strong>방가 홍길동</strong>\n"
     ]
    }
   ],
   "source": [
    "def add_param(new_args):\n",
    "    def decorator(func):\n",
    "        def wrapper(*args, **kwargs):\n",
    "            return f'<{new_args}>{func(*args, **kwargs)}</{new_args}>'\n",
    "        return wrapper\n",
    "    return decorator\n",
    "\n",
    "@add_param('strong')\n",
    "def test(msg):\n",
    "    return '방가 ' + msg\n",
    "\n",
    "print(test('홍길동'))"
   ]
  }
 ],
 "metadata": {
  "kernelspec": {
   "display_name": "Python 3",
   "language": "python",
   "name": "python3"
  },
  "language_info": {
   "codemirror_mode": {
    "name": "ipython",
    "version": 3
   },
   "file_extension": ".py",
   "mimetype": "text/x-python",
   "name": "python",
   "nbconvert_exporter": "python",
   "pygments_lexer": "ipython3",
   "version": "3.7.6"
  }
 },
 "nbformat": 4,
 "nbformat_minor": 4
}
