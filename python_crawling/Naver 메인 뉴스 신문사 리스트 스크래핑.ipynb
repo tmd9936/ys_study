{
 "cells": [
  {
   "cell_type": "code",
   "execution_count": 22,
   "metadata": {},
   "outputs": [
    {
     "name": "stdout",
     "output_type": "stream",
     "text": [
      "{'href': 'http://newsstand.naver.com/?list=&pcode=109', 'name': 'OSEN'}\n",
      "{'href': 'http://newsstand.naver.com/?list=&pcode=047', 'name': '오마이뉴스'}\n",
      "{'href': 'http://newsstand.naver.com/?list=&pcode=032', 'name': '경향신문'}\n",
      "{'href': 'http://newsstand.naver.com/?list=&pcode=052', 'name': 'YTN'}\n",
      "{'href': 'http://newsstand.naver.com/?list=&pcode=020', 'name': '동아일보'}\n",
      "{'href': 'http://newsstand.naver.com/?list=&pcode=293', 'name': '블로터'}\n",
      "{'href': 'http://newsstand.naver.com/?list=&pcode=215', 'name': '한국경제TV'}\n",
      "{'href': 'http://newsstand.naver.com/?list=&pcode=057', 'name': 'MBN'}\n",
      "{'href': 'http://newsstand.naver.com/?list=&pcode=022', 'name': '세계일보'}\n",
      "{'href': 'http://newsstand.naver.com/?list=&pcode=011', 'name': '서울경제'}\n",
      "{'href': 'http://newsstand.naver.com/?list=&pcode=139', 'name': '스포탈코리아'}\n",
      "{'href': 'http://newsstand.naver.com/?list=&pcode=025', 'name': '중앙일보'}\n",
      "{'href': 'http://newsstand.naver.com/?list=&pcode=930', 'name': '뉴스타파'}\n",
      "{'href': 'http://newsstand.naver.com/?list=&pcode=030', 'name': '전자신문'}\n",
      "{'href': 'http://newsstand.naver.com/?list=&pcode=376', 'name': '지지통신'}\n",
      "{'href': 'http://newsstand.naver.com/?list=&pcode=387', 'name': '인천일보'}\n",
      "{'href': 'http://newsstand.naver.com/?list=&pcode=926', 'name': '중부일보'}\n",
      "{'href': 'http://newsstand.naver.com/?list=&pcode=339', 'name': '경기일보'}\n",
      "{'href': 'http://newsstand.naver.com/?list=&pcode=942', 'name': '비즈니스포스트'}\n",
      "{'href': 'http://newsstand.naver.com/?list=&pcode=958', 'name': '베리타스알파'}\n",
      "{'href': 'http://newsstand.naver.com/?list=&pcode=364', 'name': 'PC사랑'}\n",
      "{'href': 'http://newsstand.naver.com/?list=&pcode=945', 'name': 'YTN사이언스'}\n",
      "{'href': 'http://newsstand.naver.com/?list=&pcode=344', 'name': 'EBS'}\n",
      "{'href': 'http://newsstand.naver.com/?list=&pcode=989', 'name': 'TBC'}\n"
     ]
    }
   ],
   "source": [
    "import lxml.html\n",
    "import requests\n",
    "\n",
    "\n",
    "'''\n",
    "스크래핑 메인함수     \n",
    "'''\n",
    "def main():\n",
    "    # 스크래핑 대상 URL\n",
    "    response = requests.get('https://www.naver.com')\n",
    "    \n",
    "    # 링크 목록 획득 함수 호출\n",
    "    urls = newspaper_link_list(response)\n",
    "    \n",
    "    # 결과 출력\n",
    "    for url in urls:\n",
    "        print(url)\n",
    "\n",
    "# 신문사의 링크 목록을 획득\n",
    "def newspaper_link_list(response):\n",
    "    # URL 리스트 선언\n",
    "    urls = []\n",
    "    \n",
    "    # print(response.content)\n",
    "    # 태그정보를 문자열 저장\n",
    "    root = lxml.html.fromstring(response.content)\n",
    "    # print(root)\n",
    "    \n",
    "    for a in root.cssselect('._NM_UI_PAGE_CONTAINER .popup_wrap .btn_popup:last-child'):\n",
    "        # 링크 주소\n",
    "        url = a.get('href')\n",
    "        \n",
    "        # 리스트에 삽입\n",
    "        urls.append({'href':url})\n",
    "        \n",
    "    for idx, img in enumerate(root.cssselect('._NM_UI_PAGE_CONTAINER .thumb img')):\n",
    "        urls[idx]['name'] = img.get('alt')\n",
    "    \n",
    "    return urls\n",
    "    \n",
    "\n",
    "if __name__ == '__main__':\n",
    "    main()"
   ]
  },
  {
   "cell_type": "code",
   "execution_count": null,
   "metadata": {},
   "outputs": [],
   "source": []
  }
 ],
 "metadata": {
  "kernelspec": {
   "display_name": "Python 3",
   "language": "python",
   "name": "python3"
  },
  "language_info": {
   "codemirror_mode": {
    "name": "ipython",
    "version": 3
   },
   "file_extension": ".py",
   "mimetype": "text/x-python",
   "name": "python",
   "nbconvert_exporter": "python",
   "pygments_lexer": "ipython3",
   "version": "3.7.6"
  }
 },
 "nbformat": 4,
 "nbformat_minor": 4
}
