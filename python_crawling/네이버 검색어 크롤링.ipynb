{
 "cells": [
  {
   "cell_type": "code",
   "execution_count": 13,
   "metadata": {},
   "outputs": [
    {
     "name": "stdout",
     "output_type": "stream",
     "text": [
      "[['rank', 'keyword'],\n",
      " [1, '아나운서 황정민'],\n",
      " [2, 'aoa'],\n",
      " [3, '권민아'],\n",
      " [4, '샘 오취리'],\n",
      " [5, '초아'],\n",
      " [6, '류호정 원피스'],\n",
      " [7, '쯔양'],\n",
      " [8, '기쁨153교회'],\n",
      " [9, '설현'],\n",
      " [10, '담보'],\n",
      " [11, '권경애'],\n",
      " [12, '남이섬'],\n",
      " [13, '뽕숭아학당 마사지'],\n",
      " [14, '의암댐'],\n",
      " [15, '의정부고 졸업사진'],\n",
      " [16, '신라젠'],\n",
      " [17, '한상혁'],\n",
      " [18, '김예지'],\n",
      " [19, '양팡'],\n",
      " [20, '민아']]\n"
     ]
    }
   ],
   "source": [
    "import requests\n",
    "import json, csv\n",
    "import pprint\n",
    "\n",
    "res = requests.get('https://apis.naver.com/mobile_main/srchrank/srchrank').json()\n",
    "\n",
    "# print(res)\n",
    "\n",
    "ranks = res.get('data')\n",
    "\n",
    "# print(ranks)\n",
    "\n",
    "s_list = [['rank','keyword']]\n",
    "for r in ranks:\n",
    "    rank = r.get('rank')\n",
    "    keyword = r.get('keyword')\n",
    "    s_list.append([rank, keyword])\n",
    "\n",
    "pprint.pprint(s_list)\n",
    "\n",
    "with open('./resource/rank.csv','w', newline='', encoding='utf-8') as fp:\n",
    "    _write = csv.writer(fp)\n",
    "    \n",
    "#     for value in s_list:\n",
    "#         _write.writerow(value)\n",
    "    _write.writerows(s_list)\n"
   ]
  },
  {
   "cell_type": "code",
   "execution_count": 14,
   "metadata": {},
   "outputs": [
    {
     "name": "stdout",
     "output_type": "stream",
     "text": [
      "['rank', 'keyword']\n",
      "['1', '아나운서 황정민']\n",
      "['2', 'aoa']\n",
      "['3', '권민아']\n",
      "['4', '샘 오취리']\n",
      "['5', '초아']\n",
      "['6', '류호정 원피스']\n",
      "['7', '쯔양']\n",
      "['8', '기쁨153교회']\n",
      "['9', '설현']\n",
      "['10', '담보']\n",
      "['11', '권경애']\n",
      "['12', '남이섬']\n",
      "['13', '뽕숭아학당 마사지']\n",
      "['14', '의암댐']\n",
      "['15', '의정부고 졸업사진']\n",
      "['16', '신라젠']\n",
      "['17', '한상혁']\n",
      "['18', '김예지']\n",
      "['19', '양팡']\n",
      "['20', '민아']\n"
     ]
    }
   ],
   "source": [
    "with open('./resource/rank.csv', 'r', encoding='utf-8') as fp:\n",
    "    reader = csv.reader(fp)\n",
    "    \n",
    "    for content in reader:\n",
    "        print(content)"
   ]
  },
  {
   "cell_type": "code",
   "execution_count": 15,
   "metadata": {},
   "outputs": [
    {
     "name": "stdout",
     "output_type": "stream",
     "text": [
      "rank 1\n",
      "keyword 아나운서 황정민\n",
      "\n",
      "rank 2\n",
      "keyword aoa\n",
      "\n",
      "rank 3\n",
      "keyword 권민아\n",
      "\n",
      "rank 4\n",
      "keyword 샘 오취리\n",
      "\n",
      "rank 5\n",
      "keyword 초아\n",
      "\n",
      "rank 6\n",
      "keyword 류호정 원피스\n",
      "\n",
      "rank 7\n",
      "keyword 쯔양\n",
      "\n",
      "rank 8\n",
      "keyword 기쁨153교회\n",
      "\n",
      "rank 9\n",
      "keyword 설현\n",
      "\n",
      "rank 10\n",
      "keyword 담보\n",
      "\n",
      "rank 11\n",
      "keyword 권경애\n",
      "\n",
      "rank 12\n",
      "keyword 남이섬\n",
      "\n",
      "rank 13\n",
      "keyword 뽕숭아학당 마사지\n",
      "\n",
      "rank 14\n",
      "keyword 의암댐\n",
      "\n",
      "rank 15\n",
      "keyword 의정부고 졸업사진\n",
      "\n",
      "rank 16\n",
      "keyword 신라젠\n",
      "\n",
      "rank 17\n",
      "keyword 한상혁\n",
      "\n",
      "rank 18\n",
      "keyword 김예지\n",
      "\n",
      "rank 19\n",
      "keyword 양팡\n",
      "\n",
      "rank 20\n",
      "keyword 민아\n",
      "\n"
     ]
    }
   ],
   "source": [
    "with open('./resource/rank.csv', 'r', encoding='utf-8') as fp:\n",
    "    reader = csv.DictReader(fp)\n",
    "    \n",
    "    for content in reader:\n",
    "        for k,v in content.items():\n",
    "            print(k, v)\n",
    "        print()"
   ]
  },
  {
   "cell_type": "code",
   "execution_count": null,
   "metadata": {},
   "outputs": [],
   "source": []
  }
 ],
 "metadata": {
  "kernelspec": {
   "display_name": "Python 3",
   "language": "python",
   "name": "python3"
  },
  "language_info": {
   "codemirror_mode": {
    "name": "ipython",
    "version": 3
   },
   "file_extension": ".py",
   "mimetype": "text/x-python",
   "name": "python",
   "nbconvert_exporter": "python",
   "pygments_lexer": "ipython3",
   "version": "3.7.6"
  }
 },
 "nbformat": 4,
 "nbformat_minor": 4
}
