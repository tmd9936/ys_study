{
 "cells": [
  {
   "cell_type": "code",
   "execution_count": 1,
   "metadata": {},
   "outputs": [],
   "source": [
    "import urllib.parse as rep\n",
    "import requests\n",
    "from bs4 import BeautifulSoup\n",
    "from fake_useragent import UserAgent\n",
    "import os\n",
    "\n",
    "headers = {'User-agent':UserAgent().ie}\n",
    "base_url = 'https://search.daum.net/search?w=img&nil_search=btn&DA=NTB&enc=utf8&q='\n",
    "search_word = '고양이'\n",
    "\n",
    "# url 인코딩을 위한 설정\n",
    "quote = rep.quote_plus(search_word)\n",
    "url = base_url + quote\n",
    "\n",
    "\n",
    "rep = requests.get(url)\n",
    "\n"
   ]
  },
  {
   "cell_type": "code",
   "execution_count": null,
   "metadata": {},
   "outputs": [],
   "source": []
  }
 ],
 "metadata": {
  "kernelspec": {
   "display_name": "Python 3",
   "language": "python",
   "name": "python3"
  },
  "language_info": {
   "codemirror_mode": {
    "name": "ipython",
    "version": 3
   },
   "file_extension": ".py",
   "mimetype": "text/x-python",
   "name": "python",
   "nbconvert_exporter": "python",
   "pygments_lexer": "ipython3",
   "version": "3.7.6"
  }
 },
 "nbformat": 4,
 "nbformat_minor": 4
}
