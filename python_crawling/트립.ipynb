{
 "cells": [
  {
   "cell_type": "code",
   "execution_count": 13,
   "metadata": {},
   "outputs": [
    {
     "ename": "TimeoutException",
     "evalue": "Message: \n",
     "output_type": "error",
     "traceback": [
      "\u001b[1;31m---------------------------------------------------------------------------\u001b[0m",
      "\u001b[1;31mTimeoutException\u001b[0m                          Traceback (most recent call last)",
      "\u001b[1;32m<ipython-input-13-d519e201d502>\u001b[0m in \u001b[0;36m<module>\u001b[1;34m\u001b[0m\n\u001b[0;32m     36\u001b[0m \u001b[1;33m\u001b[0m\u001b[0m\n\u001b[0;32m     37\u001b[0m WebDriverWait(browser, 3).until(EC.presence_of_element_located((By.XPATH, \\\n\u001b[1;32m---> 38\u001b[1;33m                        '//*[@id=\"address_suggestionContainer_undefined\"]/div/div[2]/ul/li/a[1]' ))).click()\n\u001b[0m\u001b[0;32m     39\u001b[0m \u001b[1;33m\u001b[0m\u001b[0m\n\u001b[0;32m     40\u001b[0m \u001b[0mtime\u001b[0m\u001b[1;33m.\u001b[0m\u001b[0msleep\u001b[0m\u001b[1;33m(\u001b[0m\u001b[1;36m3\u001b[0m\u001b[1;33m)\u001b[0m\u001b[1;33m\u001b[0m\u001b[1;33m\u001b[0m\u001b[0m\n",
      "\u001b[1;32m~\\anaconda3\\envs\\python_crawling\\lib\\site-packages\\selenium\\webdriver\\support\\wait.py\u001b[0m in \u001b[0;36muntil\u001b[1;34m(self, method, message)\u001b[0m\n\u001b[0;32m     78\u001b[0m             \u001b[1;32mif\u001b[0m \u001b[0mtime\u001b[0m\u001b[1;33m.\u001b[0m\u001b[0mtime\u001b[0m\u001b[1;33m(\u001b[0m\u001b[1;33m)\u001b[0m \u001b[1;33m>\u001b[0m \u001b[0mend_time\u001b[0m\u001b[1;33m:\u001b[0m\u001b[1;33m\u001b[0m\u001b[1;33m\u001b[0m\u001b[0m\n\u001b[0;32m     79\u001b[0m                 \u001b[1;32mbreak\u001b[0m\u001b[1;33m\u001b[0m\u001b[1;33m\u001b[0m\u001b[0m\n\u001b[1;32m---> 80\u001b[1;33m         \u001b[1;32mraise\u001b[0m \u001b[0mTimeoutException\u001b[0m\u001b[1;33m(\u001b[0m\u001b[0mmessage\u001b[0m\u001b[1;33m,\u001b[0m \u001b[0mscreen\u001b[0m\u001b[1;33m,\u001b[0m \u001b[0mstacktrace\u001b[0m\u001b[1;33m)\u001b[0m\u001b[1;33m\u001b[0m\u001b[1;33m\u001b[0m\u001b[0m\n\u001b[0m\u001b[0;32m     81\u001b[0m \u001b[1;33m\u001b[0m\u001b[0m\n\u001b[0;32m     82\u001b[0m     \u001b[1;32mdef\u001b[0m \u001b[0muntil_not\u001b[0m\u001b[1;33m(\u001b[0m\u001b[0mself\u001b[0m\u001b[1;33m,\u001b[0m \u001b[0mmethod\u001b[0m\u001b[1;33m,\u001b[0m \u001b[0mmessage\u001b[0m\u001b[1;33m=\u001b[0m\u001b[1;34m''\u001b[0m\u001b[1;33m)\u001b[0m\u001b[1;33m:\u001b[0m\u001b[1;33m\u001b[0m\u001b[1;33m\u001b[0m\u001b[0m\n",
      "\u001b[1;31mTimeoutException\u001b[0m: Message: \n"
     ]
    }
   ],
   "source": [
    "from selenium import webdriver as wd\n",
    "\n",
    "from selenium.webdriver.common.by import By\n",
    "from selenium.webdriver.support.ui import WebDriverWait # 웹페이지기동 전 대기시간\n",
    "from selenium.webdriver.support import expected_conditions as EC\n",
    "\n",
    "from selenium.webdriver.chrome.options import Options\n",
    "from bs4 import BeautifulSoup\n",
    "import time\n",
    "\n",
    "import xlsxwriter as xw\n",
    "\n",
    "from io import BytesIO\n",
    "import urllib.request as req\n",
    "from fake_useragent import UserAgent\n",
    "\n",
    "chrome_options = Options()\n",
    "# chrome_options.add_argument('--headless')\n",
    "\n",
    "browser = wd.Chrome('./webdriver/chromedriver.exe', options=chrome_options)\n",
    "\n",
    "# 브라우저 내부 대기 시간\n",
    "browser.implicitly_wait(5)\n",
    "\n",
    "browser.get('https://kr.trip.com/')\n",
    "\n",
    "WebDriverWait(browser, 3).until(EC.presence_of_element_located((By.XPATH, \\\n",
    "                       '//*[@id=\"main-search-box\"]/div[2]/div/div[1]/ul/li[2]' ))).click()\n",
    "\n",
    "time.sleep(2)\n",
    "\n",
    "WebDriverWait(browser, 3).until(EC.presence_of_element_located((By.XPATH, \\\n",
    "                       '//*[@id=\"searchBoxCon\"]/div[2]/div/form/div/div[2]/ul/li[2]/div[1]/input' ))).click()\n",
    "\n",
    "time.sleep(4)\n",
    "\n",
    "WebDriverWait(browser, 3).until(EC.presence_of_element_located((By.XPATH, \\\n",
    "                       '//*[@id=\"address_suggestionContainer_undefined\"]/div/div[2]/ul/li/a[1]' ))).click()\n",
    "\n",
    "time.sleep(3)\n",
    "\n",
    "WebDriverWait(browser, 3).until(EC.presence_of_element_located((By.XPATH, \\\n",
    "                       '//*[@id=\"address_suggestionContainer_undefined\"]/div/div[2]/ul/li/a[2]' ))).click()\n",
    "\n",
    "# time.sleep(5)\n",
    "\n",
    "# WebDriverWait(browser, 3).until(EC.presence_of_element_located((By.XPATH, \\\n",
    "#                        '//*[@id=\"searchBoxCon\"]/div/div/form/div/div[2]/ul/li[2]/div[3]/div/div[1]/div[1]/div/ul[3]/li[6]' ))).click()\n",
    "# time.sleep(1)\n",
    "# WebDriverWait(browser, 3).until(EC.presence_of_element_located((By.XPATH, \\\n",
    "#                        '//*[@id=\"searchBoxCon\"]/div/div/form/div/div[2]/ul/li[2]/div[3]/div/div[1]/div[2]/div/ul[4]/li[3]' ))).click()\n"
   ]
  }
 ],
 "metadata": {
  "kernelspec": {
   "display_name": "Python [conda env:python_crawling] *",
   "language": "python",
   "name": "conda-env-python_crawling-py"
  },
  "language_info": {
   "codemirror_mode": {
    "name": "ipython",
    "version": 3
   },
   "file_extension": ".py",
   "mimetype": "text/x-python",
   "name": "python",
   "nbconvert_exporter": "python",
   "pygments_lexer": "ipython3",
   "version": "3.7.7"
  }
 },
 "nbformat": 4,
 "nbformat_minor": 4
}
