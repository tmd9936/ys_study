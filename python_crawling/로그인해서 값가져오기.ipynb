{
 "cells": [
  {
   "cell_type": "code",
   "execution_count": 26,
   "metadata": {},
   "outputs": [
    {
     "name": "stdout",
     "output_type": "stream",
     "text": [
      "<p class=\"user\">\n",
      "<strong>tmd9936</strong>님\n",
      "\t\t\t\t\t\t\t\t\t\t</p>\n",
      "입금대기 0\n",
      "결제완료 0\n",
      "배송중 0\n",
      "배송완료 0\n",
      "취소중 / 취소완료 0\n",
      "[]\n"
     ]
    }
   ],
   "source": [
    "import requests as req\n",
    "from fake_useragent import UserAgent\n",
    "from bs4 import BeautifulSoup\n",
    "\n",
    "login_info = {\n",
    "    'redirectUrl' : 'http://www.danawa.com/member/myPage.php',\n",
    "    'loginMemberType': 'general',\n",
    "    'id': '',\n",
    "    'password': ''\n",
    "}\n",
    "\n",
    "# Header 정보 \n",
    "headers = {\n",
    "    'User-Agent':UserAgent().chrome,\n",
    "    'Referer':'https://auth.danawa.com/login?url=http%3A%2F%2Fwww.danawa.com%2Fmember%2FmyPage.php'\n",
    "}\n",
    "\n",
    "with req.session() as sess:\n",
    "    login_url = 'https://auth.danawa.com/login'\n",
    "    result = sess.post(login_url, login_info, headers=headers)\n",
    "    \n",
    "    # 로그인 시도 실패 시 예외처리\n",
    "    if result.status_code != 200:\n",
    "        raise Exception(\"로그인 실패\")\n",
    "        \n",
    "    # print(result.content.decode('utf-8'))\n",
    "    \n",
    "    # 로그인 성공 후에 세션 정보를 가지고 페이지 이동\n",
    "    res = sess.get('https://buyer.danawa.com/order/Order/orderList', headers=headers)\n",
    "    \n",
    "    # print(res.text)\n",
    "    \n",
    "    # bs4 생성\n",
    "    bs = BeautifulSoup(res.text, 'lxml')\n",
    "    \n",
    "    # 로그인 성공 했는지 여부 확인하기\n",
    "    chk_login = bs.find('p', class_='user')\n",
    "    print(chk_login)\n",
    "    \n",
    "    if chk_login is None:\n",
    "        raise Exception('비밀번호 오류')\n",
    "    \n",
    "    order_info = bs.select('.info_list > li')\n",
    "\n",
    "    for info in order_info:\n",
    "        item = info.select_one('.item').text.strip()\n",
    "        num = info.select_one('strong.item_num').text.strip()\n",
    "        \n",
    "        print(item, num) \n",
    "    \n",
    "    res2 = sess.get('http://www.danawa.com/myPage/wishList.php', headers=headers)\n",
    "    \n",
    "    bs2 = BeautifulSoup(res2.text, 'lxml')\n",
    "    \n",
    "    "
   ]
  },
  {
   "cell_type": "code",
   "execution_count": null,
   "metadata": {},
   "outputs": [],
   "source": []
  }
 ],
 "metadata": {
  "kernelspec": {
   "display_name": "Python 3",
   "language": "python",
   "name": "python3"
  },
  "language_info": {
   "codemirror_mode": {
    "name": "ipython",
    "version": 3
   },
   "file_extension": ".py",
   "mimetype": "text/x-python",
   "name": "python",
   "nbconvert_exporter": "python",
   "pygments_lexer": "ipython3",
   "version": "3.7.6"
  }
 },
 "nbformat": 4,
 "nbformat_minor": 4
}
