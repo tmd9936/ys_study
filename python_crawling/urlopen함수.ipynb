{
 "cells": [
  {
   "cell_type": "code",
   "execution_count": 12,
   "metadata": {},
   "outputs": [
    {
     "name": "stdout",
     "output_type": "stream",
     "text": [
      "--------------------------------\n",
      "Header Info:Date: Thu, 30 Jul 2020 06:28:40 GMT\n",
      "Server: Apache\n",
      "P3P: CP=\"ALL CURa ADMa DEVa TAIa OUR BUS IND PHY ONL UNI PUR FIN COM NAV INT DEM CNT STA POL HEA PRE LOC OTC\"\n",
      "Accept-Ranges: bytes\n",
      "Last-Modified: Thu, 27 Jun 2019 10:27:08 GMT\n",
      "Content-Length: 47978\n",
      "Cache-Control: max-age=2592000\n",
      "Access-Control-Allow-Origin: *\n",
      "Access-Control-Allow-Credentials: true\n",
      "Access-Control-Allow-Headers: accept, content-type\n",
      "Access-Control-Allow-Methods: GET, POST\n",
      "Content-Type: image/jpeg\n",
      "Age: 712191\n",
      "Expires: Sat, 27 Jul 2019 10:27:08 GMT\n",
      "Connection: close\n",
      "\n",
      "\n",
      "HTTP Sttatus Code : 200\n",
      "--------------------------------\n",
      "\n",
      "다운로드 성공\n",
      "--------------------------------\n",
      "Header Info:Date: Thu, 30 Jul 2020 06:28:42 GMT\n",
      "Expires: -1\n",
      "Cache-Control: private, max-age=0\n",
      "Content-Type: text/html; charset=ISO-8859-1\n",
      "P3P: CP=\"This is not a P3P policy! See g.co/p3phelp for more info.\"\n",
      "Server: gws\n",
      "X-XSS-Protection: 0\n",
      "X-Frame-Options: SAMEORIGIN\n",
      "Set-Cookie: 1P_JAR=2020-07-30-06; expires=Sat, 29-Aug-2020 06:28:42 GMT; path=/; domain=.google.com; Secure\n",
      "Set-Cookie: NID=204=fMqM4x_cc7tbc3lsdk1pIpjOisHFTZmxeFKwg4jfh6KmL33UIsUrbKxVgmqsDc0KBwwE4RTEESSIcNif0WL3N9EpG9ENUQQiz0wMaxKpM_YnOqL74kCFoDRZ4VF0hWM6Fc26j34SB9HZs8Eg0uRXSlhAOQXupNizWpoTHUne7VI; expires=Fri, 29-Jan-2021 06:28:42 GMT; path=/; domain=.google.com; HttpOnly\n",
      "Accept-Ranges: none\n",
      "Vary: Accept-Encoding\n",
      "Connection: close\n",
      "Transfer-Encoding: chunked\n",
      "\n",
      "\n",
      "HTTP Sttatus Code : 200\n",
      "--------------------------------\n",
      "\n",
      "다운로드 성공\n"
     ]
    }
   ],
   "source": [
    "import urllib.request as req\n",
    "from urllib.error import URLError, HTTPError\n",
    "\n",
    "# 저장 경로 및 파일명 \n",
    "paths = ['c:/dog2.jpg', 'c:/google2.html']\n",
    "\n",
    "# 리소스 URL\n",
    "src_url = [\"http://blogfiles.naver.net/20150919_90/kimiyong88_1442646576744NAFqt_JPEG/B3%95%8C4.JPG\", \"http://google.com\"]\n",
    "\n",
    "for idx, url in enumerate(src_url):\n",
    "    try:\n",
    "        # 웹 정보 수신하기\n",
    "        response = req.urlopen(url)\n",
    "\n",
    "        # 웹으로부터 수신 받은 내용\n",
    "        contents = response.read()\n",
    "        \n",
    "        # 정보 출력\n",
    "        print('--------------------------------')\n",
    "        print(f'Header Info:{response.info()}')\n",
    "        print(f'HTTP Sttatus Code : {response.getcode()}')\n",
    "        print('--------------------------------')\n",
    "        \n",
    "        # 파일 쓰기\n",
    "        with open(paths[idx], 'wb') as fp:\n",
    "            fp.write(contents)\n",
    "        \n",
    "    # HTTP 에러 발생시\n",
    "    except HTTPError as e:\n",
    "        print('다운로드 실패')\n",
    "        print('HTTP Error Code : ', e.code)  \n",
    "    except URLError as e:\n",
    "        print(\"다운로드 실패\")\n",
    "        print(\"URL Error reason\", e.reason)\n",
    "    else:\n",
    "        print()\n",
    "        print('다운로드 성공')"
   ]
  },
  {
   "cell_type": "code",
   "execution_count": null,
   "metadata": {},
   "outputs": [],
   "source": []
  }
 ],
 "metadata": {
  "kernelspec": {
   "display_name": "Python 3",
   "language": "python",
   "name": "python3"
  },
  "language_info": {
   "codemirror_mode": {
    "name": "ipython",
    "version": 3
   },
   "file_extension": ".py",
   "mimetype": "text/x-python",
   "name": "python",
   "nbconvert_exporter": "python",
   "pygments_lexer": "ipython3",
   "version": "3.7.6"
  }
 },
 "nbformat": 4,
 "nbformat_minor": 4
}
