{
 "cells": [
  {
   "cell_type": "code",
   "execution_count": 51,
   "metadata": {},
   "outputs": [
    {
     "name": "stdout",
     "output_type": "stream",
     "text": [
      "순위:1, 종목명:삼성전자, 현재가:57700\n",
      "순위:2, 종목명:씨젠, 현재가:306000\n",
      "순위:3, 종목명:이루다, 현재가:21750\n",
      "순위:4, 종목명:한미약품, 현재가:380000\n",
      "순위:5, 종목명:신풍제약, 현재가:79700\n",
      "순위:6, 종목명:현대차, 현재가:140500\n",
      "순위:7, 종목명:카카오, 현재가:364000\n",
      "순위:8, 종목명:삼성SDI, 현재가:471000\n",
      "순위:9, 종목명:LG화학, 현재가:675000\n",
      "순위:10, 종목명:SK이노베이션, 현재가:163500\n"
     ]
    }
   ],
   "source": [
    "import urllib.request as req\n",
    "from fake_useragent import UserAgent\n",
    "import json\n",
    "import pprint\n",
    "\n",
    "# 가짜 User-Agent 생성하기\n",
    "ua = UserAgent()\n",
    "\n",
    "# print(ua.chrome)\n",
    "# print(ua.ie)\n",
    "# print(ua.safari)\n",
    "\n",
    "# print(ua.random)\n",
    "\n",
    "# 헤더 정보를 셋팅\n",
    "headers = {\n",
    "    'User-agent' : ua.ie,\n",
    "    'referer' : 'https://finance.daum.net/'\n",
    "}\n",
    "\n",
    "# 인기 검색 종목 요청 URL\n",
    "url = 'https://finance.daum.net/api/search/ranks?limit=10'\n",
    "\n",
    "# 헤더 정보가 있을 경우에는 Request 클래스를 사용함.\n",
    "\n",
    "res = req.urlopen(req.Request(url, headers=headers)).read().decode('utf-8')\n",
    "# print('res :', res)\n",
    "\n",
    "rank_json = json.loads(res)['data']\n",
    "#print(rank_json)\n",
    "\n",
    "for info in rank_json:\n",
    "    # print(info.get('name'), info.get('tradePrice'))\n",
    "    print(f\"순위:{info.get('rank')}, 종목명:{info.get('name')}, 현재가:{info.get('tradePrice')}\")\n",
    "    \n",
    "\n",
    "# print(json.dumps(rank_json, indent=4, sort_keys=True))\n",
    "\n",
    "# pprint.pprint(rank_json)\n"
   ]
  },
  {
   "cell_type": "code",
   "execution_count": null,
   "metadata": {},
   "outputs": [],
   "source": []
  },
  {
   "cell_type": "code",
   "execution_count": null,
   "metadata": {},
   "outputs": [],
   "source": []
  }
 ],
 "metadata": {
  "kernelspec": {
   "display_name": "Python 3",
   "language": "python",
   "name": "python3"
  },
  "language_info": {
   "codemirror_mode": {
    "name": "ipython",
    "version": 3
   },
   "file_extension": ".py",
   "mimetype": "text/x-python",
   "name": "python",
   "nbconvert_exporter": "python",
   "pygments_lexer": "ipython3",
   "version": "3.7.6"
  }
 },
 "nbformat": 4,
 "nbformat_minor": 4
}
