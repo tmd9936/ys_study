{
 "cells": [
  {
   "cell_type": "markdown",
   "metadata": {},
   "source": [
    "### urllib 사용법"
   ]
  },
  {
   "cell_type": "code",
   "execution_count": 2,
   "metadata": {},
   "outputs": [
    {
     "name": "stdout",
     "output_type": "stream",
     "text": [
      "Date: Thu, 30 Jul 2020 05:52:17 GMT\n",
      "Accept-Ranges: bytes\n",
      "Access-Control-Allow-Credentials: true\n",
      "Access-Control-Allow-Headers: accept, content-type\n",
      "Access-Control-Allow-Methods: GET, POST\n",
      "Access-Control-Allow-Origin: *\n",
      "Cache-Control: max-age=2592000\n",
      "Content-Length: 53130\n",
      "Content-Type: image/jpeg\n",
      "Last-Modified: Fri, 24 Jul 2020 13:30:38 GMT\n",
      "P3p: CP=\"ALL CURa ADMa DEVa TAIa OUR BUS IND PHY ONL UNI PUR FIN COM NAV INT DEM CNT STA POL HEA PRE LOC OTC\"\n",
      "Age: 490899\n",
      "Expires: Sun, 23 Aug 2020 13:30:38 GMT\n",
      "Connection: close\n",
      "\n",
      "\n",
      "Date: Thu, 30 Jul 2020 05:52:18 GMT\n",
      "Expires: -1\n",
      "Cache-Control: private, max-age=0\n",
      "Content-Type: text/html; charset=ISO-8859-1\n",
      "P3P: CP=\"This is not a P3P policy! See g.co/p3phelp for more info.\"\n",
      "Server: gws\n",
      "X-XSS-Protection: 0\n",
      "X-Frame-Options: SAMEORIGIN\n",
      "Set-Cookie: 1P_JAR=2020-07-30-05; expires=Sat, 29-Aug-2020 05:52:18 GMT; path=/; domain=.google.com; Secure\n",
      "Set-Cookie: NID=204=vJdprC2D_zCReznO7Ut2f1hQ1V-laTLeEr8KTgqv74RHKwsEZWU3_2nmV3ok1OJugCyol4w7GJ-034b8LqDBWRS4kwr2mEqySVef8m1OFS6Ogj3c3Sniwq6J0QBRbgzSpuzxtncL6TLeYoTqYLbZ8Ae7VqbKdw-KpdNvPE4TjIY; expires=Fri, 29-Jan-2021 05:52:18 GMT; path=/; domain=.google.com; HttpOnly\n",
      "Accept-Ranges: none\n",
      "Vary: Accept-Encoding\n",
      "Connection: close\n",
      "Transfer-Encoding: chunked\n",
      "\n",
      "\n",
      "파일1 : c:/dog.jpg\n",
      "파일2 : c:/google_index.html\n",
      "다운로드 성공\n"
     ]
    }
   ],
   "source": [
    "import urllib.request as req\n",
    "\n",
    "# 원하는 파일 URL\n",
    "image_url = \"http://blogfiles.naver.net/20100124_158/songjs115_1264330943638fPu43_jpg/1261628778_solo78_songjs115.jpg\"\n",
    "html_url = \"http://google.com/\"\n",
    "\n",
    "# 저장 폴더 지정\n",
    "save_path1 = r\"c:/dog.jpg\"\n",
    "save_path2 = r\"c:/google_index.html\"\n",
    "\n",
    "try:\n",
    "    file1, header1 = req.urlretrieve(image_url, save_path1)\n",
    "    file2, header2 = req.urlretrieve(html_url, save_path2)\n",
    "except Exception as e:\n",
    "    print('다운로드 실패!!')\n",
    "    print(e)\n",
    "else:\n",
    "    print(header1)\n",
    "    print(header2)\n",
    "    \n",
    "    # 다운로드 파일 정보\n",
    "    print(f\"파일1 : {file1}\")\n",
    "    print(f\"파일2 : {file2}\")\n",
    "    \n",
    "    print('다운로드 성공')\n",
    "\n"
   ]
  },
  {
   "cell_type": "code",
   "execution_count": null,
   "metadata": {},
   "outputs": [],
   "source": []
  }
 ],
 "metadata": {
  "kernelspec": {
   "display_name": "Python 3",
   "language": "python",
   "name": "python3"
  },
  "language_info": {
   "codemirror_mode": {
    "name": "ipython",
    "version": 3
   },
   "file_extension": ".py",
   "mimetype": "text/x-python",
   "name": "python",
   "nbconvert_exporter": "python",
   "pygments_lexer": "ipython3",
   "version": "3.7.6"
  }
 },
 "nbformat": 4,
 "nbformat_minor": 4
}
