{
 "cells": [
  {
   "cell_type": "code",
   "execution_count": 39,
   "metadata": {
    "scrolled": true
   },
   "outputs": [
    {
     "name": "stdout",
     "output_type": "stream",
     "text": [
      "서울신문 http://newsstand.naver.com/?list=&pcode=081\n",
      "일간스포츠 http://newsstand.naver.com/?list=&pcode=241\n",
      "프레시안 http://newsstand.naver.com/?list=&pcode=002\n",
      "KBS World http://newsstand.naver.com/?list=&pcode=326\n",
      "문화일보 http://newsstand.naver.com/?list=&pcode=021\n",
      "한국일보 http://newsstand.naver.com/?list=&pcode=038\n",
      "코리아헤럴드 http://newsstand.naver.com/?list=&pcode=044\n",
      "마이데일리 http://newsstand.naver.com/?list=&pcode=117\n",
      "JTBC http://newsstand.naver.com/?list=&pcode=904\n",
      "매일경제 http://newsstand.naver.com/?list=&pcode=009\n",
      "헤럴드경제 http://newsstand.naver.com/?list=&pcode=016\n",
      "조선일보 http://newsstand.naver.com/?list=&pcode=023\n",
      "SBS http://newsstand.naver.com/?list=&pcode=055\n",
      "세계일보 http://newsstand.naver.com/?list=&pcode=022\n",
      "시사인 http://newsstand.naver.com/?list=&pcode=308\n",
      "경기일보 http://newsstand.naver.com/?list=&pcode=339\n",
      "기호일보 http://newsstand.naver.com/?list=&pcode=909\n",
      "인천일보 http://newsstand.naver.com/?list=&pcode=387\n",
      "철강금속신문 http://newsstand.naver.com/?list=&pcode=956\n",
      "월간노동법률 http://newsstand.naver.com/?list=&pcode=820\n",
      "헬스조선 http://newsstand.naver.com/?list=&pcode=346\n",
      "KBC광주방송 http://newsstand.naver.com/?list=&pcode=980\n",
      "이웃집과학자 http://newsstand.naver.com/?list=&pcode=988\n",
      "바이라인네트워크 http://newsstand.naver.com/?list=&pcode=819\n"
     ]
    }
   ],
   "source": [
    "from lxml.html import fromstring, tostring\n",
    "import requests\n",
    "\n",
    "\n",
    "'''\n",
    "스크래핑 메인함수     \n",
    "'''\n",
    "def main():\n",
    "    # 세션 사용\n",
    "    session = requests.Session()\n",
    "    \n",
    "    # 스크래핑 대상 URL\n",
    "    response = session.get('https://www.naver.com')\n",
    "    \n",
    "    # 링크 목록 획득 함수 호출\n",
    "    urls = newspaper_link_list(response)\n",
    "    \n",
    "    # 결과 출력\n",
    "#     for url in urls:\n",
    "#         print(url)\n",
    "    for name, url in urls.items():\n",
    "        print(name, url)\n",
    "\n",
    "# 신문사의 링크 목록을 획득\n",
    "def newspaper_link_list(response):\n",
    "    # URL 리스트 선언\n",
    "    urls = {}\n",
    "    \n",
    "    # print(response.content)\n",
    "    # 태그정보를 문자열 저장\n",
    "#     root = lxml.html.fromstring(response.content)\n",
    "    root = fromstring(response.content)\n",
    "    # print(root)\n",
    "    \n",
    "#     for a in root.cssselect('._NM_UI_PAGE_CONTAINER .popup_wrap .btn_popup:last-child'):\n",
    "    for a in root.xpath('//div[@class=\"_NM_UI_PAGE_CONTAINER\"]//div[@class=\"popup_wrap\"]//a[@class=\"btn_popup\"]'):\n",
    "        # 링크 주소\n",
    "#         url = a.get('href')\n",
    "#         print(tostring(a, pretty_print=True))\n",
    "        # 리스트에 삽입\n",
    "        # urls.append({'href':url})\n",
    "        name, url = extract_contents(a)\n",
    "        \n",
    "        urls[name] = url\n",
    "        \n",
    "    return urls\n",
    "\n",
    "def extract_contents(dom):\n",
    "    # url 링크\n",
    "    link = dom.get('href')\n",
    "    # print(dom)\n",
    "    # <Element a at 0x248e41a5548>\n",
    "    \n",
    "    # img 요소(Element)를 리스트에 리턴한다.\n",
    "    # dom.xpath('../../a[@class=\"thumb\"]/img')\n",
    "    # [<Element img at 0x248e41bd4a8>]\n",
    "    # print(dom.xpath('../../a[@class=\"thumb\"]/img'))\n",
    "    \n",
    "    # 신문사 명\n",
    "    name = dom.xpath('../../a[@class=\"thumb\"]/img')[0].get('alt')\n",
    "    return name, link\n",
    "    \n",
    "\n",
    "if __name__ == '__main__':\n",
    "    main()"
   ]
  },
  {
   "cell_type": "code",
   "execution_count": null,
   "metadata": {},
   "outputs": [],
   "source": []
  }
 ],
 "metadata": {
  "kernelspec": {
   "display_name": "Python 3",
   "language": "python",
   "name": "python3"
  },
  "language_info": {
   "codemirror_mode": {
    "name": "ipython",
    "version": 3
   },
   "file_extension": ".py",
   "mimetype": "text/x-python",
   "name": "python",
   "nbconvert_exporter": "python",
   "pygments_lexer": "ipython3",
   "version": "3.7.6"
  }
 },
 "nbformat": 4,
 "nbformat_minor": 4
}
