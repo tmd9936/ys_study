{
 "cells": [
  {
   "cell_type": "markdown",
   "metadata": {},
   "source": [
    "# chrome webdriver 버전별 다운로드 사이트\n",
    "- https://sites.google.com/a/chromium.org/chromedriver/"
   ]
  },
  {
   "cell_type": "code",
   "execution_count": 17,
   "metadata": {},
   "outputs": [],
   "source": [
    "from selenium import webdriver as wd\n",
    "\n",
    "# webdriver 설정(Chrome, ie, Firefox ...)\n",
    "browser = wd.Chrome('./webdriver/chromedriver.exe')\n",
    "\n",
    "# 브라우저 내부 대기 설정\n",
    "browser.implicitly_wait(3)\n",
    "\n",
    "# 속성 확인\n",
    "# print(dir(browser))\n",
    "\n",
    "# 브라우저 사이즈 지정 : maximize_window(), minimize_window\n",
    "browser.set_window_size(800, 600)\n",
    "\n",
    "# 페이지 이동\n",
    "browser.get('https://www.daum.net')\n",
    "\n",
    "# 페이지 내용\n",
    "# print(f'page contents : {browser.page_source}')\n",
    "\n",
    "# 세션 아이디\n",
    "# print(f'Session ID : {browser.session_id}')\n",
    "\n",
    "# 쿠키 정보 확인\n",
    "# print(f'Cookies : {browser.get_cookies()}')\n",
    "\n",
    "# 타이틀 출력\n",
    "# print(f'Title : {browser.title}')\n",
    "\n",
    "# 현재 URL 출력\n",
    "# print(f'URL : {browser.current_url}')\n",
    "\n",
    "# 검색어 입력박스 선택\n",
    "element = browser.find_element_by_css_selector('div.inner_search > input.tf_keyword')\n",
    "\n",
    "# 검색어 입력\n",
    "element.send_keys('손흥민')\n",
    "\n",
    "# 검색어 전송(submit)\n",
    "element.submit()\n",
    "\n",
    "# 스크린 샷 저장1\n",
    "browser.save_screenshot('./website_capture2.png')\n",
    "browser.get_screenshot_as_file('./website_capture3.png')\n",
    "\n",
    "# 브라우저 종료\n",
    "browser.quit()"
   ]
  },
  {
   "cell_type": "code",
   "execution_count": null,
   "metadata": {},
   "outputs": [],
   "source": []
  }
 ],
 "metadata": {
  "kernelspec": {
   "display_name": "Python [conda env:python_crawling] *",
   "language": "python",
   "name": "conda-env-python_crawling-py"
  },
  "language_info": {
   "codemirror_mode": {
    "name": "ipython",
    "version": 3
   },
   "file_extension": ".py",
   "mimetype": "text/x-python",
   "name": "python",
   "nbconvert_exporter": "python",
   "pygments_lexer": "ipython3",
   "version": "3.7.7"
  }
 },
 "nbformat": 4,
 "nbformat_minor": 4
}
