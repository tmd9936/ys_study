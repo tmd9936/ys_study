{
 "cells": [
  {
   "cell_type": "code",
   "execution_count": null,
   "metadata": {},
   "outputs": [
    {
     "name": "stdout",
     "output_type": "stream",
     "text": [
      "엔터키를 누르세요!! 게임 시작됩니다!!\n",
      "\n",
      "********* Question ***********\n",
      "manchester\n",
      "s\n",
      "\n",
      "땡!!\n",
      "\n",
      "********* Question ***********\n",
      "known\n",
      "\n",
      "\n",
      "땡!!\n",
      "\n",
      "********* Question ***********\n",
      "vacuum\n",
      "sdf\n",
      "\n",
      "땡!!\n"
     ]
    }
   ],
   "source": [
    "import random\n",
    "import time\n",
    "import winsound\n",
    "\n",
    "words = []\n",
    "n = 1 # 게임 횟수\n",
    "correct_cnt = 0 # 정답의 개수\n",
    "\n",
    "with open('./resource/word.txt', 'r') as f:\n",
    "    for word in f:\n",
    "        words.append(word.strip())\n",
    "\n",
    "input('엔터키를 누르세요!! 게임 시작됩니다!!')\n",
    "\n",
    "start = time.time()\n",
    "\n",
    "while n <= 5:\n",
    "    random.shuffle(words)\n",
    "    question = random.choice(words) # 랜덤으로 하나를 추출\n",
    "    \n",
    "    print()\n",
    "    print('********* Question ***********')\n",
    "    print(question) # 문제 출력\n",
    "    \n",
    "    answer = input() # 사용자 입력값\n",
    "    print()\n",
    "    \n",
    "    if str(question).strip() == str(answer).strip():\n",
    "        print('정답!!')\n",
    "        # 정답 사운드\n",
    "        winsound.PlaySound('./resource/good.wav', winsound.SND_FILENAME)\n",
    "        correct_cnt += 1\n",
    "    else:\n",
    "        print('땡!!')\n",
    "        winsound.PlaySound('./resource/bad.wav', winsound.SND_FILENAME)\n",
    "    n += 1\n",
    "\n",
    "end = time.time()\n",
    "\n",
    "game_time = end - start # 게임시간\n",
    "\n",
    "game_time = format(game_time, '.2f') # 소수점 두 째자리 출력\n",
    "\n",
    "if correct_cnt >= 3:\n",
    "    print('합격')\n",
    "else:\n",
    "    print('불합격')\n",
    "    \n",
    "print(f'게임시간 : {game_time}초, 정답수 : {correct_cnt}')\n",
    "\n",
    "    \n"
   ]
  },
  {
   "cell_type": "code",
   "execution_count": null,
   "metadata": {},
   "outputs": [],
   "source": []
  }
 ],
 "metadata": {
  "kernelspec": {
   "display_name": "Python 3",
   "language": "python",
   "name": "python3"
  },
  "language_info": {
   "codemirror_mode": {
    "name": "ipython",
    "version": 3
   },
   "file_extension": ".py",
   "mimetype": "text/x-python",
   "name": "python",
   "nbconvert_exporter": "python",
   "pygments_lexer": "ipython3",
   "version": "3.7.6"
  }
 },
 "nbformat": 4,
 "nbformat_minor": 4
}
