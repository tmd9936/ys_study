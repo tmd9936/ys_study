{
 "cells": [
  {
   "cell_type": "code",
   "execution_count": 22,
   "metadata": {},
   "outputs": [
    {
     "name": "stdout",
     "output_type": "stream",
     "text": [
      "폴더 생성 완료!!\n",
      "다운로드 성공\n"
     ]
    }
   ],
   "source": [
    "import urllib.parse as rep\n",
    "import urllib.request as req\n",
    "from fake_useragent import UserAgent\n",
    "from bs4 import BeautifulSoup\n",
    "import os\n",
    "\n",
    "\n",
    "# Header 정보 초기화해서 요청하기 \n",
    "# header 객체 초기값 요청\n",
    "opener = req.build_opener()\n",
    "opener.addheaders = [('User-agent', UserAgent().ie)]\n",
    "# Default 위에서 셋팅한 header대로 설정\n",
    "req.install_opener(opener)\n",
    "\n",
    "base_url = 'https://search.naver.com/search.naver?where=image&sm=tab_jum&query='\n",
    "\n",
    "search_word = '고양이'\n",
    "\n",
    "# url 인코딩을 위한 설정\n",
    "quote = rep.quote_plus(search_word)\n",
    "url = base_url + quote\n",
    "\n",
    "res = req.urlopen(url)\n",
    "\n",
    "save_path = 'c:/images/' + search_word\n",
    "\n",
    "# 폴더 유무 확인 예외처리 (문제 발생시 프로그램 종료)\n",
    "try:\n",
    "    # 기존 폴더가 있는지를 체크하기\n",
    "    if not os.path.isdir(save_path):\n",
    "        # 기존 폴더가 없으면 생성\n",
    "        os.makedirs(os.path.join(save_path))\n",
    "except:\n",
    "    print('폴더 생성 실패')\n",
    "    raise RuntimeError('system 오류!')\n",
    "else:\n",
    "    print('폴더 생성 완료!!')\n",
    "\n",
    "bs = BeautifulSoup(res, 'html.parser')\n",
    "\n",
    "# print(bs.prettify())\n",
    "\n",
    "# select 사용\n",
    "img_list = bs.select('div.img_area > a.thumb._thumb > img')\n",
    "\n",
    "# print(img_list)\n",
    "\n",
    "for idx, img in enumerate(img_list, 1):\n",
    "    # 이미지 url 확인\n",
    "    # print(idx, img['data-source'])\n",
    "    \n",
    "    file_name = os.path.join(save_path, str(idx) + '.png')\n",
    "    \n",
    "    # 파일명 확인\n",
    "    # print(file_name)\n",
    "    \n",
    "    req.urlretrieve(img['data-source'], file_name)\n",
    "\n",
    "print('다운로드 성공')\n",
    "    \n",
    "    \n",
    "    \n",
    "\n",
    "\n"
   ]
  },
  {
   "cell_type": "code",
   "execution_count": null,
   "metadata": {},
   "outputs": [],
   "source": []
  }
 ],
 "metadata": {
  "kernelspec": {
   "display_name": "Python 3",
   "language": "python",
   "name": "python3"
  },
  "language_info": {
   "codemirror_mode": {
    "name": "ipython",
    "version": 3
   },
   "file_extension": ".py",
   "mimetype": "text/x-python",
   "name": "python",
   "nbconvert_exporter": "python",
   "pygments_lexer": "ipython3",
   "version": "3.7.6"
  }
 },
 "nbformat": 4,
 "nbformat_minor": 4
}
