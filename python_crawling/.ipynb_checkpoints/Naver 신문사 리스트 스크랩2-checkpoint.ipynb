{
 "cells": [
  {
   "cell_type": "code",
   "execution_count": 27,
   "metadata": {},
   "outputs": [],
   "source": [
    "from lxml.html import fromstring, tostring\n",
    "import requests\n",
    "\n",
    "\n",
    "'''\n",
    "스크래핑 메인함수     \n",
    "'''\n",
    "def main():\n",
    "    # 세션 사용\n",
    "    session = requests.Session()\n",
    "    \n",
    "    # 스크래핑 대상 URL\n",
    "    response = session.get('https://www.naver.com')\n",
    "    \n",
    "    # 링크 목록 획득 함수 호출\n",
    "    urls = newspaper_link_list(response)\n",
    "    \n",
    "    # 결과 출력\n",
    "    for url in urls:\n",
    "        print(url)\n",
    "\n",
    "# 신문사의 링크 목록을 획득\n",
    "def newspaper_link_list(response):\n",
    "    # URL 리스트 선언\n",
    "    urls = []\n",
    "    \n",
    "    # print(response.content)\n",
    "    # 태그정보를 문자열 저장\n",
    "#     root = lxml.html.fromstring(response.content)\n",
    "    root = fromstring(response.content)\n",
    "    # print(root)\n",
    "    \n",
    "#     for a in root.cssselect('._NM_UI_PAGE_CONTAINER .popup_wrap .btn_popup:last-child'):\n",
    "    for a in root.xpath('//div[@class=\"_NM_UI_PAGE_CONTAINER\"]//div[@class=\"popup_wrap\"]//a[@class=\"btn_popup\"]'):\n",
    "        # 링크 주소\n",
    "        url = a.get('href')\n",
    "        print(tostring(a, pretty_print=True))\n",
    "        # 리스트에 삽입\n",
    "        urls.append({'href':url})\n",
    "        \n",
    "#     for idx, img in enumerate(root.cssselect('._NM_UI_PAGE_CONTAINER .thumb > img')):\n",
    "#     for idx, img in enumerate(root.xpath('//div[@class=\"_NM_UI_PAGE_CONTAINER\"]//div[@class=\"thumb\"]//img[@class=\"news_logo\"]')):\n",
    "#         urls[idx]['name'] = img.get('alt')\n",
    "    return urls\n",
    "    \n",
    "\n",
    "if __name__ == '__main__':\n",
    "    main()"
   ]
  },
  {
   "cell_type": "code",
   "execution_count": null,
   "metadata": {},
   "outputs": [],
   "source": []
  }
 ],
 "metadata": {
  "kernelspec": {
   "display_name": "Python 3",
   "language": "python",
   "name": "python3"
  },
  "language_info": {
   "codemirror_mode": {
    "name": "ipython",
    "version": 3
   },
   "file_extension": ".py",
   "mimetype": "text/x-python",
   "name": "python",
   "nbconvert_exporter": "python",
   "pygments_lexer": "ipython3",
   "version": "3.7.6"
  }
 },
 "nbformat": 4,
 "nbformat_minor": 4
}
