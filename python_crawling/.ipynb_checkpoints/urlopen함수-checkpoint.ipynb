{
 "cells": [
  {
   "cell_type": "code",
   "execution_count": 7,
   "metadata": {},
   "outputs": [
    {
     "ename": "ModuleNotFoundError",
     "evalue": "No module named 'HTTPError'",
     "output_type": "error",
     "traceback": [
      "\u001b[1;31m---------------------------------------------------------------------------\u001b[0m",
      "\u001b[1;31mModuleNotFoundError\u001b[0m                       Traceback (most recent call last)",
      "\u001b[1;32m<ipython-input-7-a87c7ca0c982>\u001b[0m in \u001b[0;36m<module>\u001b[1;34m\u001b[0m\n\u001b[0;32m      1\u001b[0m \u001b[1;32mimport\u001b[0m \u001b[0murllib\u001b[0m\u001b[1;33m.\u001b[0m\u001b[0mrequest\u001b[0m \u001b[1;32mas\u001b[0m \u001b[0mreq\u001b[0m\u001b[1;33m\u001b[0m\u001b[1;33m\u001b[0m\u001b[0m\n\u001b[1;32m----> 2\u001b[1;33m \u001b[1;32mimport\u001b[0m \u001b[0murllib\u001b[0m\u001b[1;33m.\u001b[0m\u001b[0merror\u001b[0m \u001b[1;32mas\u001b[0m \u001b[0mURLError\u001b[0m\u001b[1;33m,\u001b[0m \u001b[0mHTTPError\u001b[0m\u001b[1;33m\u001b[0m\u001b[1;33m\u001b[0m\u001b[0m\n\u001b[0m\u001b[0;32m      3\u001b[0m \u001b[1;33m\u001b[0m\u001b[0m\n\u001b[0;32m      4\u001b[0m \u001b[1;31m# 저장 경로 및 파일명\u001b[0m\u001b[1;33m\u001b[0m\u001b[1;33m\u001b[0m\u001b[1;33m\u001b[0m\u001b[0m\n\u001b[0;32m      5\u001b[0m \u001b[0mpaths\u001b[0m \u001b[1;33m=\u001b[0m \u001b[1;33m[\u001b[0m\u001b[1;34m'c:/dog2.jpg'\u001b[0m\u001b[1;33m,\u001b[0m \u001b[1;34m'c:/google2.html'\u001b[0m\u001b[1;33m]\u001b[0m\u001b[1;33m\u001b[0m\u001b[1;33m\u001b[0m\u001b[0m\n",
      "\u001b[1;31mModuleNotFoundError\u001b[0m: No module named 'HTTPError'"
     ]
    }
   ],
   "source": [
    "import urllib.request as req\n",
    "import urllib.error as URLError, HTTPError\n",
    "\n",
    "# 저장 경로 및 파일명 \n",
    "paths = ['c:/dog2.jpg', 'c:/google2.html']\n",
    "\n",
    "# 리소스 URL\n",
    "src_url = [\"http://blogfiles.naver.net/20150919_90/kimiyong88_1442646576744NAFqt_JPEG/B3%95%8C4.JPG\", \"http://google\"]\n",
    "\n",
    "for idx, url in enumerate(src_url)\n",
    "    try:\n",
    "        # 웹 정보 수신하기\n",
    "        response = req.urlopen(url)\n",
    "\n",
    "        # 웹으로부터 수신 받은 내용\n",
    "        contents = response.read()\n",
    "\n",
    "        print(f'Header Info:{response.info()}')\n",
    "        print(f'HTTP Sttatus Code : {response.getcode()}')\n",
    "\n",
    "    # HTTP 에러 발생시\n",
    "    except HTTPError as e:\n",
    "        print('다운로드 실패')\n",
    "        print('HTTP Error Code : ', e.code)  \n",
    "    except URLError as e:\n",
    "        print(\"다운로드 실패\")\n",
    "        print(\"URL Error reason\", e.reason)\n",
    "    else:\n",
    "        print()\n",
    "        prinr('다운로드 성공')"
   ]
  },
  {
   "cell_type": "code",
   "execution_count": null,
   "metadata": {},
   "outputs": [],
   "source": []
  }
 ],
 "metadata": {
  "kernelspec": {
   "display_name": "Python 3",
   "language": "python",
   "name": "python3"
  },
  "language_info": {
   "codemirror_mode": {
    "name": "ipython",
    "version": 3
   },
   "file_extension": ".py",
   "mimetype": "text/x-python",
   "name": "python",
   "nbconvert_exporter": "python",
   "pygments_lexer": "ipython3",
   "version": "3.7.6"
  }
 },
 "nbformat": 4,
 "nbformat_minor": 4
}
