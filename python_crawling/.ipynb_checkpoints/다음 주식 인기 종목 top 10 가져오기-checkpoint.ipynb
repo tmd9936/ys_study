{
 "cells": [
  {
   "cell_type": "code",
   "execution_count": 4,
   "metadata": {},
   "outputs": [
    {
     "name": "stdout",
     "output_type": "stream",
     "text": [
      "Mozilla/5.0 (Macintosh; Intel Mac OS X 10_10_1) AppleWebKit/537.36 (KHTML, like Gecko) Chrome/37.0.2062.124 Safari/537.36\n"
     ]
    }
   ],
   "source": [
    "import urllib.request as req\n",
    "from fake_useragent import UserAgent\n",
    "\n",
    "# 가짜 User-Agent 생성하기\n",
    "ua = UserAgent()\n",
    "\n",
    "print(ua.chrome)"
   ]
  },
  {
   "cell_type": "code",
   "execution_count": null,
   "metadata": {},
   "outputs": [],
   "source": []
  }
 ],
 "metadata": {
  "kernelspec": {
   "display_name": "Python [conda env:python_crawling] *",
   "language": "python",
   "name": "conda-env-python_crawling-py"
  },
  "language_info": {
   "codemirror_mode": {
    "name": "ipython",
    "version": 3
   },
   "file_extension": ".py",
   "mimetype": "text/x-python",
   "name": "python",
   "nbconvert_exporter": "python",
   "pygments_lexer": "ipython3",
   "version": "3.7.7"
  }
 },
 "nbformat": 4,
 "nbformat_minor": 4
}
