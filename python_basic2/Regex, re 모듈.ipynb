{
 "cells": [
  {
   "cell_type": "markdown",
   "metadata": {},
   "source": [
    "* 정규표현식 \n",
    " - regular expression\n",
    " - 특정한 패턴과 일치하는 문자열를 '검색', '치환', '제거' 하는 기능을 지원\n",
    " - 정규표현식의 도움없이 패턴을 찾는 작업(Rule 기반)은 불완전 하거나, 작업의 cost가 높음\n",
    " - e.g) 이메일 형식 판별, 전화번호 형식 판별, 숫자로만 이루어진 문자열 등"
   ]
  },
  {
   "cell_type": "markdown",
   "metadata": {},
   "source": [
    "* **raw string**\n",
    " - 문자열 앞에 r이 붙으면 해당 문자열이 구성된 그대로 문자열로 변환"
   ]
  },
  {
   "cell_type": "code",
   "execution_count": 4,
   "metadata": {},
   "outputs": [
    {
     "name": "stdout",
     "output_type": "stream",
     "text": [
      "abcdef\n",
      "\n",
      "abcdef\\n\n"
     ]
    }
   ],
   "source": [
    "a = 'abcdef\\n'\n",
    "print(a)\n",
    "b = r'abcdef\\n'\n",
    "print(b)"
   ]
  },
  {
   "cell_type": "markdown",
   "metadata": {},
   "source": [
    "#### **기본 패턴**\n",
    " - a, X, 9 등등 문자 하나하나의 character들은 정확히 해당 문자와 일치\n",
    "   - e.g) 패턴 test는 test 문자열과 일치\n",
    "   - 대소문자의 경우 기본적으로 구별하나, 구별하지 않도록 설정 가능\n",
    " - 몇몇 문자들에 대해서는 예외가 존재하는데, 이들은 틀별한 의미로 사용 됨\n",
    "   - . ^ $ * + ? { } [ ] \\ | ( )\n",
    " \n",
    " - . (마침표) - 어떤 한개의 character와 일치 (newline(엔터) 제외)\n",
    " \n",
    " - \\w - 문자 character와 일치 [a-zA-Z0-9_]\n",
    " - \\s - 공백문자와 일치\n",
    " - \\t, \\n, \\r - tab, newline, return\n",
    " - \\d - 숫자 character와 일치 [0-9]\n",
    " - ^ = 시작, $ = 끝 각각 문자열의 시작과 끝을 의미\n",
    " - \\가 붙으면 스페셜한 의미가 없어짐. 예를들어 \\\\.는 .자체를 의미 \\\\\\는 \\를 의미\n",
    " - 자세한 내용은 링크 참조 https://docs.python.org/3/library/re.html"
   ]
  },
  {
   "cell_type": "markdown",
   "metadata": {},
   "source": [
    "#### **search method**\n",
    " - 첫번째로 패턴을 찾으면 match 객체를 반환\n",
    " - 패턴을 찾지 못하면 None 반환"
   ]
  },
  {
   "cell_type": "code",
   "execution_count": 7,
   "metadata": {},
   "outputs": [],
   "source": [
    "import re"
   ]
  },
  {
   "cell_type": "code",
   "execution_count": 17,
   "metadata": {},
   "outputs": [
    {
     "name": "stdout",
     "output_type": "stream",
     "text": [
      "0\n",
      "3\n",
      "abc\n",
      "3\n",
      "6\n",
      "abc\n",
      "None\n"
     ]
    }
   ],
   "source": [
    "# Match 객체를 리턴한다.\n",
    "m = re.search(r'abc', 'abcdef')\n",
    "type(m)\n",
    "\n",
    "print(m.start()) # 매칭되는 문자의 시작부분\n",
    "print(m.end())\n",
    "print(m.group()) # 매칭된 값\n",
    "\n",
    "m2 = re.search(r'abc', '123abcdrf')\n",
    "print(m2.start())\n",
    "print(m2.end())\n",
    "print(m2.group())\n",
    "\n",
    "m3 = re.search(r'abc', '123abdrf')\n",
    "print(m3)"
   ]
  },
  {
   "cell_type": "code",
   "execution_count": 22,
   "metadata": {},
   "outputs": [
    {
     "data": {
      "text/plain": [
       "<re.Match object; span=(0, 4), match='112a'>"
      ]
     },
     "execution_count": 22,
     "metadata": {},
     "output_type": "execute_result"
    }
   ],
   "source": [
    "# m = re.search(r'\\d\\d','112abcdef119'\n",
    "# m = re.search(r'\\d\\d\\d','112abcdef119')\n",
    "# m = re.search(r'\\d\\d\\d\\d','112abcdef119')\n",
    "m = re.search(r'\\d\\d\\d\\w','112abcdef119')\n",
    "\n",
    "m"
   ]
  },
  {
   "cell_type": "code",
   "execution_count": 25,
   "metadata": {},
   "outputs": [
    {
     "data": {
      "text/plain": [
       "<re.Match object; span=(2, 6), match='&%AB'>"
      ]
     },
     "execution_count": 25,
     "metadata": {},
     "output_type": "execute_result"
    }
   ],
   "source": [
    "m = re.search(r'..\\w\\w', '@@&%ABCDabcd')\n",
    "m"
   ]
  },
  {
   "cell_type": "markdown",
   "metadata": {},
   "source": [
    "#### **metacharacters (메타 캐릭터)**"
   ]
  },
  {
   "cell_type": "markdown",
   "metadata": {},
   "source": [
    "#### **[]** 문자들의 범위를 나타내기 위해 사용\n",
    "   - [] 내부의 메타 캐릭터는 캐릭터 자체를 나타냄\n",
    "   - e.g)\n",
    "   - [abck] : a or b or c or k\n",
    "   - [abc.^] : a or b or c or . or ^\n",
    "   - [a-d]  : -와 함께 사용되면 해당 문자 사이의 범위에 속하는 문자 중 하나\n",
    "   - [0-9]  : 모든 숫자\n",
    "   - [a-z]  : 모든 소문자\n",
    "   - [A-Z]  : 모든 대문자\n",
    "   - [a-zA-Z0-9] : 모든 알파벳 문자 및 숫자\n",
    "   - [^0-9] : ^가 맨 앞에 사용 되는 경우 해당 문자 패턴이 아닌 것과 매칭"
   ]
  },
  {
   "cell_type": "code",
   "execution_count": 30,
   "metadata": {},
   "outputs": [],
   "source": [
    "# m = re.search(r'[cbm]at','dat')\n",
    "# m = re.search(r'[cbm]at','bat')\n",
    "m = re.search(r'[cbm]at', 'aat')\n",
    "m"
   ]
  },
  {
   "cell_type": "code",
   "execution_count": 33,
   "metadata": {},
   "outputs": [],
   "source": [
    "m = re.search(r'[0-9]haha','2haha')\n",
    "m = re.search(r'[0-4]haha','8haha')\n",
    "m"
   ]
  },
  {
   "cell_type": "code",
   "execution_count": 35,
   "metadata": {},
   "outputs": [],
   "source": [
    "# m = re.search(r'[abc.^]aron', 'caron')\n",
    "# m = re.search(r'[abc.^]aron', '.aron')\n",
    "m = re.search(r'[abc.^]aron', '^aron')\n",
    "m = re.search(r'[abc.^]aron', 'daron')\n",
    "\n",
    "m"
   ]
  },
  {
   "cell_type": "code",
   "execution_count": 38,
   "metadata": {},
   "outputs": [
    {
     "data": {
      "text/plain": [
       "<re.Match object; span=(0, 5), match='0aron'>"
      ]
     },
     "execution_count": 38,
     "metadata": {},
     "output_type": "execute_result"
    }
   ],
   "source": [
    "m = re.search(r'[^abc]aron','aaron')\n",
    "m = re.search(r'[^abc]aron','0aron')\n",
    "m"
   ]
  },
  {
   "cell_type": "markdown",
   "metadata": {},
   "source": [
    "#### **\\** \n",
    " 1. 다른 문자와 함께 사용되어 특수한 의미를 지님\n",
    "   - \\d : 숫자를          [0-9]와 동일\n",
    "   - \\D : 숫자가 아닌 문자  [^0-9]와 동일\n",
    "   - \\s : 공백 문자(띄어쓰기, 탭, 엔터 등)\n",
    "   - \\S : 공백이 아닌 문자\n",
    "   - \\w : 알파벳대소문자, 숫자 [0-9a-zA-Z]와 동일\n",
    "   - \\W : non alpha-numeric 문자 [^0-9a-zA-Z]와 동일\n",
    " 2. 메타 캐릭터가 캐릭터 자체를 표현하도록 할 경우 사용\n",
    "   - \\\\. , \\\\\\\n"
   ]
  },
  {
   "cell_type": "code",
   "execution_count": 42,
   "metadata": {},
   "outputs": [],
   "source": [
    "m = re.search('\\sand', 'apple and banana')\n",
    "m = re.search('\\Sand', 'apple and banana')\n",
    "m"
   ]
  },
  {
   "cell_type": "markdown",
   "metadata": {},
   "source": [
    "#### **.** \n",
    " - 모든 문자를 의미"
   ]
  },
  {
   "cell_type": "code",
   "execution_count": 45,
   "metadata": {},
   "outputs": [
    {
     "data": {
      "text/plain": [
       "<re.Match object; span=(0, 3), match='p\\\\g'>"
      ]
     },
     "execution_count": 45,
     "metadata": {},
     "output_type": "execute_result"
    }
   ],
   "source": [
    "m = re.search(r'p.g','p\\g')\n",
    "m = re.search(r'p.g','p\\\\g')\n",
    "m"
   ]
  },
  {
   "cell_type": "markdown",
   "metadata": {},
   "source": [
    "#### **반복패턴**\n",
    " - 패턴 뒤에 위치하는 *, +, ?는 해당 패턴이 반복적으로 존재하는지 검사 \n",
    "   - '+' -> 1번 이상의 패턴이 발생\n",
    "   - '*' -> 0번 이상의 패턴이 발생\n",
    "   - '?' -> 0 혹은 1번의 패턴이 발생\n",
    " - 반복을 패턴의 경우 greedy하게 검색 함, 즉 가능한 많은 부분이 매칭되도록 함\n",
    "  - e.g) a[bcd]*b  패턴을 abcbdccb에서 검색하는 경우\n",
    "    - ab, abcb, abcbdccb 전부 가능 하지만 최대한 많은 부분이 매칭된 abcbdccb가 검색된 패턴"
   ]
  },
  {
   "cell_type": "code",
   "execution_count": 47,
   "metadata": {},
   "outputs": [
    {
     "data": {
      "text/plain": [
       "<re.Match object; span=(0, 9), match='abcbdcccb'>"
      ]
     },
     "execution_count": 47,
     "metadata": {},
     "output_type": "execute_result"
    }
   ],
   "source": [
    "m = re.search('a[bcd]*b','ab')\n",
    "m = re.search('a[bcd]*b','abcbdcccb')\n",
    "m"
   ]
  },
  {
   "cell_type": "markdown",
   "metadata": {},
   "source": []
  },
  {
   "cell_type": "code",
   "execution_count": 53,
   "metadata": {},
   "outputs": [
    {
     "data": {
      "text/plain": [
       "<re.Match object; span=(0, 4), match='b12a'>"
      ]
     },
     "execution_count": 53,
     "metadata": {},
     "output_type": "execute_result"
    }
   ],
   "source": [
    "m = re.search('b\\w+a', 'banana')\n",
    "m = re.search('b\\w+a', 'ba')\n",
    "m = re.search('b\\w+a', 'b12a')\n",
    "\n",
    "m"
   ]
  },
  {
   "cell_type": "code",
   "execution_count": 55,
   "metadata": {},
   "outputs": [
    {
     "data": {
      "text/plain": [
       "<re.Match object; span=(1, 3), match='ii'>"
      ]
     },
     "execution_count": 55,
     "metadata": {},
     "output_type": "execute_result"
    }
   ],
   "source": [
    "m = re.search('i+','piigiiii')\n",
    "m"
   ]
  },
  {
   "cell_type": "code",
   "execution_count": 61,
   "metadata": {},
   "outputs": [
    {
     "data": {
      "text/plain": [
       "<re.Match object; span=(0, 2), match='pg'>"
      ]
     },
     "execution_count": 61,
     "metadata": {},
     "output_type": "execute_result"
    }
   ],
   "source": [
    "m = re.search('pi+g','piigiiii')\n",
    "m = re.search('pi+g','pgiiiiii')\n",
    "m = re.search('pi*g','pgiiiiii')\n",
    "m"
   ]
  },
  {
   "cell_type": "code",
   "execution_count": 68,
   "metadata": {},
   "outputs": [
    {
     "data": {
      "text/plain": [
       "<re.Match object; span=(0, 4), match='http'>"
      ]
     },
     "execution_count": 68,
     "metadata": {},
     "output_type": "execute_result"
    }
   ],
   "source": [
    "m = re.search('https?','https://www.google.com')\n",
    "m = re.search('https?','http://www.google.com')\n",
    "m = re.search('https?','httpd://www.google.com')\n",
    "\n",
    "m"
   ]
  },
  {
   "cell_type": "markdown",
   "metadata": {},
   "source": [
    "#### **^**, **$**\n",
    " - ^  문자열의 맨 앞부터 일치하는 경우 검색\n",
    " - \\$  문자열의 맨 뒤부터 일치하는 경우 검색"
   ]
  },
  {
   "cell_type": "code",
   "execution_count": 70,
   "metadata": {},
   "outputs": [
    {
     "data": {
      "text/plain": [
       "<re.Match object; span=(2, 6), match='bana'>"
      ]
     },
     "execution_count": 70,
     "metadata": {},
     "output_type": "execute_result"
    }
   ],
   "source": [
    "m = re.search('b\\w+a', 'cabana')\n",
    "m"
   ]
  },
  {
   "cell_type": "code",
   "execution_count": 72,
   "metadata": {},
   "outputs": [],
   "source": [
    "# 시작부터 일치하지 않음.\n",
    "m = re.search('^b\\w+a', 'cabana')\n",
    "m"
   ]
  },
  {
   "cell_type": "code",
   "execution_count": 75,
   "metadata": {},
   "outputs": [
    {
     "data": {
      "text/plain": [
       "<re.Match object; span=(0, 6), match='babana'>"
      ]
     },
     "execution_count": 75,
     "metadata": {},
     "output_type": "execute_result"
    }
   ],
   "source": [
    "m = re.search('^b\\w+a', 'babana')\n",
    "m"
   ]
  },
  {
   "cell_type": "code",
   "execution_count": 77,
   "metadata": {},
   "outputs": [],
   "source": [
    "m = re.search('b\\w+a$', 'cabana')\n",
    "m = re.search('b\\w+a$', 'cabanas')\n",
    "m"
   ]
  },
  {
   "cell_type": "markdown",
   "metadata": {},
   "source": [
    " #### **grouping**\n",
    "  - ()을 사용하여 그루핑\n",
    "  - 매칭 결과를 각 그룹별로 분리 가능\n",
    "  - 패턴 명시 할 때, 각 그룹을 괄호() 안에 넣어 분리하여 사용"
   ]
  },
  {
   "cell_type": "code",
   "execution_count": 86,
   "metadata": {},
   "outputs": [
    {
     "name": "stdout",
     "output_type": "stream",
     "text": [
      "fgda\n",
      "gmail.com\n",
      "fgda@gmail.com\n",
      "<re.Match object; span=(0, 14), match='fgda@gmail.com'>\n"
     ]
    }
   ],
   "source": [
    "m = re.search(r'\\w+@.+','text@gmail.com')\n",
    "m = re.search(r'\\w+@.+','fgda@gmail.com')\n",
    "\n",
    "m = re.search(r'(\\w+)@(.+)','fgda@gmail.com')\n",
    "\n",
    "\n",
    "\n",
    "print(m.group(1))\n",
    "print(m.group(2))\n",
    "print(m.group(0)) # 기본값\n",
    "print(m)"
   ]
  },
  {
   "cell_type": "markdown",
   "metadata": {},
   "source": [
    " #### **{}**\n",
    "  - *, +, ?을 사용하여 반복적인 패턴을 찾는 것이 가능하나, 반복의 횟수 제한은 불가\n",
    "  - 패턴뒤에 위치하는 중괄호{}에 숫자를 명시하면 해당 숫자 만큼의 반복인 경우에만 매칭\n",
    "  - {4} - 4번 반복\n",
    "  - {3,4} - 3 ~ 4번 반복"
   ]
  },
  {
   "cell_type": "code",
   "execution_count": 89,
   "metadata": {},
   "outputs": [],
   "source": [
    "m = re.search('pi+g','piiiig')\n",
    "m = re.search('pi{3}g','piiiig')\n",
    "m = re.search('pi{3}g','piiig')\n",
    "# 3 ~ 6번 반복\n",
    "m = re.search('pi{3,6}g','piiiiig')\n",
    "# i가 6을 초과하면 검색안됨\n",
    "m = re.search('pi{3,6}g','piiiiiiiiig')\n",
    "m\n"
   ]
  },
  {
   "cell_type": "markdown",
   "metadata": {},
   "source": [
    "#### **미니멈 매칭(non-greedy way)**\n",
    " - 기본적으로 *, +, ?를 사용하면 greedy(맥시멈 매칭)하게 동작함\n",
    " - *?, +?을 이용하여 해당 기능을 구현"
   ]
  },
  {
   "cell_type": "code",
   "execution_count": 91,
   "metadata": {},
   "outputs": [
    {
     "data": {
      "text/plain": [
       "<re.Match object; span=(0, 5), match='<div>'>"
      ]
     },
     "execution_count": 91,
     "metadata": {},
     "output_type": "execute_result"
    }
   ],
   "source": [
    "m = re.search(r'<.+>','<div>RegexTest</div>')\n",
    "m = re.search(r'<.+?>','<div>RegexTest</div>')\n",
    "m"
   ]
  },
  {
   "cell_type": "markdown",
   "metadata": {},
   "source": [
    "#### **{}?**\n",
    " - {m,n}의 경우 m번 에서 n번 반복하나 greedy하게 동작\n",
    " - {m,n}?로 사용하면 non-greedy하게 동작. 즉, 최소 m번만 매칭하면 만족"
   ]
  },
  {
   "cell_type": "code",
   "execution_count": 93,
   "metadata": {},
   "outputs": [
    {
     "data": {
      "text/plain": [
       "<re.Match object; span=(0, 5), match='aaaaa'>"
      ]
     },
     "execution_count": 93,
     "metadata": {},
     "output_type": "execute_result"
    }
   ],
   "source": [
    "m = re.search(r'a{3,5}', 'aaaaa')\n",
    "m"
   ]
  },
  {
   "cell_type": "code",
   "execution_count": 94,
   "metadata": {},
   "outputs": [
    {
     "data": {
      "text/plain": [
       "<re.Match object; span=(0, 3), match='aaa'>"
      ]
     },
     "execution_count": 94,
     "metadata": {},
     "output_type": "execute_result"
    }
   ],
   "source": [
    "# 최소로 동작\n",
    "m = re.search(r'a{3,5}?', 'aaaaa')\n",
    "m"
   ]
  },
  {
   "cell_type": "markdown",
   "metadata": {},
   "source": [
    "#### **match() 함수**\n",
    " - search와 유사하나, 주어진 문자열의 시작부터 비교하여 패턴이 있는지 확인\n",
    " - 시작부터 해당 패턴이 존재하지 않다면 None 반환"
   ]
  },
  {
   "cell_type": "code",
   "execution_count": 96,
   "metadata": {},
   "outputs": [],
   "source": [
    "m = re.match(r'\\d\\d\\d','your number is 123')\n",
    "m"
   ]
  },
  {
   "cell_type": "code",
   "execution_count": 98,
   "metadata": {},
   "outputs": [
    {
     "data": {
      "text/plain": [
       "<re.Match object; span=(0, 3), match='123'>"
      ]
     },
     "execution_count": 98,
     "metadata": {},
     "output_type": "execute_result"
    }
   ],
   "source": [
    "m = re.match(r'\\d\\d\\d','123 your number is 123')\n",
    "m"
   ]
  },
  {
   "cell_type": "code",
   "execution_count": 99,
   "metadata": {},
   "outputs": [
    {
     "data": {
      "text/plain": [
       "<re.Match object; span=(15, 18), match='123'>"
      ]
     },
     "execution_count": 99,
     "metadata": {},
     "output_type": "execute_result"
    }
   ],
   "source": [
    "m = re.search(r'\\d\\d\\d','your number is 123')\n",
    "m"
   ]
  },
  {
   "cell_type": "markdown",
   "metadata": {},
   "source": [
    "#### **findall**\n",
    " - search가 최초로 매칭되는 패턴만 반환한다면, findall은 매칭되는 전체의 패턴을 반환\n",
    " - 매칭되는 모든 결과를 리스트 형태로 반환"
   ]
  },
  {
   "cell_type": "code",
   "execution_count": 100,
   "metadata": {},
   "outputs": [
    {
     "data": {
      "text/plain": [
       "['test@gmail.com', 'test2@gamil.com']"
      ]
     },
     "execution_count": 100,
     "metadata": {},
     "output_type": "execute_result"
    }
   ],
   "source": [
    "# '-'문자가 앞이나 뒤에 오는 경우 일반 '-'문자\n",
    "m = re.findall(r'[\\w-]+@[\\w.]+', 'test@gmail.com hello test2@gamil.com good test test')\n",
    "m\n"
   ]
  },
  {
   "cell_type": "markdown",
   "metadata": {},
   "source": [
    "#### **sub**\n",
    " - 주어진 문자열에서 일치하는 모든 패턴을 replace\n",
    " - 그 결과를 문자열로 다시 반환함\n",
    " - 두번째 인자는 특정 문자열이 될 수도 있고, 함수가 될 수 도 있음\n",
    " - count가 0인 경우는 전체를, 1이상이면 해당 숫자만큼 치환 됨"
   ]
  },
  {
   "cell_type": "code",
   "execution_count": 103,
   "metadata": {},
   "outputs": [
    {
     "data": {
      "text/plain": [
       "'great hello test2@gamil.com good test test'"
      ]
     },
     "execution_count": 103,
     "metadata": {},
     "output_type": "execute_result"
    }
   ],
   "source": [
    "# 이메일 패턴을 great으로 교체\n",
    "m = re.sub(r'[\\w-]+@[\\w.]+', 'great', 'test@gmail.com hello test2@gamil.com good test test')\n",
    "\n",
    "# count 인자를 이용하여 원하는 갯수 만큼 교체\n",
    "m = re.sub(r'[\\w-]+@[\\w.]+', 'great', 'test@gmail.com hello test2@gamil.com good test test' ,count=1)\n",
    "m"
   ]
  },
  {
   "cell_type": "markdown",
   "metadata": {},
   "source": [
    "#### **compile() 함수**\n",
    " - 동일한 정규표현식을 매번 다시 쓰기 번거로움을 해결\n",
    " - compile로 해당표현식을 re.RegexObject 객체로 저장하여 사용가능"
   ]
  },
  {
   "cell_type": "code",
   "execution_count": 105,
   "metadata": {},
   "outputs": [
    {
     "data": {
      "text/plain": [
       "<re.Match object; span=(0, 14), match='test@naver.com'>"
      ]
     },
     "execution_count": 105,
     "metadata": {},
     "output_type": "execute_result"
    }
   ],
   "source": [
    "email_pattern = re.compile(r'[\\w-]+@[\\w.]+')\n",
    "\n",
    "email_pattern.search('test@naver.com good hellow word')"
   ]
  },
  {
   "cell_type": "markdown",
   "metadata": {},
   "source": [
    "### 연습문제 \n",
    "  - 아래 뉴스에서 이메일 주소를 추출해 보세요\n",
    "  - 다음중 올바른 (http, https) 웹페이지만 찾으시오"
   ]
  },
  {
   "cell_type": "code",
   "execution_count": 115,
   "metadata": {},
   "outputs": [
    {
     "name": "stdout",
     "output_type": "stream",
     "text": [
      "[서울=뉴시스] 홍지은 기자 = 정세균 국무총리는 의사협회가 의대 정원 확대에 반대하며 오는 14일 집단휴진을 예고한 데 대해 \"국민의 생명과 안전을 담보로 한 집단행동은 결코 신뢰와 지지를 얻기 힘들 것\"이라고 경고했다.정 총리는 12일 오전 정부서울청사에서 코로나19(신종 코로나바이러스 감염증) 중앙재난안전대책본부 회의를 주재하며 모두발언을 통해 이같이 말한 뒤 \"의사협회는 집단휴진을 철회하고 정부와 진정성있는 대화에 나서주실 것을 다시 한번 촉구한다\"고 요청했다.정 총리는 \"정부는 의사협회가 제안한 협의체 구성에 대해 이미 수용 의사를 밝혔고, 열린 자세로 의료계와 소통하기 위해 대화의 문을 계속 두드리고 있다\"며 \"의사협회는 하루빨리 대화의 장으로 나와 복지부와 함께 지혜를 모아 주시기 바란다\"고 거듭 촉구했다.그러면서 의대 정원 확대에 대한 당위성도 부여했다. 정 총리는 \"2006년 이후 15년 가까이 의대 정원이 동결되면서 우리나라의 의사 수는 OECD(경제협력개발기구) 평균 수준에 크게 못 미치고 있다\"며 \"더군다나 의사의 절반 이상이 수도권에 집중되어 지역 간 의료격차가 매우 크다\"고 우려했다.이어 \"이번 의대정원 확대는 고질적인 의료수급 불균형을 해소하고 부족한 공공의료를 확충하기 위해 시급한 과제임을 강조 드린다\"고 말했다.한편, 기록적 폭우로 인한 전국 곳곳에 막대한 피해가 발생한 데 대해 \"정부는 실의에 빠진 수재민들께서 희망을 되찾을 수 있도록 충분한 지원을 아끼지 않겠다\"며 \"이번 수해를 극복하는 과정에서 '재난 안전망'을 더욱 탄탄하게 구축하겠다\"고 밝혔다.11일 국무회의에서 코로나19 방역역량 강화를 위한 정부조직법 및 감염병예방법 개정공포안이 의결된 데 대해선 \"복지부, 행안부 등 관계부처는 시행령 개정 등 신속한 법 시행을 위한 준비에 만전을 기해 주시기 바란다\"고 지시했다.개정공포안 의결로 질병관리본부는 질병관리청으로 승격돼 국가 감염병 관리의 중추적 역할을 하게 된다. 또 방역수칙 위반행위에 대한 과태료 부과 등 제재도 강화되며, 해외에서 입국하는 외국인에 대해서는 상호주의 원칙에 따라 감염병 치료비 등을 본인이 부담토록 할 수 있게 됐다.☞공감언론 뉴시스 rediu@newsis.com \n",
      "rediu@newsis.com\n"
     ]
    }
   ],
   "source": [
    "import requests\n",
    "from bs4 import BeautifulSoup\n",
    "# 위의 두 모듈이 없는 경우에는 pip install requests bs4 실행\n",
    "\n",
    "def get_news_content(url):\n",
    "    response = requests.get(url)\n",
    "    content = response.text\n",
    "\n",
    "    soup = BeautifulSoup(content, 'lxml')\n",
    "\n",
    "    div = soup.find('div', attrs = {'id' : 'harmonyContainer'})\n",
    "    \n",
    "    content = ''\n",
    "    for paragraph in div.find_all('p'):\n",
    "        content += paragraph.get_text()\n",
    "        \n",
    "    return content\n",
    "\n",
    "news1 = get_news_content('https://news.v.daum.net/v/20200812115313963')\n",
    "print(news1)\n",
    "\n",
    "# 맨뒤의 email 가져오기\n",
    "\n",
    "m = re.search(r'[\\w-]+@[\\w.]+',news1)\n",
    "print(m.group())\n"
   ]
  },
  {
   "cell_type": "code",
   "execution_count": 151,
   "metadata": {},
   "outputs": [
    {
     "data": {
      "text/plain": [
       "<re.Match object; span=(0, 16), match='rediu@newsis.com'>"
      ]
     },
     "execution_count": 151,
     "metadata": {},
     "output_type": "execute_result"
    }
   ],
   "source": [
    "m = re.search(r'[\\w-]+@[\\w.]+\\w','rediu@newsis.com. rediu@newsis.com')\n",
    "m"
   ]
  },
  {
   "cell_type": "code",
   "execution_count": 154,
   "metadata": {},
   "outputs": [],
   "source": [
    "webs = ['http://www.test.co.kr', \n",
    "        'https://www.test1.com', \n",
    "        'http://www.test.com', \n",
    "        'ftp://www.test.com', \n",
    "        'http:://www.test.com',\n",
    "       'htp://www.test.com',\n",
    "       'http://www.google.com', \n",
    "       'https://www.homepage.com.',\n",
    "       'https:///www.homepage.com']"
   ]
  },
  {
   "cell_type": "code",
   "execution_count": 161,
   "metadata": {},
   "outputs": [
    {
     "data": {
      "text/plain": [
       "[True, True, True, False, False, False, True, False, False]"
      ]
     },
     "execution_count": 161,
     "metadata": {},
     "output_type": "execute_result"
    }
   ],
   "source": [
    "# http_pattern = re.compile('https?:{1}/{2}[\\w.]+[a-z]$')\n",
    "url_pattern = re.compile(r'https?://[\\w.]+\\w+$')\n",
    "\n",
    "list(map(lambda x:url_pattern.search(x) != None, webs))"
   ]
  },
  {
   "cell_type": "code",
   "execution_count": 164,
   "metadata": {},
   "outputs": [
    {
     "ename": "error",
     "evalue": "multiple repeat at position 8",
     "output_type": "error",
     "traceback": [
      "\u001b[1;31m---------------------------------------------------------------------------\u001b[0m",
      "\u001b[1;31merror\u001b[0m                                     Traceback (most recent call last)",
      "\u001b[1;32m<ipython-input-164-8c50f7a6cf10>\u001b[0m in \u001b[0;36m<module>\u001b[1;34m\u001b[0m\n\u001b[1;32m----> 1\u001b[1;33m \u001b[0mm\u001b[0m \u001b[1;33m=\u001b[0m \u001b[0mre\u001b[0m\u001b[1;33m.\u001b[0m\u001b[0mmatch\u001b[0m\u001b[1;33m(\u001b[0m\u001b[1;34mr'[0-9]{3}+[0-9]+[0-9]+'\u001b[0m\u001b[1;33m,\u001b[0m\u001b[1;34m'010-1111-1111'\u001b[0m\u001b[1;33m)\u001b[0m\u001b[1;33m\u001b[0m\u001b[1;33m\u001b[0m\u001b[0m\n\u001b[0m",
      "\u001b[1;32m~\\anaconda3\\lib\\re.py\u001b[0m in \u001b[0;36mmatch\u001b[1;34m(pattern, string, flags)\u001b[0m\n\u001b[0;32m    171\u001b[0m     \"\"\"Try to apply the pattern at the start of the string, returning\n\u001b[0;32m    172\u001b[0m     a Match object, or None if no match was found.\"\"\"\n\u001b[1;32m--> 173\u001b[1;33m     \u001b[1;32mreturn\u001b[0m \u001b[0m_compile\u001b[0m\u001b[1;33m(\u001b[0m\u001b[0mpattern\u001b[0m\u001b[1;33m,\u001b[0m \u001b[0mflags\u001b[0m\u001b[1;33m)\u001b[0m\u001b[1;33m.\u001b[0m\u001b[0mmatch\u001b[0m\u001b[1;33m(\u001b[0m\u001b[0mstring\u001b[0m\u001b[1;33m)\u001b[0m\u001b[1;33m\u001b[0m\u001b[1;33m\u001b[0m\u001b[0m\n\u001b[0m\u001b[0;32m    174\u001b[0m \u001b[1;33m\u001b[0m\u001b[0m\n\u001b[0;32m    175\u001b[0m \u001b[1;32mdef\u001b[0m \u001b[0mfullmatch\u001b[0m\u001b[1;33m(\u001b[0m\u001b[0mpattern\u001b[0m\u001b[1;33m,\u001b[0m \u001b[0mstring\u001b[0m\u001b[1;33m,\u001b[0m \u001b[0mflags\u001b[0m\u001b[1;33m=\u001b[0m\u001b[1;36m0\u001b[0m\u001b[1;33m)\u001b[0m\u001b[1;33m:\u001b[0m\u001b[1;33m\u001b[0m\u001b[1;33m\u001b[0m\u001b[0m\n",
      "\u001b[1;32m~\\anaconda3\\lib\\re.py\u001b[0m in \u001b[0;36m_compile\u001b[1;34m(pattern, flags)\u001b[0m\n\u001b[0;32m    284\u001b[0m     \u001b[1;32mif\u001b[0m \u001b[1;32mnot\u001b[0m \u001b[0msre_compile\u001b[0m\u001b[1;33m.\u001b[0m\u001b[0misstring\u001b[0m\u001b[1;33m(\u001b[0m\u001b[0mpattern\u001b[0m\u001b[1;33m)\u001b[0m\u001b[1;33m:\u001b[0m\u001b[1;33m\u001b[0m\u001b[1;33m\u001b[0m\u001b[0m\n\u001b[0;32m    285\u001b[0m         \u001b[1;32mraise\u001b[0m \u001b[0mTypeError\u001b[0m\u001b[1;33m(\u001b[0m\u001b[1;34m\"first argument must be string or compiled pattern\"\u001b[0m\u001b[1;33m)\u001b[0m\u001b[1;33m\u001b[0m\u001b[1;33m\u001b[0m\u001b[0m\n\u001b[1;32m--> 286\u001b[1;33m     \u001b[0mp\u001b[0m \u001b[1;33m=\u001b[0m \u001b[0msre_compile\u001b[0m\u001b[1;33m.\u001b[0m\u001b[0mcompile\u001b[0m\u001b[1;33m(\u001b[0m\u001b[0mpattern\u001b[0m\u001b[1;33m,\u001b[0m \u001b[0mflags\u001b[0m\u001b[1;33m)\u001b[0m\u001b[1;33m\u001b[0m\u001b[1;33m\u001b[0m\u001b[0m\n\u001b[0m\u001b[0;32m    287\u001b[0m     \u001b[1;32mif\u001b[0m \u001b[1;32mnot\u001b[0m \u001b[1;33m(\u001b[0m\u001b[0mflags\u001b[0m \u001b[1;33m&\u001b[0m \u001b[0mDEBUG\u001b[0m\u001b[1;33m)\u001b[0m\u001b[1;33m:\u001b[0m\u001b[1;33m\u001b[0m\u001b[1;33m\u001b[0m\u001b[0m\n\u001b[0;32m    288\u001b[0m         \u001b[1;32mif\u001b[0m \u001b[0mlen\u001b[0m\u001b[1;33m(\u001b[0m\u001b[0m_cache\u001b[0m\u001b[1;33m)\u001b[0m \u001b[1;33m>=\u001b[0m \u001b[0m_MAXCACHE\u001b[0m\u001b[1;33m:\u001b[0m\u001b[1;33m\u001b[0m\u001b[1;33m\u001b[0m\u001b[0m\n",
      "\u001b[1;32m~\\anaconda3\\lib\\sre_compile.py\u001b[0m in \u001b[0;36mcompile\u001b[1;34m(p, flags)\u001b[0m\n\u001b[0;32m    762\u001b[0m     \u001b[1;32mif\u001b[0m \u001b[0misstring\u001b[0m\u001b[1;33m(\u001b[0m\u001b[0mp\u001b[0m\u001b[1;33m)\u001b[0m\u001b[1;33m:\u001b[0m\u001b[1;33m\u001b[0m\u001b[1;33m\u001b[0m\u001b[0m\n\u001b[0;32m    763\u001b[0m         \u001b[0mpattern\u001b[0m \u001b[1;33m=\u001b[0m \u001b[0mp\u001b[0m\u001b[1;33m\u001b[0m\u001b[1;33m\u001b[0m\u001b[0m\n\u001b[1;32m--> 764\u001b[1;33m         \u001b[0mp\u001b[0m \u001b[1;33m=\u001b[0m \u001b[0msre_parse\u001b[0m\u001b[1;33m.\u001b[0m\u001b[0mparse\u001b[0m\u001b[1;33m(\u001b[0m\u001b[0mp\u001b[0m\u001b[1;33m,\u001b[0m \u001b[0mflags\u001b[0m\u001b[1;33m)\u001b[0m\u001b[1;33m\u001b[0m\u001b[1;33m\u001b[0m\u001b[0m\n\u001b[0m\u001b[0;32m    765\u001b[0m     \u001b[1;32melse\u001b[0m\u001b[1;33m:\u001b[0m\u001b[1;33m\u001b[0m\u001b[1;33m\u001b[0m\u001b[0m\n\u001b[0;32m    766\u001b[0m         \u001b[0mpattern\u001b[0m \u001b[1;33m=\u001b[0m \u001b[1;32mNone\u001b[0m\u001b[1;33m\u001b[0m\u001b[1;33m\u001b[0m\u001b[0m\n",
      "\u001b[1;32m~\\anaconda3\\lib\\sre_parse.py\u001b[0m in \u001b[0;36mparse\u001b[1;34m(str, flags, pattern)\u001b[0m\n\u001b[0;32m    922\u001b[0m \u001b[1;33m\u001b[0m\u001b[0m\n\u001b[0;32m    923\u001b[0m     \u001b[1;32mtry\u001b[0m\u001b[1;33m:\u001b[0m\u001b[1;33m\u001b[0m\u001b[1;33m\u001b[0m\u001b[0m\n\u001b[1;32m--> 924\u001b[1;33m         \u001b[0mp\u001b[0m \u001b[1;33m=\u001b[0m \u001b[0m_parse_sub\u001b[0m\u001b[1;33m(\u001b[0m\u001b[0msource\u001b[0m\u001b[1;33m,\u001b[0m \u001b[0mpattern\u001b[0m\u001b[1;33m,\u001b[0m \u001b[0mflags\u001b[0m \u001b[1;33m&\u001b[0m \u001b[0mSRE_FLAG_VERBOSE\u001b[0m\u001b[1;33m,\u001b[0m \u001b[1;36m0\u001b[0m\u001b[1;33m)\u001b[0m\u001b[1;33m\u001b[0m\u001b[1;33m\u001b[0m\u001b[0m\n\u001b[0m\u001b[0;32m    925\u001b[0m     \u001b[1;32mexcept\u001b[0m \u001b[0mVerbose\u001b[0m\u001b[1;33m:\u001b[0m\u001b[1;33m\u001b[0m\u001b[1;33m\u001b[0m\u001b[0m\n\u001b[0;32m    926\u001b[0m         \u001b[1;31m# the VERBOSE flag was switched on inside the pattern.  to be\u001b[0m\u001b[1;33m\u001b[0m\u001b[1;33m\u001b[0m\u001b[1;33m\u001b[0m\u001b[0m\n",
      "\u001b[1;32m~\\anaconda3\\lib\\sre_parse.py\u001b[0m in \u001b[0;36m_parse_sub\u001b[1;34m(source, state, verbose, nested)\u001b[0m\n\u001b[0;32m    418\u001b[0m     \u001b[1;32mwhile\u001b[0m \u001b[1;32mTrue\u001b[0m\u001b[1;33m:\u001b[0m\u001b[1;33m\u001b[0m\u001b[1;33m\u001b[0m\u001b[0m\n\u001b[0;32m    419\u001b[0m         itemsappend(_parse(source, state, verbose, nested + 1,\n\u001b[1;32m--> 420\u001b[1;33m                            not nested and not items))\n\u001b[0m\u001b[0;32m    421\u001b[0m         \u001b[1;32mif\u001b[0m \u001b[1;32mnot\u001b[0m \u001b[0msourcematch\u001b[0m\u001b[1;33m(\u001b[0m\u001b[1;34m\"|\"\u001b[0m\u001b[1;33m)\u001b[0m\u001b[1;33m:\u001b[0m\u001b[1;33m\u001b[0m\u001b[1;33m\u001b[0m\u001b[0m\n\u001b[0;32m    422\u001b[0m             \u001b[1;32mbreak\u001b[0m\u001b[1;33m\u001b[0m\u001b[1;33m\u001b[0m\u001b[0m\n",
      "\u001b[1;32m~\\anaconda3\\lib\\sre_parse.py\u001b[0m in \u001b[0;36m_parse\u001b[1;34m(source, state, verbose, nested, first)\u001b[0m\n\u001b[0;32m    646\u001b[0m             \u001b[1;32mif\u001b[0m \u001b[0mitem\u001b[0m\u001b[1;33m[\u001b[0m\u001b[1;36m0\u001b[0m\u001b[1;33m]\u001b[0m\u001b[1;33m[\u001b[0m\u001b[1;36m0\u001b[0m\u001b[1;33m]\u001b[0m \u001b[1;32min\u001b[0m \u001b[0m_REPEATCODES\u001b[0m\u001b[1;33m:\u001b[0m\u001b[1;33m\u001b[0m\u001b[1;33m\u001b[0m\u001b[0m\n\u001b[0;32m    647\u001b[0m                 raise source.error(\"multiple repeat\",\n\u001b[1;32m--> 648\u001b[1;33m                                    source.tell() - here + len(this))\n\u001b[0m\u001b[0;32m    649\u001b[0m             \u001b[1;32mif\u001b[0m \u001b[0mitem\u001b[0m\u001b[1;33m[\u001b[0m\u001b[1;36m0\u001b[0m\u001b[1;33m]\u001b[0m\u001b[1;33m[\u001b[0m\u001b[1;36m0\u001b[0m\u001b[1;33m]\u001b[0m \u001b[1;32mis\u001b[0m \u001b[0mSUBPATTERN\u001b[0m\u001b[1;33m:\u001b[0m\u001b[1;33m\u001b[0m\u001b[1;33m\u001b[0m\u001b[0m\n\u001b[0;32m    650\u001b[0m                 \u001b[0mgroup\u001b[0m\u001b[1;33m,\u001b[0m \u001b[0madd_flags\u001b[0m\u001b[1;33m,\u001b[0m \u001b[0mdel_flags\u001b[0m\u001b[1;33m,\u001b[0m \u001b[0mp\u001b[0m \u001b[1;33m=\u001b[0m \u001b[0mitem\u001b[0m\u001b[1;33m[\u001b[0m\u001b[1;36m0\u001b[0m\u001b[1;33m]\u001b[0m\u001b[1;33m[\u001b[0m\u001b[1;36m1\u001b[0m\u001b[1;33m]\u001b[0m\u001b[1;33m\u001b[0m\u001b[1;33m\u001b[0m\u001b[0m\n",
      "\u001b[1;31merror\u001b[0m: multiple repeat at position 8"
     ]
    }
   ],
   "source": [
    "m = re.match(r'[0-9]{3}+[0-9]+[0-9]+','010-1111-1111')"
   ]
  }
 ],
 "metadata": {
  "kernelspec": {
   "display_name": "Python 3",
   "language": "python",
   "name": "python3"
  },
  "language_info": {
   "codemirror_mode": {
    "name": "ipython",
    "version": 3
   },
   "file_extension": ".py",
   "mimetype": "text/x-python",
   "name": "python",
   "nbconvert_exporter": "python",
   "pygments_lexer": "ipython3",
   "version": "3.7.6"
  }
 },
 "nbformat": 4,
 "nbformat_minor": 1
}
