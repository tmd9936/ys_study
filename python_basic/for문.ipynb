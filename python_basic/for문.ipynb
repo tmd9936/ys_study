{
 "cells": [
  {
   "cell_type": "markdown",
   "metadata": {},
   "source": [
    "### dictionary의 아이템 출력하기\n",
    " - dictionary의 경우 기본적으로 순회하게 되면 key값을 참조\n",
    " - keys()를 이용해서 key만 순회가능\n",
    " - values()를 이용해서 value만 순회가능\n",
    " - items()를 이용해서 tuple형태로 key,value순회가능"
   ]
  },
  {
   "cell_type": "code",
   "execution_count": null,
   "metadata": {},
   "outputs": [],
   "source": [
    "a = {'korea':'seoul', 'japan':'tokyo', 'canada':'ottawa'}\n",
    "\n",
    "for k in a:\n",
    "    print(k,a[k])"
   ]
  },
  {
   "cell_type": "code",
   "execution_count": null,
   "metadata": {},
   "outputs": [],
   "source": [
    "list(a.items())"
   ]
  },
  {
   "cell_type": "code",
   "execution_count": null,
   "metadata": {},
   "outputs": [],
   "source": [
    "li = list(a.items())\n",
    "for key, value in li:\n",
    "    print(key, value)"
   ]
  },
  {
   "cell_type": "markdown",
   "metadata": {},
   "source": [
    "### for에서 index사용하기\n",
    "* 기본적으로 for에 리스트를 순회하는 경우, 값만 추출함"
   ]
  },
  {
   "cell_type": "code",
   "execution_count": null,
   "metadata": {},
   "outputs": [],
   "source": [
    "a = ['a', 'b', 'c', 'd', 'e']\n",
    "# for num in a:\n",
    "#     print(num)\n",
    "\n",
    "for index, num in enumerate(a):\n",
    "    if index > 3:\n",
    "        print(index, num)"
   ]
  },
  {
   "cell_type": "markdown",
   "metadata": {},
   "source": [
    "### for에서 index 사용하기\n",
    "* 기본적으로 for에 리스트를 순회하는 경우, 값만 추출함\n",
    "* iterable 객체를 리턴(반환)하는 함수\n",
    " - range(), reversed(), enumerate(), map()\n",
    " "
   ]
  },
  {
   "cell_type": "code",
   "execution_count": null,
   "metadata": {},
   "outputs": [],
   "source": [
    "# 1~100까지의 합\n",
    "print(sum(range(1,101)))"
   ]
  },
  {
   "cell_type": "markdown",
   "metadata": {},
   "source": [
    "#### for 연습"
   ]
  },
  {
   "cell_type": "code",
   "execution_count": null,
   "metadata": {},
   "outputs": [],
   "source": [
    "names = ['Kim','Park','Lee','Choi','Yun']\n",
    "for name in names:\n",
    "    print('you are ', name)"
   ]
  },
  {
   "cell_type": "code",
   "execution_count": null,
   "metadata": {},
   "outputs": [],
   "source": [
    "word = 'dreams'\n",
    "for s in word:\n",
    "    print('word : ', s)\n"
   ]
  },
  {
   "cell_type": "code",
   "execution_count": null,
   "metadata": {},
   "outputs": [],
   "source": [
    "# 소문자를 대문자로 출력\n",
    "greeting = 'GoodMorning'\n",
    "\n",
    "for g in greeting:\n",
    "    if g.isupper():\n",
    "        print(g)\n",
    "    else:\n",
    "        print(g.upper())"
   ]
  },
  {
   "cell_type": "code",
   "execution_count": null,
   "metadata": {},
   "outputs": [],
   "source": [
    "# 소문자를 대문자로 대문자를 소문자로 바꿔서 출력\n",
    "greeting = 'GoodMorning'\n",
    "\n",
    "for g in greeting:\n",
    "    if g.isupper():\n",
    "        print(g.lower(), end='')\n",
    "    else:\n",
    "        print(g.upper(), end='')"
   ]
  },
  {
   "cell_type": "code",
   "execution_count": null,
   "metadata": {},
   "outputs": [],
   "source": [
    "# for - else 실습\n",
    "# 반복문이 정상적으로 수행된 경우 else 블럭 수행\n",
    "members = [14, 3, 4, 5, 10, 24, 223, 15, 36, 38]\n",
    "\n",
    "for num in members:\n",
    "    if num == 33:\n",
    "        print('found : 33!')\n",
    "        break\n",
    "    else:\n",
    "        print('not found : ', num)\n",
    "else:\n",
    "    print('not found ....')"
   ]
  },
  {
   "cell_type": "markdown",
   "metadata": {},
   "source": [
    "# loop 중첩\n",
    "* 중첩은 무한히 가능하다\n",
    "* 반복횟수는 외부루프X내부루프"
   ]
  },
  {
   "cell_type": "markdown",
   "metadata": {},
   "source": [
    "### 구구단 출력하기\n",
    "\n",
    "2 * 1 = 2\n",
    "\n",
    "2 * 2 = 4 .....\n"
   ]
  },
  {
   "cell_type": "code",
   "execution_count": null,
   "metadata": {},
   "outputs": [],
   "source": [
    "# x = [2,3,4,5,6,7,8,9]\n",
    "# y = [1,2,3,4,5,6,7,8,9]\n",
    "\n",
    "for x in range(1,10):\n",
    "    for y in range(2,10):\n",
    "        #print(y,'*',x,'=',x*y, end='    ')\n",
    "        #print('{0} * {1} = {2:02d}'.format(y,x,x*y), end='    ')\n",
    "        print('%d * %d = %02d'%(y,x,x*y), end='    ')\n",
    "    print()"
   ]
  },
  {
   "cell_type": "code",
   "execution_count": 5,
   "metadata": {},
   "outputs": [
    {
     "name": "stdout",
     "output_type": "stream",
     "text": [
      "2 * 1 = 02    3 * 1 = 03    4 * 1 = 04    5 * 1 = 05    6 * 1 = 06    7 * 1 = 07    8 * 1 = 08    9 * 1 = 09    \n",
      "2 * 2 = 04    3 * 2 = 06    4 * 2 = 08    5 * 2 = 10    6 * 2 = 12    7 * 2 = 14    8 * 2 = 16    9 * 2 = 18    \n",
      "2 * 3 = 06    3 * 3 = 09    4 * 3 = 12    5 * 3 = 15    6 * 3 = 18    7 * 3 = 21    8 * 3 = 24    9 * 3 = 27    \n",
      "2 * 4 = 08    3 * 4 = 12    4 * 4 = 16    5 * 4 = 20    6 * 4 = 24    7 * 4 = 28    8 * 4 = 32    9 * 4 = 36    \n",
      "2 * 5 = 10    3 * 5 = 15    4 * 5 = 20    5 * 5 = 25    6 * 5 = 30    7 * 5 = 35    8 * 5 = 40    9 * 5 = 45    \n",
      "2 * 6 = 12    3 * 6 = 18    4 * 6 = 24    5 * 6 = 30    6 * 6 = 36    7 * 6 = 42    8 * 6 = 48    9 * 6 = 54    \n",
      "2 * 7 = 14    3 * 7 = 21    4 * 7 = 28    5 * 7 = 35    6 * 7 = 42    7 * 7 = 49    8 * 7 = 56    9 * 7 = 63    \n",
      "2 * 8 = 16    3 * 8 = 24    4 * 8 = 32    5 * 8 = 40    6 * 8 = 48    7 * 8 = 56    8 * 8 = 64    9 * 8 = 72    \n",
      "2 * 9 = 18    3 * 9 = 27    4 * 9 = 36    5 * 9 = 45    6 * 9 = 54    7 * 9 = 63    8 * 9 = 72    9 * 9 = 81    \n"
     ]
    }
   ],
   "source": [
    "# while문을 이용해 구구단 출력\n",
    "\n",
    "x = [1,2,3,4,5,6,7,8,9]\n",
    "y = [2,3,4,5,6,7,8,9]\n",
    "\n",
    "i = 0\n",
    "while i < len(x):\n",
    "    j = 0\n",
    "    while j < len(y):\n",
    "        print('%d * %d = %02d'%(y[j],x[i],x[i]*y[j]), end='    ')\n",
    "        j += 1\n",
    "    print()\n",
    "    i += 1\n",
    "        \n",
    "        \n",
    "    "
   ]
  },
  {
   "cell_type": "code",
   "execution_count": 6,
   "metadata": {},
   "outputs": [
    {
     "name": "stdout",
     "output_type": "stream",
     "text": [
      "2 4 6 8 10 11 12 14 16 18 20 22 24 26 28 30 32 33 34 36 38 40 42 44 46 48 50 52 54 55 56 58 60 62 64 66 68 70 72 74 76 77 78 80 82 84 86 88 90 92 94 96 98 99 100 "
     ]
    }
   ],
   "source": [
    "# 1 ~ 100까지 정수 중 2의 배수 또는 11의 배수를 모두 출력하시오.\n",
    "for x in range(1,101):\n",
    "    if x % 2 == 0 or x % 11 == 0:\n",
    "        print(x, end=' ')"
   ]
  },
  {
   "cell_type": "code",
   "execution_count": 7,
   "metadata": {},
   "outputs": [
    {
     "name": "stdout",
     "output_type": "stream",
     "text": [
      "1\n",
      "99\n"
     ]
    }
   ],
   "source": [
    "# a = [22,1,3,4,7,98,21,55,87,99,19,20,45]에서 최대값과 최소값을 찾으시오.\n",
    "a = [22,1,3,4,7,98,21,55,87,99,19,20,45]\n",
    "# print(max(a))\n",
    "# print(min(a))\n",
    "\n",
    "min1 = a[0]\n",
    "max1 = a[0]\n",
    "for x in a:\n",
    "    if min1 > x:\n",
    "        min1 = x\n",
    "    if max1 < x:\n",
    "        max1 = x\n",
    "\n",
    "print(min1)\n",
    "print(max1)"
   ]
  },
  {
   "cell_type": "code",
   "execution_count": 10,
   "metadata": {},
   "outputs": [
    {
     "name": "stdout",
     "output_type": "stream",
     "text": [
      "37.0\n"
     ]
    }
   ],
   "source": [
    "# a = [22,1,3,4,7,98,21,55,87,99,19,20,45]에서 평균을 구하시오\n",
    "a = [22,1,3,4,7,98,21,55,87,99,19,20,45]\n",
    "# print(sum(a)/len(a))\n",
    "\n",
    "su = 0\n",
    "for x in a:\n",
    "  su += x\n",
    "print(su/len(a))"
   ]
  },
  {
   "cell_type": "code",
   "execution_count": 12,
   "metadata": {},
   "outputs": [
    {
     "name": "stdout",
     "output_type": "stream",
     "text": [
      "<class 'enumerate'>\n",
      "[(0, '월'), (1, '화'), (2, '수'), (3, '목'), (4, '금')]\n",
      "[(4, '월'), (5, '화'), (6, '수'), (7, '목'), (8, '금')]\n"
     ]
    }
   ],
   "source": [
    "days = ['월', '화', '수', '목', '금']\n",
    "enum_days = enumerate(days)\n",
    "print(type(enum_days))\n",
    "\n",
    "print(list(enum_days))\n",
    "enum_days = enumerate(days, 4)\n",
    "print(list(enum_days))"
   ]
  },
  {
   "cell_type": "code",
   "execution_count": 13,
   "metadata": {},
   "outputs": [
    {
     "name": "stdout",
     "output_type": "stream",
     "text": [
      "(0, '월')\n",
      "(1, '화')\n",
      "(2, '수')\n",
      "(3, '목')\n",
      "(4, '금')\n",
      "7 월\n",
      "8 화\n",
      "9 수\n",
      "10 목\n",
      "11 금\n"
     ]
    }
   ],
   "source": [
    "enum_days = enumerate(days)\n",
    "\n",
    "for enum_days in enumerate(days):\n",
    "    print(enum_days)\n",
    "\n",
    "for index, enum_days in enumerate(days,7):\n",
    "    print(index, enum_days)"
   ]
  },
  {
   "cell_type": "code",
   "execution_count": 14,
   "metadata": {},
   "outputs": [
    {
     "name": "stdout",
     "output_type": "stream",
     "text": [
      "[1, 2, 3, 4, 5, 6, 7, 8, 9, 10, 11, 12, 13, 14, 15, 16, 17, 18, 19, 20, 21, 22, 23, 24, 25, 26, 27, 28, 29, 30, 31, 32, 33, 34, 35, 36, 37, 38, 39, 40, 41, 42, 43, 44, 45, 46, 47, 48, 49, 50, 51, 52, 53, 54, 55, 56, 57, 58, 59, 60, 61, 62, 63, 64, 65, 66, 67, 68, 69, 70, 71, 72, 73, 74, 75, 76, 77, 78, 79, 80, 81, 82, 83, 84, 85, 86, 87, 88, 89, 90, 91, 92, 93, 94, 95, 96, 97, 98, 99, 100]\n"
     ]
    }
   ],
   "source": [
    "numbers = []\n",
    "for n in range(1,101):\n",
    "    numbers.append(n)\n",
    "print(numbers)"
   ]
  },
  {
   "cell_type": "code",
   "execution_count": 17,
   "metadata": {},
   "outputs": [
    {
     "name": "stdout",
     "output_type": "stream",
     "text": [
      "[10, 20, 30, 40, 50, 60, 70, 80, 90, 100, 110, 120, 130, 140, 150, 160, 170, 180, 190, 200, 210, 220, 230, 240, 250, 260, 270, 280, 290, 300, 310, 320, 330, 340, 350, 360, 370, 380, 390, 400, 410, 420, 430, 440, 450, 460, 470, 480, 490, 500, 510, 520, 530, 540, 550, 560, 570, 580, 590, 600, 610, 620, 630, 640, 650, 660, 670, 680, 690, 700, 710, 720, 730, 740, 750, 760, 770, 780, 790, 800, 810, 820, 830, 840, 850, 860, 870, 880, 890, 900, 910, 920, 930, 940, 950, 960, 970, 980, 990, 1000]\n"
     ]
    }
   ],
   "source": [
    "# list comprehension\n",
    "numbers2 = [x*10 for x in range(1,101)]\n",
    "print(numbers2)"
   ]
  },
  {
   "cell_type": "code",
   "execution_count": null,
   "metadata": {},
   "outputs": [],
   "source": []
  }
 ],
 "metadata": {
  "kernelspec": {
   "display_name": "Python 3",
   "language": "python",
   "name": "python3"
  },
  "language_info": {
   "codemirror_mode": {
    "name": "ipython",
    "version": 3
   },
   "file_extension": ".py",
   "mimetype": "text/x-python",
   "name": "python",
   "nbconvert_exporter": "python",
   "pygments_lexer": "ipython3",
   "version": "3.7.6"
  }
 },
 "nbformat": 4,
 "nbformat_minor": 4
}
