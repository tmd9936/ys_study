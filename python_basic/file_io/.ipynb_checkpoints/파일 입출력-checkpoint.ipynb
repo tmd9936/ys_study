{
 "cells": [
  {
   "cell_type": "markdown",
   "metadata": {},
   "source": [
    "### 파일 읽기, 쓰기\n",
    "* 읽기 모드 : r\n",
    "* 쓰기 모드 : w (기존의 파일 삭제)\n",
    "* 추가 모드 : a (파일이 생성 또는 추가)\n",
    "* path : 상대경로 ('../','./'), 절대경로('C:\\a\\b')"
   ]
  },
  {
   "cell_type": "code",
   "execution_count": 1,
   "metadata": {},
   "outputs": [
    {
     "name": "stdout",
     "output_type": "stream",
     "text": [
      "Lorem Ipsum is simply dummy text of the printing and typesetting industry. \n",
      "Lorem Ipsum has been the industry's standard dummy text ever since the 1500s, \n",
      "when an unknown printer took a galley of type and scrambled it to make a type specimen book. \n",
      "It has survived not only five centuries, but also the leap into electronic typesetting, remaining essentially unchanged. \n",
      "It was popularised in the 1960s with the release of Letraset sheets containing Lorem Ipsum passages, \n",
      "and more recently with desktop publishing software like Aldus PageMaker including versions of Lorem Ipsum.\n",
      "\n",
      "\n",
      "['_CHUNK_SIZE', '__class__', '__del__', '__delattr__', '__dict__', '__dir__', '__doc__', '__enter__', '__eq__', '__exit__', '__format__', '__ge__', '__getattribute__', '__getstate__', '__gt__', '__hash__', '__init__', '__init_subclass__', '__iter__', '__le__', '__lt__', '__ne__', '__new__', '__next__', '__reduce__', '__reduce_ex__', '__repr__', '__setattr__', '__sizeof__', '__str__', '__subclasshook__', '_checkClosed', '_checkReadable', '_checkSeekable', '_checkWritable', '_finalizing', 'buffer', 'close', 'closed', 'detach', 'encoding', 'errors', 'fileno', 'flush', 'isatty', 'line_buffering', 'mode', 'name', 'newlines', 'read', 'readable', 'readline', 'readlines', 'reconfigure', 'seek', 'seekable', 'tell', 'truncate', 'writable', 'write', 'write_through', 'writelines']\n"
     ]
    }
   ],
   "source": [
    "# 파일 읽기\n",
    "f = open('./test.txt','r')\n",
    "contents = f.read()\n",
    "print(contents)\n",
    "print(dir(f))\n",
    "f.close()"
   ]
  },
  {
   "cell_type": "code",
   "execution_count": 2,
   "metadata": {},
   "outputs": [
    {
     "name": "stdout",
     "output_type": "stream",
     "text": [
      "Lorem Ipsum is simpl\n",
      "<class 'str'>\n",
      "['L', 'o', 'r', 'e', 'm', ' ', 'I', 'p', 's', 'u', 'm', ' ', 'i', 's', ' ', 's', 'i', 'm', 'p', 'l']\n"
     ]
    }
   ],
   "source": [
    "# close() 사용하지 않고 파일객체를 사용하는 방법\n",
    "# read() :  전체 내용을 읽기, read(10): 10글자 읽기 \n",
    "with open('./test.txt', 'r') as f:\n",
    "    contents = f.read(20)\n",
    "    print(contents)\n",
    "    print(type(contents))\n",
    "    print(list(contents))\n",
    "\n",
    "    \n",
    "    "
   ]
  },
  {
   "cell_type": "code",
   "execution_count": 3,
   "metadata": {},
   "outputs": [],
   "source": [
    "with open('test2222.txt', 'w') as f:\n",
    "    for i in range(3):\n",
    "        f.write('Hello, world! {0}\\n'.format(i))"
   ]
  },
  {
   "cell_type": "code",
   "execution_count": 4,
   "metadata": {},
   "outputs": [
    {
     "name": "stdout",
     "output_type": "stream",
     "text": [
      "Hello, world! 0\n",
      "Hello, world! 1\n",
      "Hello, world! 2\n",
      "\n"
     ]
    }
   ],
   "source": [
    "with open('test2222.txt','r') as f:\n",
    "    con = f.read()\n",
    "    print(con)"
   ]
  },
  {
   "cell_type": "code",
   "execution_count": 5,
   "metadata": {},
   "outputs": [
    {
     "name": "stdout",
     "output_type": "stream",
     "text": [
      "Lorem Ipsum is simply dummy text of the printing and typesetting industry.\n",
      "Lorem Ipsum has been the industry's standard dummy text ever since the 1500s,\n",
      "when an unknown printer took a galley of type and scrambled it to make a type specimen book.\n",
      "It has survived not only five centuries, but also the leap into electronic typesetting, remaining essentially unchanged.\n",
      "It was popularised in the 1960s with the release of Letraset sheets containing Lorem Ipsum passages,\n",
      "and more recently with desktop publishing software like Aldus PageMaker including versions of Lorem Ipsum.\n",
      "\n"
     ]
    }
   ],
   "source": [
    "with open('./test.txt', 'r') as f:\n",
    "    for c in f:\n",
    "        print(c.strip()) # 줄바꿈 없이 처리됨\n",
    "        \n",
    "\n",
    "        "
   ]
  },
  {
   "cell_type": "code",
   "execution_count": 14,
   "metadata": {},
   "outputs": [
    {
     "name": "stdout",
     "output_type": "stream",
     "text": [
      "손흥민/20/박지성/30/김말똘/40\n"
     ]
    }
   ],
   "source": [
    "with open('./list.txt', 'r') as f:\n",
    "    con = f.read()\n",
    "    print(con)"
   ]
  },
  {
   "cell_type": "code",
   "execution_count": 19,
   "metadata": {},
   "outputs": [
    {
     "name": "stdout",
     "output_type": "stream",
     "text": [
      "손흥민/20/박지성/30/김말똘/40\n",
      ">\n"
     ]
    }
   ],
   "source": [
    "with open('./list.txt', 'r') as f:\n",
    "    con = f.read()\n",
    "    print(con)\n",
    "    con = f.read()\n",
    "    print('>', end='')\n",
    "    print(con) # 힌 번더 읽으면 내용이 없음"
   ]
  },
  {
   "cell_type": "code",
   "execution_count": 10,
   "metadata": {
    "scrolled": true
   },
   "outputs": [
    {
     "name": "stdout",
     "output_type": "stream",
     "text": [
      "['손흥민', '20', '박지성', '30', '김말똘', '40']\n"
     ]
    }
   ],
   "source": [
    "with open('./list.txt', 'r') as f:\n",
    "    con = f.read().split('/')\n",
    "    print(con)"
   ]
  },
  {
   "cell_type": "code",
   "execution_count": 13,
   "metadata": {},
   "outputs": [
    {
     "name": "stdout",
     "output_type": "stream",
     "text": [
      "손/20/박/23/망/55\n"
     ]
    }
   ],
   "source": [
    "with open('./list2.txt', 'r', encoding='UTF8') as f:\n",
    "    con = f.read()\n",
    "    print(con)"
   ]
  },
  {
   "cell_type": "code",
   "execution_count": 16,
   "metadata": {},
   "outputs": [
    {
     "name": "stdout",
     "output_type": "stream",
     "text": [
      "['손', '20', '박', '23', '망', '55']\n"
     ]
    }
   ],
   "source": [
    "with open('./list2.txt', 'r', encoding='UTF8') as f:\n",
    "    con = f.read().split('/')\n",
    "    print(con)"
   ]
  },
  {
   "cell_type": "code",
   "execution_count": 5,
   "metadata": {
    "scrolled": true
   },
   "outputs": [
    {
     "name": "stdout",
     "output_type": "stream",
     "text": [
      "Lorem Ipsum is simply dummy text of the printing and typesetting industry. \n",
      "Lorem Ipsum has been the industry's standard dummy text ever since the 1500s, \n",
      "when an unknown printer took a galley of type and scrambled it to make a type specimen book. \n",
      "It has survived not only five centuries, but also the leap into electronic typesetting, remaining essentially unchanged. \n",
      "It was popularised in the 1960s with the release of Letraset sheets containing Lorem Ipsum passages, \n",
      "and more recently with desktop publishing software like Aldus PageMaker including versions of Lorem Ipsum.\n",
      "\n"
     ]
    }
   ],
   "source": [
    "# readline : 한줄씩 읽기, readline(문자수) : 문자수 읽기\n",
    "with open('./test.txt', 'r') as f:\n",
    "    line = f.readline()\n",
    "    while line:\n",
    "        # print(line.strip('\\n'))\n",
    "        print(line, end='')\n",
    "        line = f.readline()"
   ]
  },
  {
   "cell_type": "code",
   "execution_count": 7,
   "metadata": {},
   "outputs": [
    {
     "name": "stdout",
     "output_type": "stream",
     "text": [
      "['Lorem Ipsum is simply dummy text of the printing and typesetting industry. \\n', \"Lorem Ipsum has been the industry's standard dummy text ever since the 1500s, \\n\", 'when an unknown printer took a galley of type and scrambled it to make a type specimen book. \\n', 'It has survived not only five centuries, but also the leap into electronic typesetting, remaining essentially unchanged. \\n', 'It was popularised in the 1960s with the release of Letraset sheets containing Lorem Ipsum passages, \\n', 'and more recently with desktop publishing software like Aldus PageMaker including versions of Lorem Ipsum.\\n', '\\n']\n",
      "----------------\n",
      "Lorem Ipsum is simply dummy text of the printing and typesetting industry. \n",
      "###Lorem Ipsum has been the industry's standard dummy text ever since the 1500s, \n",
      "###when an unknown printer took a galley of type and scrambled it to make a type specimen book. \n",
      "###It has survived not only five centuries, but also the leap into electronic typesetting, remaining essentially unchanged. \n",
      "###It was popularised in the 1960s with the release of Letraset sheets containing Lorem Ipsum passages, \n",
      "###and more recently with desktop publishing software like Aldus PageMaker including versions of Lorem Ipsum.\n",
      "###\n",
      "###"
     ]
    }
   ],
   "source": [
    "# readlines() : 전체를 읽은 후 라인 단위 리스트로 저장\n",
    "with open('./test.txt', 'r') as f:\n",
    "    contents = f.readlines() # 리스트로 받아옴\n",
    "    print(contents)\n",
    "    print('----------------')\n",
    "    for c in contents:\n",
    "        print(c, end='###')"
   ]
  },
  {
   "cell_type": "code",
   "execution_count": 8,
   "metadata": {},
   "outputs": [
    {
     "name": "stdout",
     "output_type": "stream",
     "text": [
      "['Lorem Ipsum is simply dummy text of the printing and typesetting industry. \\n', \"Lorem Ipsum has been the industry's standard dummy text ever since the 1500s, \\n\", 'when an unknown printer took a galley of type and scrambled it to make a type specimen book. \\n', 'It has survived not only five centuries, but also the leap into electronic typesetting, remaining essentially unchanged. \\n', 'It was popularised in the 1960s with the release of Letraset sheets containing Lorem Ipsum passages, \\n', 'and more recently with desktop publishing software like Aldus PageMaker including versions of Lorem Ipsum.\\n', '\\n']\n"
     ]
    }
   ],
   "source": [
    "with open('./test.txt', 'r') as f:\n",
    "    score = []\n",
    "    for line in f:\n",
    "        score.append(line)\n",
    "    print(score)"
   ]
  },
  {
   "cell_type": "code",
   "execution_count": 10,
   "metadata": {},
   "outputs": [],
   "source": [
    "# 파일 쓰기\n",
    "with open('./test_write.txt', 'w') as f:\n",
    "    f.write('Goodman!! \\n')"
   ]
  },
  {
   "cell_type": "code",
   "execution_count": 11,
   "metadata": {},
   "outputs": [],
   "source": [
    "with open('./test_write.txt', 'a') as f:\n",
    "    f.write('Niceman!! \\n')"
   ]
  },
  {
   "cell_type": "code",
   "execution_count": 30,
   "metadata": {},
   "outputs": [],
   "source": [
    "from random import randint\n",
    "\n",
    "\n",
    "# 로또번호 파일에 쓰기\n",
    "with open('./lotto.txt', 'w') as f:\n",
    "    for num in range(6):\n",
    "        f.write(str(randint(1, 45)))\n",
    "        f.write(' ')\n"
   ]
  },
  {
   "cell_type": "code",
   "execution_count": null,
   "metadata": {},
   "outputs": [],
   "source": []
  }
 ],
 "metadata": {
  "kernelspec": {
   "display_name": "Python 3",
   "language": "python",
   "name": "python3"
  },
  "language_info": {
   "codemirror_mode": {
    "name": "ipython",
    "version": 3
   },
   "file_extension": ".py",
   "mimetype": "text/x-python",
   "name": "python",
   "nbconvert_exporter": "python",
   "pygments_lexer": "ipython3",
   "version": "3.7.6"
  }
 },
 "nbformat": 4,
 "nbformat_minor": 4
}
