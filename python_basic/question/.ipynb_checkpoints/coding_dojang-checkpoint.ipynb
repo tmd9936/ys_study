{
 "cells": [
  {
   "cell_type": "code",
   "execution_count": 12,
   "metadata": {},
   "outputs": [
    {
     "name": "stdout",
     "output_type": "stream",
     "text": [
      "True\n"
     ]
    }
   ],
   "source": [
    "# 회문판별 알고리즘\n",
    "def g_check(string):\n",
    "    is_palindrome = True\n",
    "    for i in range(len(string)//2):\n",
    "        if string[i] != string[-i+(-1)]:\n",
    "            is_palindrome = False\n",
    "            break\n",
    "            \n",
    "    return is_palindrome\n",
    "\n",
    "print(g_check('passap'))"
   ]
  },
  {
   "cell_type": "code",
   "execution_count": 13,
   "metadata": {},
   "outputs": [
    {
     "name": "stdout",
     "output_type": "stream",
     "text": [
      "True\n"
     ]
    }
   ],
   "source": [
    "def g_check2(string):\n",
    "    if string == string[::-1]:\n",
    "        return True\n",
    "    else:\n",
    "        return False\n",
    "\n",
    "print(g_check('passap'))"
   ]
  },
  {
   "cell_type": "code",
   "execution_count": 14,
   "metadata": {},
   "outputs": [
    {
     "name": "stdout",
     "output_type": "stream",
     "text": [
      "H e\n",
      "e l\n",
      "l l\n",
      "l o\n"
     ]
    }
   ],
   "source": [
    "test = 'Hello'\n",
    "\n",
    "for x in range(len(test) -1):\n",
    "    print(test[x], test[x+1])"
   ]
  },
  {
   "cell_type": "code",
   "execution_count": 15,
   "metadata": {},
   "outputs": [
    {
     "name": "stdout",
     "output_type": "stream",
     "text": [
      "[('h', 'e'), ('e', 'l'), ('l', 'l'), ('l', 'o')]\n"
     ]
    }
   ],
   "source": [
    "text = 'hello'\n",
    "\n",
    "re = list(zip(text,text[1:]))\n",
    "print(re)"
   ]
  },
  {
   "cell_type": "code",
   "execution_count": 16,
   "metadata": {},
   "outputs": [
    {
     "data": {
      "text/plain": [
       "[('this', 'is'), ('is', 'python'), ('python', 'script')]"
      ]
     },
     "execution_count": 16,
     "metadata": {},
     "output_type": "execute_result"
    }
   ],
   "source": [
    "t = 'this is python script'\n",
    "li = t.split(' ')\n",
    "list(zip(li, li[1:]))"
   ]
  },
  {
   "cell_type": "code",
   "execution_count": 19,
   "metadata": {},
   "outputs": [
    {
     "data": {
      "text/plain": [
       "[('this', 'is', 'python'), ('is', 'python', 'script')]"
      ]
     },
     "execution_count": 19,
     "metadata": {},
     "output_type": "execute_result"
    }
   ],
   "source": [
    "t = 'this is python script'.split(' ')\n",
    "\n",
    "list(zip(*[t[x:] for x in range(3)]))"
   ]
  },
  {
   "cell_type": "code",
   "execution_count": 20,
   "metadata": {},
   "outputs": [
    {
     "name": "stdout",
     "output_type": "stream",
     "text": [
      "10\n",
      "20\n",
      "30\n"
     ]
    }
   ],
   "source": [
    "def print_num(a, b, c):\n",
    "    print(a)\n",
    "    print(b)\n",
    "    print(c)\n",
    "\n",
    "x = [10,20,30]\n",
    "print_num(*x)"
   ]
  },
  {
   "cell_type": "code",
   "execution_count": 28,
   "metadata": {},
   "outputs": [
    {
     "name": "stdout",
     "output_type": "stream",
     "text": [
      "True\n",
      "False\n"
     ]
    }
   ],
   "source": [
    "def is_palindrome(word):\n",
    "    if len(word) < 2:\n",
    "        return True\n",
    "    if word[0] != word[-1]:\n",
    "        return False\n",
    "    return is_palindrome(word[1:-1])\n",
    "\n",
    "print(is_palindrome('assa'))\n",
    "print(is_palindrome('assaa'))"
   ]
  },
  {
   "cell_type": "code",
   "execution_count": null,
   "metadata": {},
   "outputs": [],
   "source": []
  }
 ],
 "metadata": {
  "kernelspec": {
   "display_name": "Python 3",
   "language": "python",
   "name": "python3"
  },
  "language_info": {
   "codemirror_mode": {
    "name": "ipython",
    "version": 3
   },
   "file_extension": ".py",
   "mimetype": "text/x-python",
   "name": "python",
   "nbconvert_exporter": "python",
   "pygments_lexer": "ipython3",
   "version": "3.7.6"
  }
 },
 "nbformat": 4,
 "nbformat_minor": 4
}
