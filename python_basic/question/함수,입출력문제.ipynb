{
 "cells": [
  {
   "cell_type": "code",
   "execution_count": 1,
   "metadata": {},
   "outputs": [],
   "source": [
    "def is_odd(number):\n",
    "    if number % 2 == 0:\n",
    "        True\n",
    "    else:\n",
    "        return False"
   ]
  },
  {
   "cell_type": "code",
   "execution_count": 4,
   "metadata": {},
   "outputs": [
    {
     "name": "stdout",
     "output_type": "stream",
     "text": [
      "5.166666666666667\n",
      "1.5\n"
     ]
    }
   ],
   "source": [
    "def avg_numbers(*args):\n",
    "    result = 0\n",
    "    for i in args:\n",
    "        result += i\n",
    "    return result / len(args)\n",
    "\n",
    "print(avg_numbers(2,3,4,5,6,11))\n",
    "print(avg_numbers(1,2))"
   ]
  },
  {
   "cell_type": "code",
   "execution_count": 6,
   "metadata": {},
   "outputs": [
    {
     "name": "stdout",
     "output_type": "stream",
     "text": [
      "첫번쨰 숫자를 입력하세요.5\n",
      "첫번쨰 숫자를 입력하세요.5\n",
      "두 수의 합은 10 입니다.\n"
     ]
    }
   ],
   "source": [
    "input1 = int(input(\"첫번쨰 숫자를 입력하세요.\"))\n",
    "input2 = int(input(\"첫번쨰 숫자를 입력하세요.\"))\n",
    "\n",
    "total = input1 + input2\n",
    "print(\"두 수의 합은 %s 입니다.\" % total)"
   ]
  },
  {
   "cell_type": "code",
   "execution_count": 10,
   "metadata": {},
   "outputs": [
    {
     "name": "stdout",
     "output_type": "stream",
     "text": [
      "Life is too short\n"
     ]
    }
   ],
   "source": [
    "f1 = open('que1.txt', 'w')\n",
    "f1.write('Life is too short')\n",
    "f1.close()\n",
    "\n",
    "f2 = open('que1.txt', 'r')\n",
    "print(f2.read())\n",
    "f2.close()"
   ]
  },
  {
   "cell_type": "code",
   "execution_count": 18,
   "metadata": {},
   "outputs": [
    {
     "name": "stdout",
     "output_type": "stream",
     "text": [
      "작성할 내용을 입력하세요. : ㅎㅇㅎㅇㅎㅇㅎ\n"
     ]
    }
   ],
   "source": [
    "user_input = input('작성할 내용을 입력하세요. : ')\n",
    "f = open('que2.txt', 'a',encoding='utf8')\n",
    "f.write(user_input)\n",
    "f.write('\\n')\n",
    "f.close()\n"
   ]
  },
  {
   "cell_type": "code",
   "execution_count": 19,
   "metadata": {},
   "outputs": [],
   "source": [
    "f = open('que3.txt','r')\n",
    "body = f.read()\n",
    "f.close()\n",
    "\n",
    "body = body.replace('java','python')\n",
    "\n",
    "f = open('que3.txt','w')\n",
    "f.write(body)\n",
    "f.close()"
   ]
  },
  {
   "cell_type": "code",
   "execution_count": null,
   "metadata": {},
   "outputs": [],
   "source": []
  }
 ],
 "metadata": {
  "kernelspec": {
   "display_name": "Python 3",
   "language": "python",
   "name": "python3"
  },
  "language_info": {
   "codemirror_mode": {
    "name": "ipython",
    "version": 3
   },
   "file_extension": ".py",
   "mimetype": "text/x-python",
   "name": "python",
   "nbconvert_exporter": "python",
   "pygments_lexer": "ipython3",
   "version": "3.7.6"
  }
 },
 "nbformat": 4,
 "nbformat_minor": 4
}
