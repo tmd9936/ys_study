{
 "cells": [
  {
   "cell_type": "markdown",
   "metadata": {},
   "source": [
    "### 딕셔너리 자료형\n",
    "- 순서가 없다.\n",
    "- 중복을 허용하지 않는다.\n",
    "- 수정이 가능\n",
    "- 삭제가 가능\n",
    "\n",
    "#### 딕셔너리는 JSON과 비슷\n",
    "- 원소를 Key, Value의 한쌍으로 표현한다."
   ]
  },
  {
   "cell_type": "code",
   "execution_count": 8,
   "metadata": {},
   "outputs": [
    {
     "name": "stdout",
     "output_type": "stream",
     "text": [
      "a :  {'name': 'Lee', 'phone': '010-1231-2345', 'birth': '991010'} <class 'dict'>\n",
      "{0: 'Heelo Python!', 1: 'hello Coding'}\n"
     ]
    }
   ],
   "source": [
    "# 선언\n",
    "a = {'name':'Lee', 'phone':'010-1231-2345', 'birth':'991010'}\n",
    "print('a : ', a, type(a))\n",
    "b = {0:'Heelo Python!', 1:'hello Coding'}\n",
    "print(b)\n",
    "\n",
    "c = {'arr':[1,2,3,4]}\n"
   ]
  },
  {
   "cell_type": "code",
   "execution_count": 9,
   "metadata": {},
   "outputs": [
    {
     "name": "stdout",
     "output_type": "stream",
     "text": [
      "a :  Lee\n",
      "a:  Lee\n",
      "Heelo Python!\n",
      "Heelo Python!\n",
      "[1, 2, 3, 4]\n",
      "3\n",
      "[1, 2, 3, 4]\n",
      "3\n"
     ]
    }
   ],
   "source": [
    "#출력\n",
    "\n",
    "print('a : ', a['name'])\n",
    "# 데이터가 없응 경우 에러\n",
    "# get으로 접근시 안전하다\n",
    "print('a: ', a.get('name')) # 에러없으 None출력\n",
    "print(b[0])\n",
    "print(b.get(0))\n",
    "\n",
    "print(c['arr'])\n",
    "print(c['arr'][2])\n",
    "print(c.get('arr'))\n",
    "print(c.get('arr')[2])"
   ]
  },
  {
   "cell_type": "code",
   "execution_count": 18,
   "metadata": {},
   "outputs": [
    {
     "name": "stdout",
     "output_type": "stream",
     "text": [
      "a :  {'name': 'Lee', 'phone': '010-1231-2345', 'birth': '991010', 'age': 30}\n",
      "a :  {'name': 'Lee', 'phone': '010-1231-2345', 'birth': '991010', 'age': 30, 'addr': '인천'}\n",
      "a :  {'name': 'Lee', 'phone': '010-1231-2345', 'birth': '991010', 'age': 30, 'addr': '인천', 'rank': (1, 2, 3, 4)}\n"
     ]
    }
   ],
   "source": [
    "# 딕셔너리 추가\n",
    "a['age'] = 30\n",
    "print('a : ', a)\n",
    "a['addr'] = '인천'\n",
    "print('a : ', a)\n",
    "a['rank'] = (1,2,3,4,)\n",
    "print('a : ', a)"
   ]
  },
  {
   "cell_type": "code",
   "execution_count": 22,
   "metadata": {},
   "outputs": [
    {
     "name": "stdout",
     "output_type": "stream",
     "text": [
      "a :  dict_keys(['name', 'phone', 'birth', 'age', 'addr', 'rank'])\n",
      "a :  ['name', 'phone', 'birth', 'age', 'addr', 'rank']\n",
      "a :  age\n"
     ]
    }
   ],
   "source": [
    "# keys, values, items\n",
    "\n",
    "print('a : ', a.keys())\n",
    "# print('a : ', a.keys()[3]) 에러 발생\n",
    "print('a : ', list(a.keys())) # 리스트 형변환\n",
    "print('a : ', list(a.keys())[3])\n",
    "\n"
   ]
  },
  {
   "cell_type": "code",
   "execution_count": 26,
   "metadata": {},
   "outputs": [
    {
     "name": "stdout",
     "output_type": "stream",
     "text": [
      "['name', 'phone', 'birth', 'age', 'addr', 'rank']\n",
      "['phone', 'birth']\n"
     ]
    }
   ],
   "source": [
    "# keys()\n",
    "temp = list(a.keys())\n",
    "print(temp)\n",
    "print(temp[1:3])"
   ]
  },
  {
   "cell_type": "code",
   "execution_count": 27,
   "metadata": {},
   "outputs": [
    {
     "name": "stdout",
     "output_type": "stream",
     "text": [
      "dict_values(['Lee', '010-1231-2345', '991010', 30, '인천', (1, 2, 3, 4)])\n",
      "['Lee', '010-1231-2345', '991010', 30, '인천', (1, 2, 3, 4)]\n",
      "['010-1231-2345', '991010', 30, '인천']\n"
     ]
    }
   ],
   "source": [
    "# values()\n",
    "print(a.values())\n",
    "print(list(a.values()))\n",
    "temp_v = list(a.values())\n",
    "print(temp_v[1:5])"
   ]
  },
  {
   "cell_type": "code",
   "execution_count": 30,
   "metadata": {},
   "outputs": [
    {
     "name": "stdout",
     "output_type": "stream",
     "text": [
      "dict_items([('name', 'Lee'), ('phone', '010-1231-2345'), ('birth', '991010'), ('age', 30), ('addr', '인천'), ('rank', (1, 2, 3, 4))])\n",
      "[('name', 'Lee'), ('phone', '010-1231-2345'), ('birth', '991010'), ('age', 30), ('addr', '인천'), ('rank', (1, 2, 3, 4))]\n",
      "[('name', 'Lee'), ('phone', '010-1231-2345')]\n"
     ]
    }
   ],
   "source": [
    "# items()\n",
    "print(a.items())\n",
    "print(list(a.items()))\n",
    "temp_i = list(a.items())\n",
    "print(temp_i[:2])\n"
   ]
  },
  {
   "cell_type": "code",
   "execution_count": 32,
   "metadata": {},
   "outputs": [
    {
     "name": "stdout",
     "output_type": "stream",
     "text": [
      "True\n",
      "False\n"
     ]
    }
   ],
   "source": [
    "print('name' in a)\n",
    "print('name' in b)"
   ]
  },
  {
   "cell_type": "code",
   "execution_count": null,
   "metadata": {},
   "outputs": [],
   "source": []
  }
 ],
 "metadata": {
  "kernelspec": {
   "display_name": "Python 3",
   "language": "python",
   "name": "python3"
  },
  "language_info": {
   "codemirror_mode": {
    "name": "ipython",
    "version": 3
   },
   "file_extension": ".py",
   "mimetype": "text/x-python",
   "name": "python",
   "nbconvert_exporter": "python",
   "pygments_lexer": "ipython3",
   "version": "3.7.6"
  }
 },
 "nbformat": 4,
 "nbformat_minor": 4
}
