{
 "cells": [
  {
   "cell_type": "markdown",
   "metadata": {},
   "source": [
    "### 함수\n",
    "* 그동안 우리는 무심코 많은 함수를 사용했음\n",
    "    - print(), sum(), len(), range() ...\n",
    "    - 주어진 입력(input)에 대해서 의도된 출력(output)을 전달하는 역활\n",
    "    - 위의 함수들은 모두 python 내뷰애 이미 정의(구현) 되어있는 내장함수(built-in function)라고 한다.\n",
    " \n",
    " \n",
    " "
   ]
  },
  {
   "cell_type": "code",
   "execution_count": 1,
   "metadata": {},
   "outputs": [
    {
     "name": "stdout",
     "output_type": "stream",
     "text": [
      "4\n",
      "10\n"
     ]
    }
   ],
   "source": [
    "a = [1,2,3,4]\n",
    "length = len(a)\n",
    "print(length)\n",
    "\n",
    "total = sum(a)\n",
    "print(total)"
   ]
  },
  {
   "cell_type": "markdown",
   "metadata": {},
   "source": [
    "### 함수의 정의(사용자 정의 함수)\n",
    "* 정의 시 def 키워드를 사용\n",
    "* argument(매개변수) 정의(함수의 입력으로 전달하는 값을 의미, parameter라고 함)\n",
    "* :(콜론)이 필요(함수는 코드 블록이기 때문에)\n",
    "* body(함수의 구현부분(블록))\n",
    "    - return 키워드를 사용해서 출력값을 전달\n",
    "* 함수의 네이밍\n",
    "    - 어떤 기능을 하는 함수인지 이름으로 최대한 표현하는 것이 좋다.\n",
    "    - e.g) get_a 보다는 get_student_name이 낫다.\n"
   ]
  },
  {
   "cell_type": "code",
   "execution_count": 3,
   "metadata": {},
   "outputs": [
    {
     "name": "stdout",
     "output_type": "stream",
     "text": [
      "110\n",
      "3\n",
      "Hello World!!\n"
     ]
    }
   ],
   "source": [
    "'''\n",
    "def 함수명(매개변수):\n",
    "    실행 코드\n",
    "    ...\n",
    "함수의 호출\n",
    "함수명()\n",
    "\n",
    "주의할 점: 함수 선언의 위치 함수호출보다 먼저 선언되어야 한다.\n",
    "'''\n",
    "\n",
    "def add(x, y):\n",
    "    n = x + y\n",
    "    return n\n",
    "\n",
    "c = add(100, 10)\n",
    "print(c)\n",
    "\n",
    "length = len([1,2,3])\n",
    "print(length)\n",
    "\n",
    "def say():\n",
    "    print(\"Hello World!!\")\n",
    "\n",
    "say()\n",
    "    "
   ]
  },
  {
   "cell_type": "markdown",
   "metadata": {},
   "source": [
    "### parameter(argument)(인자, 인수)\n",
    "* 함수에 전달되는 입력(input)\n",
    "* 입력이 필요 하지 않을 수도, 1개의 입력만 있을 수도, 여서개의 입력이 존재 할 수도 있음\n",
    "* 인자의 타입은 어떤 파이썬 객체도 전달 가능\n",
    "* 심지어, 함수도 함수의 파라미터로 전달 가능\n",
    "* 인자를 전달 할 때, 정의된 순서에 따라 값을 전달하는 것이 중요\n",
    "\n",
    "### Dfault parameter(기본 인자)\n",
    "* 함수의 기본값 지정 가능\n",
    "* 인자를 명시하지 않을 경우, 지정된 기본값으로 대체\n"
   ]
  },
  {
   "cell_type": "code",
   "execution_count": 6,
   "metadata": {},
   "outputs": [
    {
     "name": "stdout",
     "output_type": "stream",
     "text": [
      "60\n",
      "35\n",
      "20\n"
     ]
    }
   ],
   "source": [
    "def add(x, y=5, z=5): #인자의 초기값 지정\n",
    "    a = x + y + z\n",
    "    return a\n",
    "\n",
    "print(add(10, 20 ,30))\n",
    "print(add(10, 20))\n",
    "print(add(10))"
   ]
  },
  {
   "cell_type": "code",
   "execution_count": 9,
   "metadata": {},
   "outputs": [
    {
     "name": "stdout",
     "output_type": "stream",
     "text": [
      "1 3 5\n",
      "2!4!8^^^100\n"
     ]
    }
   ],
   "source": [
    "# 기본 파라미터(인수)의 다른 예\n",
    "# print함수\n",
    "# sep, end, file 등의 여러 기본 파라미터를 갖고 있음\n",
    "\n",
    "print(1, 3, 5)\n",
    "print(2, 4, 8, sep='!', end='^^^')\n",
    "print(100)"
   ]
  },
  {
   "cell_type": "markdown",
   "metadata": {},
   "source": [
    "### Default Parameter 사용시 주의점\n",
    "* 디폴트 파라미터뒤에 일반 파라미터가 위치할 수 없음\n",
    "* e.g) 올바른 예\n",
    "```python\n",
    "def test(a, b, c=1)\n",
    "def test(a, b=1, c=2)\n",
    "def test(a=1,b=2,c=3)\n",
    "```\n",
    "\n",
    "* e.g) 올바르지 않은 예\n",
    "```python\n",
    "def test(a, b=1, c)\n",
    "def test(a=1, b, c)\n",
    "def test(a=1,b=2,c)\n",
    "```\n"
   ]
  },
  {
   "cell_type": "code",
   "execution_count": 10,
   "metadata": {},
   "outputs": [
    {
     "ename": "SyntaxError",
     "evalue": "non-default argument follows default argument (<ipython-input-10-7ec5e6c8ab91>, line 1)",
     "output_type": "error",
     "traceback": [
      "\u001b[1;36m  File \u001b[1;32m\"<ipython-input-10-7ec5e6c8ab91>\"\u001b[1;36m, line \u001b[1;32m1\u001b[0m\n\u001b[1;33m    def test(a=1,b=2,c):\u001b[0m\n\u001b[1;37m            ^\u001b[0m\n\u001b[1;31mSyntaxError\u001b[0m\u001b[1;31m:\u001b[0m non-default argument follows default argument\n"
     ]
    }
   ],
   "source": [
    "def test(a=1,b=2,c):\n",
    "    print(a,b,c)"
   ]
  },
  {
   "cell_type": "markdown",
   "metadata": {},
   "source": [
    "### keyword parameter(키워드 파라미터)\n",
    "* 인자에 값을 전달할때, 인자의 이름을 명시하여 전달 가능\n",
    "* 이름을 사용하지 않을 경우, 기본적으로 순서에 맞게 전달"
   ]
  },
  {
   "cell_type": "code",
   "execution_count": 13,
   "metadata": {},
   "outputs": [
    {
     "data": {
      "text/plain": [
       "18"
      ]
     },
     "execution_count": 13,
     "metadata": {},
     "output_type": "execute_result"
    }
   ],
   "source": [
    "def test(x, y, z):\n",
    "    a = x + y + z\n",
    "    return a\n",
    "test(x=1, y=7, z=10)\n",
    "\n",
    "# 순서를 바꿔도 상관없음\n",
    "test(x=1, z=10, y=7)\n",
    "\n",
    "\n"
   ]
  },
  {
   "cell_type": "markdown",
   "metadata": {},
   "source": [
    "### return(리턴)\n",
    "* 기본적으로 함수의 종료를 명시\n",
    " - return 옆에 값이나 수식이 있다면 해당 값을 호출자(caller)에게 반환(전달)\n",
    " - return만 존재하면 None반환\n",
    " - return이 없는 경우, 기본적으로 함수 코드블록이 종료 되면 종료로 간주, 이때도 None 반환"
   ]
  },
  {
   "cell_type": "code",
   "execution_count": 22,
   "metadata": {},
   "outputs": [
    {
     "name": "stdout",
     "output_type": "stream",
     "text": [
      "None\n"
     ]
    }
   ],
   "source": [
    "def aa_mul(x, y):\n",
    "    if x > 10:\n",
    "#         return x * y\n",
    "        return\n",
    "    print(x + y)\n",
    "    return (x+2)*y\n",
    "    print(x + y) # 이 구문은 의미없음(수행 X)\n",
    "# c = aa_mul(3, 5)\n",
    "c = aa_mul(11, 5)\n",
    "print(c)\n"
   ]
  },
  {
   "cell_type": "code",
   "execution_count": 24,
   "metadata": {},
   "outputs": [
    {
     "name": "stdout",
     "output_type": "stream",
     "text": [
      "55\n"
     ]
    }
   ],
   "source": [
    "def aa_mul(x, y):\n",
    "    if x > 10:\n",
    "        return x * y\n",
    "    # 이 부분에는 return이 생략된 형태이다.\n",
    "c = aa_mul(11, 5)\n",
    "print(c)"
   ]
  },
  {
   "cell_type": "markdown",
   "metadata": {},
   "source": [
    "### 다중리턴"
   ]
  },
  {
   "cell_type": "code",
   "execution_count": 29,
   "metadata": {},
   "outputs": [
    {
     "name": "stdout",
     "output_type": "stream",
     "text": [
      "(23, 60, 2000)\n",
      "23 60 2000\n"
     ]
    }
   ],
   "source": [
    "def add_mul(x,y):\n",
    "    s = x + y\n",
    "    m = x * y\n",
    "    n = x * 100\n",
    "    \n",
    "    return s,m,n\n",
    "\n",
    "c = add_mul(20,3)\n",
    "print(c)\n",
    "cc, dd, nn = add_mul(20,3)\n",
    "print(cc, dd, nn)"
   ]
  },
  {
   "cell_type": "code",
   "execution_count": 33,
   "metadata": {},
   "outputs": [
    {
     "name": "stdout",
     "output_type": "stream",
     "text": [
      "<class 'tuple'> (8, 16, 24)\n"
     ]
    }
   ],
   "source": [
    "# 튜플 리턴\n",
    "def b_func(x):\n",
    "    y1 = x * 2\n",
    "    y2 = x * 4\n",
    "    y3 = x * 6\n",
    "    return(y1,y2,y3)\n",
    "\n",
    "tup = b_func(4)\n",
    "print(type(tup), tup)\n"
   ]
  },
  {
   "cell_type": "code",
   "execution_count": 35,
   "metadata": {},
   "outputs": [
    {
     "name": "stdout",
     "output_type": "stream",
     "text": [
      "<class 'list'> [4, 8, 12] {8, 4, 12}\n"
     ]
    }
   ],
   "source": [
    "# 리스트 리턴\n",
    "def b_func(x):\n",
    "    y1 = x * 2\n",
    "    y2 = x * 4\n",
    "    y3 = x * 6\n",
    "    return[y1,y2,y3]\n",
    "\n",
    "lis = b_func(2)\n",
    "print(type(lis), lis, set(lis))\n"
   ]
  },
  {
   "cell_type": "code",
   "execution_count": 40,
   "metadata": {},
   "outputs": [
    {
     "name": "stdout",
     "output_type": "stream",
     "text": [
      "<class 'dict'> 12 24 42 \n",
      " dict_items([('ret1', 12), ('ret2', 24), ('ret3', 42)]) \n",
      " dict_keys(['ret1', 'ret2', 'ret3']) \n",
      " dict_values([12, 24, 42])\n"
     ]
    }
   ],
   "source": [
    "# 딕셔너리 리턴\n",
    "def d_func(x):\n",
    "    y1 = x*2\n",
    "    y2 = x*4\n",
    "    y3 = x*7\n",
    "    return {'ret1':y1,\n",
    "            'ret2':y2,\n",
    "            'ret3':y3}\n",
    "dic = d_func(6)\n",
    "print(type(dic), dic.get('ret1'), dic.get('ret2'), dic.get('ret3'), '\\n' , dic.items(), '\\n' \n",
    "      , dic.keys(), '\\n', dic.values())\n",
    "    "
   ]
  },
  {
   "cell_type": "markdown",
   "metadata": {},
   "source": [
    "### variable scope(변수의 범위)\n",
    "* 변수가 참조 가능한 코드상의 범위를 명시\n",
    "* 함수내의 변수는 자신이 속한 코드 블록이 종료되면 소멸됨\n",
    "* 이처럼 특정 코드 블록에서 선언된 변수를 **지역변수(local variable)** 이라고 함\n",
    "* 반대로 가장 상단에서 정의되어 프로그램 종료 전까지 유지되는 변수를 **전역변수(global variable)**이라고함\n",
    "* 같은 이름의 지역변수와 전역변수가 존재할 경우, 지역변수의 우선순위가 높다.\n"
   ]
  },
  {
   "cell_type": "code",
   "execution_count": 43,
   "metadata": {},
   "outputs": [
    {
     "name": "stdout",
     "output_type": "stream",
     "text": [
      "100 200\n",
      "300\n",
      "10 30\n"
     ]
    }
   ],
   "source": [
    "num1 = 10\n",
    "num2 = 30\n",
    "\n",
    "def test(num1,num2): # 함수안에 선언된 변수는 지역변수이다.\n",
    "    print(num1, num2)\n",
    "    return num1 + num2\n",
    "cc = test(100, 200)\n",
    "print(cc)\n",
    "\n",
    "print(num1, num2)"
   ]
  },
  {
   "cell_type": "code",
   "execution_count": 44,
   "metadata": {},
   "outputs": [
    {
     "name": "stdout",
     "output_type": "stream",
     "text": [
      "10 30\n"
     ]
    }
   ],
   "source": [
    "print(num1, num2)"
   ]
  },
  {
   "cell_type": "markdown",
   "metadata": {},
   "source": [
    "### Variable length argument(가변길이 인자)\n",
    "* 전달되는 파라미터의 갯수가 고정적이지 않은 경우 사용\n",
    "* e.g)\n",
    " - print()\n",
    " - format()\n",
    "\n",
    "```\n",
    "*args, **kwargs\n",
    "```\n"
   ]
  },
  {
   "cell_type": "code",
   "execution_count": 45,
   "metadata": {},
   "outputs": [
    {
     "name": "stdout",
     "output_type": "stream",
     "text": [
      "\n",
      "1\n",
      "2 1\n",
      "3 2 1\n"
     ]
    }
   ],
   "source": [
    "# 파라미터의 갯수가 정해지지 않고 얼마든지 넣을 수 있다.\n",
    "print()\n",
    "print(1)\n",
    "print(2,1)\n",
    "print(3,2,1)"
   ]
  },
  {
   "cell_type": "code",
   "execution_count": 48,
   "metadata": {},
   "outputs": [
    {
     "name": "stdout",
     "output_type": "stream",
     "text": [
      "<class 'tuple'>\n",
      "<class 'tuple'>\n",
      "<class 'tuple'>\n",
      "<class 'tuple'>\n",
      "------------\n",
      "10\n",
      "11\n",
      "22\n",
      "33\n"
     ]
    }
   ],
   "source": [
    "def test(*x):\n",
    "    print(type(x))\n",
    "\n",
    "test()\n",
    "test(10)\n",
    "test(10,10.0)\n",
    "test(10,20,30)\n",
    "print('------------')\n",
    "def test(*args): # 가변 길이 함수는 관례적으로 args를 사용\n",
    "    for item in args:\n",
    "        print(item)\n",
    "test(10,11,22,33)"
   ]
  },
  {
   "cell_type": "code",
   "execution_count": 51,
   "metadata": {},
   "outputs": [
    {
     "name": "stdout",
     "output_type": "stream",
     "text": [
      "<class 'dict'>\n",
      "<class 'dict'>\n",
      "--------------------------\n",
      "key: a value: 1\n",
      "key: a value: 1\n",
      "key: b value: 3\n",
      "key: c value: 4\n",
      "key: d value: 5\n"
     ]
    }
   ],
   "source": [
    "def test2(**x):\n",
    "    print(type(x))\n",
    "\n",
    "test2()\n",
    "test2(a=1, b=2, c=3, d=4, name='Foo')\n",
    "print('--------------------------')\n",
    "def test3(**kwargs): # kwargs는 keyword arguments\n",
    "    for key, value in kwargs.items():\n",
    "        print('key:', key, 'value:', value)\n",
    "test3(a = 1)\n",
    "test3(a=1, b=3, c=4, d=5)\n",
    "    "
   ]
  },
  {
   "cell_type": "code",
   "execution_count": 54,
   "metadata": {},
   "outputs": [
    {
     "name": "stdout",
     "output_type": "stream",
     "text": [
      "오늘 온도: 20도 강수 확률: 60% \n"
     ]
    }
   ],
   "source": [
    "_str = '오늘 온도: {}도 강수 확률: {}% '.format(20, 60)\n",
    "print(_str)"
   ]
  },
  {
   "cell_type": "code",
   "execution_count": 55,
   "metadata": {},
   "outputs": [
    {
     "name": "stdout",
     "output_type": "stream",
     "text": [
      "오늘 온도: 20도 강수 확률: 60% 내일 예상 온도 22도\n"
     ]
    }
   ],
   "source": [
    "_str = '오늘 온도: {}도 강수 확률: {}% 내일 예상 온도 {}도'.format(20, 60, 22)\n",
    "print(_str)"
   ]
  },
  {
   "cell_type": "code",
   "execution_count": null,
   "metadata": {},
   "outputs": [],
   "source": []
  }
 ],
 "metadata": {
  "kernelspec": {
   "display_name": "Python 3",
   "language": "python",
   "name": "python3"
  },
  "language_info": {
   "codemirror_mode": {
    "name": "ipython",
    "version": 3
   },
   "file_extension": ".py",
   "mimetype": "text/x-python",
   "name": "python",
   "nbconvert_exporter": "python",
   "pygments_lexer": "ipython3",
   "version": "3.7.6"
  }
 },
 "nbformat": 4,
 "nbformat_minor": 4
}
