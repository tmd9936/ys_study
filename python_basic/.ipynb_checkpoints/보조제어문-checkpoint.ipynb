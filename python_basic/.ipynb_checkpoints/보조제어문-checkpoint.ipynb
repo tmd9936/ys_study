{
 "cells": [
  {
   "cell_type": "markdown",
   "metadata": {},
   "source": [
    "### 보조제어문 (break, continue)\n",
    "* break\n",
    " - loop를 중단할 때 사용\n",
    " - 보통 조건문안에서 수행되며, 조건을 만족하는경우 loop를 탈출 하기 위해 사용\n",
    " - loop를 중단하는경우, while 또는 for 이후의 코드를 수행"
   ]
  },
  {
   "cell_type": "code",
   "execution_count": 1,
   "metadata": {},
   "outputs": [
    {
     "name": "stdout",
     "output_type": "stream",
     "text": [
      "11\n",
      "10\n",
      "9\n",
      "End of while\n"
     ]
    }
   ],
   "source": [
    "a = [11,10,9,24,555,33,44,66,88]\n",
    "\n",
    "i = 0\n",
    "while i < len(a):\n",
    "    if a[i] > 20:\n",
    "        break;\n",
    "    print(a[i])\n",
    "    i += 1\n",
    "print('End of while')"
   ]
  },
  {
   "cell_type": "markdown",
   "metadata": {},
   "source": [
    "### continue\n",
    "* break 처럼 반복을 중단하여 빠져나오지 않고, 다시 while, for 조건으로 점프함\n",
    "* 특정한 경우에는  코드를 수행하지않고 다음으로 건너뛰기 위해 사용"
   ]
  },
  {
   "cell_type": "code",
   "execution_count": 2,
   "metadata": {},
   "outputs": [
    {
     "name": "stdout",
     "output_type": "stream",
     "text": [
      "6\n",
      "4\n",
      "3\n",
      "2\n",
      "1\n",
      "0\n"
     ]
    }
   ],
   "source": [
    "a = 7\n",
    "while a > 0:\n",
    "    a -= 1\n",
    "    if a == 5:\n",
    "        continue\n",
    "    print(a)"
   ]
  },
  {
   "cell_type": "code",
   "execution_count": null,
   "metadata": {},
   "outputs": [],
   "source": []
  }
 ],
 "metadata": {
  "kernelspec": {
   "display_name": "Python 3",
   "language": "python",
   "name": "python3"
  },
  "language_info": {
   "codemirror_mode": {
    "name": "ipython",
    "version": 3
   },
   "file_extension": ".py",
   "mimetype": "text/x-python",
   "name": "python",
   "nbconvert_exporter": "python",
   "pygments_lexer": "ipython3",
   "version": "3.7.6"
  }
 },
 "nbformat": 4,
 "nbformat_minor": 4
}
