{
 "cells": [
  {
   "cell_type": "markdown",
   "metadata": {},
   "source": [
    "### 함수\n",
    "* 그동안 우리는 무심코 많은 함수를 사용했음\n",
    "    - print(), sum(), len(), range() ...\n",
    "    - 주어진 입력(input)에 대해서 의도된 출력(output)을 전달하는 역활\n",
    "    - 위의 함수들은 모두 python 내뷰애 이미 정의(구현) 되어있는 내장함수(built-in function)라고 한다.\n",
    " \n",
    " \n",
    " "
   ]
  },
  {
   "cell_type": "code",
   "execution_count": 1,
   "metadata": {},
   "outputs": [
    {
     "name": "stdout",
     "output_type": "stream",
     "text": [
      "4\n",
      "10\n"
     ]
    }
   ],
   "source": [
    "a = [1,2,3,4]\n",
    "length = len(a)\n",
    "print(length)\n",
    "\n",
    "total = sum(a)\n",
    "print(total)"
   ]
  },
  {
   "cell_type": "markdown",
   "metadata": {},
   "source": [
    "### 함수의 정의(사용자 정의 함수)\n",
    "* 정의 시 def 키워드를 사용\n",
    "* argument(매개변수) 정의(함수의 입력으로 전달하는 값을 의미, parameter라고 함)\n",
    "* :(콜론)이 필요(함수는 코드 블록이기 때문에)\n",
    "* body(함수의 구현부분(블록))\n",
    "    - return 키워드를 사용해서 출력값을 전달\n",
    "* 함수의 네이밍\n",
    "    - 어떤 기능을 하는 함수인지 이름으로 최대한 표현하는 것이 좋다.\n",
    "    - e.g) get_a 보다는 get_student_name이 낫다.\n"
   ]
  },
  {
   "cell_type": "code",
   "execution_count": 3,
   "metadata": {},
   "outputs": [
    {
     "name": "stdout",
     "output_type": "stream",
     "text": [
      "110\n",
      "3\n",
      "Hello World!!\n"
     ]
    }
   ],
   "source": [
    "'''\n",
    "def 함수명(매개변수):\n",
    "    실행 코드\n",
    "    ...\n",
    "함수의 호출\n",
    "함수명()\n",
    "\n",
    "주의할 점: 함수 선언의 위치 함수호출보다 먼저 선언되어야 한다.\n",
    "'''\n",
    "\n",
    "def add(x, y):\n",
    "    n = x + y\n",
    "    return n\n",
    "\n",
    "c = add(100, 10)\n",
    "print(c)\n",
    "\n",
    "length = len([1,2,3])\n",
    "print(length)\n",
    "\n",
    "def say():\n",
    "    print(\"Hello World!!\")\n",
    "\n",
    "say()\n",
    "    "
   ]
  },
  {
   "cell_type": "markdown",
   "metadata": {},
   "source": [
    "### parameter(argument)(인자, 인수)\n",
    "* 함수에 전달되는 입력(input)\n",
    "* 입력이 필요 하지 않을 수도, 1개의 입력만 있을 수도, 여서개의 입력이 존재 할 수도 있음\n",
    "* 인자의 타입은 어떤 파이썬 객체도 전달 가능\n",
    "* 심지어, 함수도 함수의 파라미터로 전달 가능\n",
    "* 인자를 전달 할 때, 정의된 순서에 따라 값을 전달하는 것이 중요\n",
    "\n",
    "### Dfault parameter(기본 인자)\n",
    "* 함수의 기본값 지정 가능\n",
    "* 인자를 명시하지 않을 경우, 지정된 기본값으로 대체\n"
   ]
  },
  {
   "cell_type": "code",
   "execution_count": 6,
   "metadata": {},
   "outputs": [
    {
     "name": "stdout",
     "output_type": "stream",
     "text": [
      "60\n",
      "35\n",
      "20\n"
     ]
    }
   ],
   "source": [
    "def add(x, y=5, z=5): #인자의 초기값 지정\n",
    "    a = x + y + z\n",
    "    return a\n",
    "\n",
    "print(add(10, 20 ,30))\n",
    "print(add(10, 20))\n",
    "print(add(10))"
   ]
  },
  {
   "cell_type": "code",
   "execution_count": 9,
   "metadata": {},
   "outputs": [
    {
     "name": "stdout",
     "output_type": "stream",
     "text": [
      "1 3 5\n",
      "2!4!8^^^100\n"
     ]
    }
   ],
   "source": [
    "# 기본 파라미터(인수)의 다른 예\n",
    "# print함수\n",
    "# sep, end, file 등의 여러 기본 파라미터를 갖고 있음\n",
    "\n",
    "print(1, 3, 5)\n",
    "print(2, 4, 8, sep='!', end='^^^')\n",
    "print(100)"
   ]
  },
  {
   "cell_type": "markdown",
   "metadata": {},
   "source": [
    "### Default Parameter 사용시 주의점\n",
    "* 디폴트 파라미터뒤에 일반 파라미터가 위치할 수 없음\n",
    "* e.g) 올바른 예\n",
    "```python\n",
    "def test(a, b, c=1)\n",
    "def test(a, b=1, c=2)\n",
    "def test(a=1,b=2,c=3)\n",
    "```\n",
    "\n",
    "* e.g) 올바르지 않은 예\n",
    "```python\n",
    "def test(a, b=1, c)\n",
    "def test(a=1, b, c)\n",
    "def test(a=1,b=2,c)\n",
    "```\n"
   ]
  },
  {
   "cell_type": "code",
   "execution_count": 10,
   "metadata": {},
   "outputs": [
    {
     "ename": "SyntaxError",
     "evalue": "non-default argument follows default argument (<ipython-input-10-7ec5e6c8ab91>, line 1)",
     "output_type": "error",
     "traceback": [
      "\u001b[1;36m  File \u001b[1;32m\"<ipython-input-10-7ec5e6c8ab91>\"\u001b[1;36m, line \u001b[1;32m1\u001b[0m\n\u001b[1;33m    def test(a=1,b=2,c):\u001b[0m\n\u001b[1;37m            ^\u001b[0m\n\u001b[1;31mSyntaxError\u001b[0m\u001b[1;31m:\u001b[0m non-default argument follows default argument\n"
     ]
    }
   ],
   "source": [
    "def test(a=1,b=2,c):\n",
    "    print(a,b,c)"
   ]
  },
  {
   "cell_type": "markdown",
   "metadata": {},
   "source": [
    "### keyword parameter(키워드 파라미터)\n",
    "* 인자에 값을 전달할때, 인자의 이름을 명시하여 전달 가능\n",
    "* 이름을 사용하지 않을 경우, 기본적으로 순서에 맞게 전달"
   ]
  },
  {
   "cell_type": "code",
   "execution_count": 13,
   "metadata": {},
   "outputs": [
    {
     "data": {
      "text/plain": [
       "18"
      ]
     },
     "execution_count": 13,
     "metadata": {},
     "output_type": "execute_result"
    }
   ],
   "source": [
    "def test(x, y, z):\n",
    "    a = x + y + z\n",
    "    return a\n",
    "test(x=1, y=7, z=10)\n",
    "\n",
    "# 순서를 바꿔도 상관없음\n",
    "test(x=1, z=10, y=7)\n",
    "\n",
    "\n"
   ]
  },
  {
   "cell_type": "markdown",
   "metadata": {},
   "source": [
    "### return(리턴)\n",
    "* 기본적으로 함수의 종료를 명시\n",
    " - return 옆에 값이나 수식이 있다면 해당 값을 호출자(caller)에게 반환(전달)\n",
    " - return만 존재하면 None반환\n",
    " - return이 없는 경우, 기본적으로 함수 코드블록이 종료 되면 종료로 간주, 이때도 None 반환"
   ]
  },
  {
   "cell_type": "code",
   "execution_count": 22,
   "metadata": {},
   "outputs": [
    {
     "name": "stdout",
     "output_type": "stream",
     "text": [
      "None\n"
     ]
    }
   ],
   "source": [
    "def aa_mul(x, y):\n",
    "    if x > 10:\n",
    "#         return x * y\n",
    "        return\n",
    "    print(x + y)\n",
    "    return (x+2)*y\n",
    "    print(x + y) # 이 구문은 의미없음(수행 X)\n",
    "# c = aa_mul(3, 5)\n",
    "c = aa_mul(11, 5)\n",
    "print(c)\n"
   ]
  },
  {
   "cell_type": "code",
   "execution_count": 24,
   "metadata": {},
   "outputs": [
    {
     "name": "stdout",
     "output_type": "stream",
     "text": [
      "55\n"
     ]
    }
   ],
   "source": [
    "def aa_mul(x, y):\n",
    "    if x > 10:\n",
    "        return x * y\n",
    "    # 이 부분에는 return이 생략된 형태이다.\n",
    "c = aa_mul(11, 5)\n",
    "print(c)"
   ]
  },
  {
   "cell_type": "code",
   "execution_count": null,
   "metadata": {},
   "outputs": [],
   "source": []
  }
 ],
 "metadata": {
  "kernelspec": {
   "display_name": "Python 3",
   "language": "python",
   "name": "python3"
  },
  "language_info": {
   "codemirror_mode": {
    "name": "ipython",
    "version": 3
   },
   "file_extension": ".py",
   "mimetype": "text/x-python",
   "name": "python",
   "nbconvert_exporter": "python",
   "pygments_lexer": "ipython3",
   "version": "3.7.6"
  }
 },
 "nbformat": 4,
 "nbformat_minor": 4
}
