{
 "cells": [
  {
   "cell_type": "markdown",
   "metadata": {},
   "source": [
    "### 반복문 (Loop)\n",
    " - 반복적인 작업을 할때 유용함\n",
    " - 특정조건을 만족할 때 수행하도록 제어\n",
    " - 리스트, 튜플 등등의 아이템을 하나씩 순회하면서 사용가능\n",
    " - 실제 코딩 작업에서 가장 많이 사용하는 구문\n",
    "\n",
    "#### while문\n",
    " - while 뒤에 조건이 True일 경우, while의 코드블록을 계속 수행\n",
    "  - if문과 마찬가지로 while문 아래의 들여쓰기로 작성된 부분을 의미\n",
    "  - 조건이 False가 되면 블록 수행을 멈추고 이후 코드를 실행한다."
   ]
  },
  {
   "cell_type": "markdown",
   "metadata": {},
   "source": [
    "#### while 키워드 이용하여 리스트 아이템 출력하기"
   ]
  },
  {
   "cell_type": "code",
   "execution_count": 5,
   "metadata": {},
   "outputs": [
    {
     "name": "stdout",
     "output_type": "stream",
     "text": [
      "value:  555 , index:  4\n",
      "value:  33 , index:  5\n",
      "value:  44 , index:  6\n",
      "value:  66 , index:  7\n",
      "value:  88 , index:  8\n"
     ]
    }
   ],
   "source": [
    "a = [11, 10 ,9 ,24 ,555, 33, 44, 66, 88]\n",
    "\n",
    "i = 0\n",
    "while i < len(a):\n",
    "    if a[i] > 30:\n",
    "        print('value: ', a[i], ', index: ', i)\n",
    "    i += 1"
   ]
  },
  {
   "cell_type": "code",
   "execution_count": 6,
   "metadata": {},
   "outputs": [
    {
     "name": "stdout",
     "output_type": "stream",
     "text": [
      "홀수\n",
      "짝수\n",
      "홀수\n",
      "짝수\n",
      "홀수\n",
      "홀수\n",
      "짝수\n",
      "짝수\n",
      "짝수\n"
     ]
    }
   ],
   "source": [
    "a = [11, 10 ,9 ,24 ,555, 33, 44, 66, 88]\n",
    "\n",
    "i = 0\n",
    "while i < len(a):\n",
    "    if a[i] % 2 == 0:\n",
    "        print('짝수')\n",
    "    else:\n",
    "        print('홀수')\n",
    "    i += 1"
   ]
  },
  {
   "cell_type": "code",
   "execution_count": null,
   "metadata": {},
   "outputs": [],
   "source": []
  }
 ],
 "metadata": {
  "kernelspec": {
   "display_name": "Python 3",
   "language": "python",
   "name": "python3"
  },
  "language_info": {
   "codemirror_mode": {
    "name": "ipython",
    "version": 3
   },
   "file_extension": ".py",
   "mimetype": "text/x-python",
   "name": "python",
   "nbconvert_exporter": "python",
   "pygments_lexer": "ipython3",
   "version": "3.7.6"
  }
 },
 "nbformat": 4,
 "nbformat_minor": 4
}
