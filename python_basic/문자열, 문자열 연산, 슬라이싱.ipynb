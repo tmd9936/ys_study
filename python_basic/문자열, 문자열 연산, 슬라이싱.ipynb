{
 "cells": [
  {
   "cell_type": "markdown",
   "metadata": {},
   "source": [
    "### 문자열 생성"
   ]
  },
  {
   "cell_type": "code",
   "execution_count": 1,
   "metadata": {},
   "outputs": [
    {
     "name": "stdout",
     "output_type": "stream",
     "text": [
      "I am boy\n",
      "GoodMan\n",
      "Thank you\n"
     ]
    }
   ],
   "source": [
    "str1 = \"I am boy\"\n",
    "str2 = 'GoodMan'\n",
    "str3 = '''Thank you'''\n",
    "\n",
    "print(str1)\n",
    "print(str2)\n",
    "print(str3)"
   ]
  },
  {
   "cell_type": "markdown",
   "metadata": {},
   "source": [
    "### 문자열 길이"
   ]
  },
  {
   "cell_type": "code",
   "execution_count": 6,
   "metadata": {},
   "outputs": [
    {
     "name": "stdout",
     "output_type": "stream",
     "text": [
      "8\n",
      "7\n",
      "9\n",
      "0\n",
      "0\n",
      "5\n"
     ]
    }
   ],
   "source": [
    "str4 = ''\n",
    "str5 = str() # 문자열 생성 함수\n",
    "str6 = str('abcde')\n",
    "\n",
    "# len() 함수는 문자열의 길이를 반환\n",
    "print(len(str1))\n",
    "print(len(str2))\n",
    "print(len(str3))\n",
    "print(len(str4))\n",
    "print(len(str5))\n",
    "print(len(str6))\n"
   ]
  },
  {
   "cell_type": "markdown",
   "metadata": {},
   "source": [
    "#### 이스케이프 문자 사용"
   ]
  },
  {
   "cell_type": "code",
   "execution_count": 9,
   "metadata": {},
   "outputs": [
    {
     "name": "stdout",
     "output_type": "stream",
     "text": [
      "Do you have a \"big collection\"?\n",
      "What's on TV?\n",
      "This is a \"book\"\n"
     ]
    }
   ],
   "source": [
    "e_str1 = \"Do you have a \\\"big collection\\\"?\"\n",
    "print(e_str1)\n",
    "e_str2 = 'What\\'s on TV?'\n",
    "print(e_str2)\n",
    "e_str3 = 'This is a \"book\"'\n",
    "print(e_str3)"
   ]
  },
  {
   "cell_type": "code",
   "execution_count": 10,
   "metadata": {},
   "outputs": [
    {
     "name": "stdout",
     "output_type": "stream",
     "text": [
      "'Tab \tClick'\n",
      "New line\n",
      " Start\n"
     ]
    }
   ],
   "source": [
    "# 탭, 줄바꿈\n",
    "t_s1 = \"'Tab \\tClick'\"\n",
    "print(t_s1)\n",
    "t_s2 = \"New line\\n Start\"\n",
    "print(t_s2)"
   ]
  },
  {
   "cell_type": "markdown",
   "metadata": {},
   "source": [
    "### Raw String"
   ]
  },
  {
   "cell_type": "code",
   "execution_count": 24,
   "metadata": {},
   "outputs": [
    {
     "name": "stdout",
     "output_type": "stream",
     "text": [
      "C:\\programs\\Python\n",
      "C:\\Programs\\Python\n"
     ]
    }
   ],
   "source": [
    "# C:\\Programs\\Python\n",
    "print(\"C:\\\\programs\\\\Python\")\n",
    "r_s1 = r'C:\\Programs\\Python'\n",
    "print(r_s1)"
   ]
  },
  {
   "cell_type": "code",
   "execution_count": 23,
   "metadata": {},
   "outputs": [
    {
     "name": "stdout",
     "output_type": "stream",
     "text": [
      "\n",
      "멀티 문자\n",
      "라인 출력\n",
      "테스트 \n",
      "\n"
     ]
    }
   ],
   "source": [
    "# 멀티 라인 출력\n",
    "multi_str1 = \\\n",
    "\"\"\"\n",
    "멀티 문자\n",
    "라인 출력\n",
    "테스트 \n",
    "\"\"\"\n",
    "print(multi_str1)"
   ]
  },
  {
   "cell_type": "code",
   "execution_count": 26,
   "metadata": {},
   "outputs": [
    {
     "name": "stdout",
     "output_type": "stream",
     "text": [
      "\n",
      "멀티 문자\n",
      "라인 출력\n",
      "테스트 \n",
      "\n"
     ]
    }
   ],
   "source": [
    "# 멀티 라인 출력\n",
    "multi_str2 = \"\"\"\n",
    "멀티 문자\n",
    "라인 출력\n",
    "테스트 \n",
    "\"\"\"\n",
    "print(multi_str2)"
   ]
  },
  {
   "cell_type": "markdown",
   "metadata": {},
   "source": [
    "### 문자열 연산"
   ]
  },
  {
   "cell_type": "code",
   "execution_count": 31,
   "metadata": {},
   "outputs": [
    {
     "name": "stdout",
     "output_type": "stream",
     "text": [
      "****************************************************************************************************\n",
      "abcdef\n",
      "defdefdef\n"
     ]
    }
   ],
   "source": [
    "_str1 = '*'\n",
    "_str2 = 'abc'\n",
    "_str3 = 'def'\n",
    "_str4 = 'Kim Lee Park Jung'\n",
    "\n",
    "print(_str1 * 100)\n",
    "print(_str2 + _str3)\n",
    "print(_str3 * 3)"
   ]
  },
  {
   "cell_type": "code",
   "execution_count": 34,
   "metadata": {},
   "outputs": [
    {
     "name": "stdout",
     "output_type": "stream",
     "text": [
      "False\n",
      "True\n",
      "False\n"
     ]
    }
   ],
   "source": [
    "print('x' in _str4)\n",
    "print('P' in _str4)\n",
    "print('P' not in _str4)"
   ]
  },
  {
   "cell_type": "markdown",
   "metadata": {},
   "source": [
    "### 문자열 형 변환"
   ]
  },
  {
   "cell_type": "code",
   "execution_count": 36,
   "metadata": {},
   "outputs": [
    {
     "name": "stdout",
     "output_type": "stream",
     "text": [
      "<class 'str'>\n"
     ]
    }
   ],
   "source": [
    "print(type(str(77))) # str -> string을 의미"
   ]
  },
  {
   "cell_type": "code",
   "execution_count": 37,
   "metadata": {},
   "outputs": [
    {
     "name": "stdout",
     "output_type": "stream",
     "text": [
      "10.4\n"
     ]
    }
   ],
   "source": [
    "print(str(10.4)) # 실수형 -> 문자형으로 변환"
   ]
  },
  {
   "cell_type": "code",
   "execution_count": 38,
   "metadata": {},
   "outputs": [
    {
     "name": "stdout",
     "output_type": "stream",
     "text": [
      "True\n",
      "(12+0j)\n"
     ]
    }
   ],
   "source": [
    "print(str(True))\n",
    "print(str(complex(12)))"
   ]
  },
  {
   "cell_type": "markdown",
   "metadata": {},
   "source": [
    "### 문자열 함수"
   ]
  },
  {
   "cell_type": "code",
   "execution_count": 52,
   "metadata": {},
   "outputs": [
    {
     "name": "stdout",
     "output_type": "stream",
     "text": [
      "True\n",
      "False\n",
      "True\n",
      "Goodman\n",
      "niceman\n",
      "['e', 'g', 'n', 'a', 'r', 'o']\n",
      "HELLO WORLD\n",
      "['hello ', 'orld ', 'hat a nice ', 'eather']\n",
      "['2020', '07', '15']\n"
     ]
    }
   ],
   "source": [
    "a = 'goodman'\n",
    "b = 'orange'\n",
    "\n",
    "# islower() 함수\n",
    "print(a.islower()) # 소문자인지 확인\n",
    "# endswith() 함수\n",
    "print(a.endswith('e'))\n",
    "print(b.endswith('e'))\n",
    "# capitalize() 함수\n",
    "print(a.capitalize())\n",
    "\n",
    "print(a.replace('good','nice'))\n",
    "print(list(reversed(b))) # list로 형변환\n",
    "\n",
    "aa = 'hello world'\n",
    "print(aa.upper())\n",
    "\n",
    "# split() : 문자열을 특정한 문자로 구분하여 문자열 리스트로 리턴\n",
    "cc = 'hello world what a nice weather'\n",
    "print(cc.split('w'))\n",
    "\n",
    "dd = '2020-07-15'\n",
    "print(dd.split('-'))"
   ]
  },
  {
   "cell_type": "markdown",
   "metadata": {},
   "source": [
    "### ☆ 슬라이싱\n",
    "\n",
    " - 문자열의 각 문자는 순서가 있음\n",
    " - 이때 각 문자열의 순서를 **인덱스**라고 함\n",
    " - 첫 번째 문자부터 마지막까지 차례대로의 순서를 갖는다.\n",
    " - 첫 번째 시작문자의 순서는 0으로 시작한다.(1이 아님)\n",
    "\n",
    " "
   ]
  },
  {
   "cell_type": "code",
   "execution_count": 46,
   "metadata": {},
   "outputs": [
    {
     "name": "stdout",
     "output_type": "stream",
     "text": [
      "Nic\n",
      "NiceBoy\n",
      "NiceBo\n"
     ]
    }
   ],
   "source": [
    "str11 = 'NiceBoy'\n",
    "print(str11[0:3])\n",
    "print(str11[:len(str11)])\n",
    "print(str11[:len(str11)-1])\n",
    "\n"
   ]
  },
  {
   "cell_type": "code",
   "execution_count": 59,
   "metadata": {},
   "outputs": [
    {
     "name": "stdout",
     "output_type": "stream",
     "text": [
      "ran\n",
      "rn\n",
      "ran\n",
      "egnaro\n",
      "gnar\n"
     ]
    }
   ],
   "source": [
    "str22 = 'orange'\n",
    "print(str22[1:4])\n",
    "print(str22[1:4:2])\n",
    "print(str22[1:-2])\n",
    "print(str22[::-1])\n",
    "print(str22[4:0:-1])"
   ]
  },
  {
   "cell_type": "code",
   "execution_count": 64,
   "metadata": {},
   "outputs": [
    {
     "name": "stdout",
     "output_type": "stream",
     "text": [
      "h\n",
      "yello world\n"
     ]
    },
    {
     "data": {
      "text/plain": [
       "'hellz wzrld'"
      ]
     },
     "execution_count": 64,
     "metadata": {},
     "output_type": "execute_result"
    }
   ],
   "source": [
    "# 문자열은 immutable 객체이다.\n",
    "a = 'hello world'\n",
    "print(a[0])\n",
    "\n",
    "# a[0] = 'y' # 에러 출력됨\n",
    "# 바꾸는 법\n",
    "print('y' + a[1:])\n",
    "\n",
    "print(a.replace('o','z'))"
   ]
  },
  {
   "cell_type": "code",
   "execution_count": null,
   "metadata": {},
   "outputs": [],
   "source": []
  }
 ],
 "metadata": {
  "kernelspec": {
   "display_name": "Python 3",
   "language": "python",
   "name": "python3"
  },
  "language_info": {
   "codemirror_mode": {
    "name": "ipython",
    "version": 3
   },
   "file_extension": ".py",
   "mimetype": "text/x-python",
   "name": "python",
   "nbconvert_exporter": "python",
   "pygments_lexer": "ipython3",
   "version": "3.7.6"
  }
 },
 "nbformat": 4,
 "nbformat_minor": 4
}
