{
 "cells": [
  {
   "cell_type": "markdown",
   "metadata": {},
   "source": [
    "### 예외처리 기본  구문\n",
    "- try: 에러가 발생이 예상되는 코드를 실행하는 블럭\n",
    "- except 에러명1(ValueError): 에러를 받아서 처리해주는 블럭\n",
    "- except 에러명2(TypeError): except블럭은 여러개가 가능하다\n",
    "- else : try블럭에서 에러가 없이 수행될 경우 실행되는 블럭\n",
    "- finally : 반드시 실행되는 블럭\n",
    "\n",
    "- Exception : 모든 에러를 포함하는 최상위 에러"
   ]
  },
  {
   "cell_type": "code",
   "execution_count": 7,
   "metadata": {},
   "outputs": [
    {
     "name": "stdout",
     "output_type": "stream",
     "text": [
      "에러\n",
      "'bu' is not in list\n",
      "반드시 실행\n"
     ]
    }
   ],
   "source": [
    "city = ['Seoul', 'Incheon', 'Deagu']\n",
    "\n",
    "try:\n",
    "    # a = Seoul\n",
    "    a = 'Busan'\n",
    "    b = city.index(a)\n",
    "    print(f'{a}는 대한민국 도시')\n",
    "except Exception as e:\n",
    "    print('에러')\n",
    "    print(e)\n",
    "else:\n",
    "    print('통과')\n",
    "finally:\n",
    "    print('반드시 실행')"
   ]
  },
  {
   "cell_type": "code",
   "execution_count": 8,
   "metadata": {},
   "outputs": [
    {
     "name": "stdout",
     "output_type": "stream",
     "text": [
      "반드시 실행\n"
     ]
    }
   ],
   "source": [
    "city = ['Seoul', 'Incheon', 'Deagu']\n",
    "\n",
    "try:\n",
    "    # a = Seoul\n",
    "    a = 'Busan'\n",
    "    b = city.index(a)\n",
    "    print(f'{a}는 대한민국 도시')\n",
    "except Exception as e: # Exception이 생략된 것과 같다\n",
    "    pass # 임시로 에러 해결할 경우 예외처리\n",
    "else:\n",
    "    print('ok')\n",
    "finally:\n",
    "    print('반드시 실행')"
   ]
  },
  {
   "cell_type": "code",
   "execution_count": 11,
   "metadata": {},
   "outputs": [
    {
     "name": "stdout",
     "output_type": "stream",
     "text": [
      "파일명을 다시 입력하세요\n"
     ]
    }
   ],
   "source": [
    "try:\n",
    "    fp = open('test.txt', 'r')\n",
    "except:\n",
    "    print('파일명을 다시 입력하세요')\n",
    "finally:\n",
    "    fp.close()"
   ]
  },
  {
   "cell_type": "code",
   "execution_count": 12,
   "metadata": {},
   "outputs": [
    {
     "name": "stdout",
     "output_type": "stream",
     "text": [
      "[Errno 2] No such file or directory: 'test.txt'\n"
     ]
    }
   ],
   "source": [
    "try:\n",
    "    with open('test.txt', 'r') as fp:\n",
    "        lines = fp.readlines()\n",
    "        print(lines)\n",
    "except IOError as e:\n",
    "    print(e)"
   ]
  },
  {
   "cell_type": "code",
   "execution_count": 14,
   "metadata": {},
   "outputs": [
    {
     "name": "stdout",
     "output_type": "stream",
     "text": [
      "승인 거절!!\n"
     ]
    }
   ],
   "source": [
    "# 예외 발생시키기\n",
    "# 예외 발생 키워드 : raise (개발자가 직접 예외 발생)\n",
    "try:\n",
    "    name = 'Kim1'\n",
    "    if name == 'Kim':\n",
    "        print('OK 승인 완료')\n",
    "    else:\n",
    "        raise ValueError\n",
    "except ValueError:\n",
    "    print('승인 거절!!')\n",
    "except Exception:\n",
    "    print('예외 발생')\n",
    "else:\n",
    "    print('조아 조아~')"
   ]
  },
  {
   "cell_type": "code",
   "execution_count": null,
   "metadata": {},
   "outputs": [],
   "source": []
  }
 ],
 "metadata": {
  "kernelspec": {
   "display_name": "Python 3",
   "language": "python",
   "name": "python3"
  },
  "language_info": {
   "codemirror_mode": {
    "name": "ipython",
    "version": 3
   },
   "file_extension": ".py",
   "mimetype": "text/x-python",
   "name": "python",
   "nbconvert_exporter": "python",
   "pygments_lexer": "ipython3",
   "version": "3.7.6"
  }
 },
 "nbformat": 4,
 "nbformat_minor": 4
}
