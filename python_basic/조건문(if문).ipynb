{
 "cells": [
  {
   "cell_type": "markdown",
   "metadata": {},
   "source": [
    "### 조건문"
   ]
  },
  {
   "cell_type": "code",
   "execution_count": 7,
   "metadata": {},
   "outputs": [
    {
     "name": "stdout",
     "output_type": "stream",
     "text": [
      "<class 'bool'>\n",
      "<class 'bool'>\n",
      "Yes\n",
      "Not False\n",
      "Oh, you are here\n"
     ]
    }
   ],
   "source": [
    "# Bool 타입을 많이 활용한다.\n",
    "print(type(True))\n",
    "print(type(False))\n",
    "\n",
    "# 조건문 기본\n",
    "if True:\n",
    "    print(\"Yes\") # 들여쓰기(Indent) 주의\n",
    "\n",
    "if False:\n",
    "    print(\"No\") #출력 안됨\n",
    "\n",
    "if not False:\n",
    "    print(\"Not False\")\n",
    "\n",
    "if False:\n",
    "    Print(\"You can't reach here\")\n",
    "else:\n",
    "    print(\"Oh, you are here\")\n"
   ]
  },
  {
   "cell_type": "code",
   "execution_count": 8,
   "metadata": {},
   "outputs": [
    {
     "name": "stdout",
     "output_type": "stream",
     "text": [
      "Hi\n",
      "False\n",
      "True\n",
      "True\n",
      "False\n"
     ]
    }
   ],
   "source": [
    "# 관계연산자\n",
    "# >, >=, <, <=, ==, !=\n",
    "\n",
    "print(a==b)\n",
    "print(a!=b)\n",
    "print(a>b)\n",
    "print(a<b)\n"
   ]
  },
  {
   "cell_type": "markdown",
   "metadata": {},
   "source": [
    "### 참 거짓의 종류"
   ]
  },
  {
   "cell_type": "code",
   "execution_count": 12,
   "metadata": {},
   "outputs": [
    {
     "name": "stdout",
     "output_type": "stream",
     "text": [
      "please enter your city\n",
      "your in city :  인천\n"
     ]
    }
   ],
   "source": [
    "# 참 : \"내용\", [내용], (내용), {내용}, 1\n",
    "# 거짓 : \"\", [], (), {}, 0, None\n",
    "city = \"\"\n",
    "if city:\n",
    "    print(\"You are in \", city)\n",
    "else:\n",
    "    print(\"please enter your city\")\n",
    "\n",
    "city = \"인천\"\n",
    "if city:\n",
    "    print(\"your in city : \", city)\n",
    "else\n",
    "    print(\"Please enter your city \")"
   ]
  },
  {
   "cell_type": "code",
   "execution_count": 13,
   "metadata": {},
   "outputs": [
    {
     "name": "stdout",
     "output_type": "stream",
     "text": [
      "Hi\n"
     ]
    }
   ],
   "source": [
    "# 논리 연산자 : and, or, not\n",
    "\n",
    "x = 10\n",
    "if x > 9 and x < 15:\n",
    "    print(\"Hi\")\n",
    "\n",
    "a = 10\n",
    "b = 0"
   ]
  },
  {
   "cell_type": "markdown",
   "metadata": {},
   "source": [
    "### 조건문 정리\n",
    "\n",
    "* Python에서는 모든 블록({})의 시작점의 마지막에는 :(콜론)을 쓴다.\n",
    "\n",
    "* 조건문의 경우 if, elif, else 블록에 종속된 코드는 들여쓰기(Indent)로 표현가능\n",
    " - 들여쓰기(Indent)가 된 코드를 블록(block), 또는 코드블록이라고 함\n",
    "\n"
   ]
  },
  {
   "cell_type": "code",
   "execution_count": 14,
   "metadata": {},
   "outputs": [
    {
     "name": "stdout",
     "output_type": "stream",
     "text": [
      "6은 5보다 크다\n",
      "맞아!!!\n",
      "이 코드는  if문에 종속된 코드가 아니다.\n"
     ]
    }
   ],
   "source": [
    "if 6>=5:\n",
    "    print('6은 5보다 크다')\n",
    "    print('맞아!!!')\n",
    "print('이 코드는  if문에 종속된 코드가 아니다.')\n"
   ]
  },
  {
   "cell_type": "code",
   "execution_count": 17,
   "metadata": {},
   "outputs": [
    {
     "name": "stdout",
     "output_type": "stream",
     "text": [
      "참\n"
     ]
    }
   ],
   "source": [
    "a = 10\n",
    "b = 8\n",
    "c = 11\n",
    "\n",
    "# if a == 10 and b == 9:\n",
    "# if a == 10 and b!= 9:\n",
    "if a == 10 or b == 9:\n",
    "    print('참')\n",
    "\n",
    "# 우선순위 : and가 or보다 먼저 연산됨\n",
    "if a == 10 or b == 0 and c == 12:\n",
    "    print('That is true')\n",
    "\n",
    "if not a == 10:\n",
    "    print('a is ten')\n",
    "\n"
   ]
  },
  {
   "cell_type": "markdown",
   "metadata": {},
   "source": [
    "### 중첩 조건문(nested condition)\n",
    " - 중첩의 의미는 depth(깊이)로 생각하면됨"
   ]
  },
  {
   "cell_type": "code",
   "execution_count": 18,
   "metadata": {},
   "outputs": [
    {
     "name": "stdout",
     "output_type": "stream",
     "text": [
      "a is ten and b is not 8\n"
     ]
    }
   ],
   "source": [
    "a = 10\n",
    "b = 9\n",
    "c = 8\n",
    "\n",
    "if a == 10:\n",
    "    if c == 8:\n",
    "        if b == 8:\n",
    "            print(' a is ten and b is 8')\n",
    "        else:\n",
    "            print('a is ten and b is not 8')"
   ]
  },
  {
   "cell_type": "code",
   "execution_count": null,
   "metadata": {},
   "outputs": [],
   "source": []
  }
 ],
 "metadata": {
  "kernelspec": {
   "display_name": "Python 3",
   "language": "python",
   "name": "python3"
  },
  "language_info": {
   "codemirror_mode": {
    "name": "ipython",
    "version": 3
   },
   "file_extension": ".py",
   "mimetype": "text/x-python",
   "name": "python",
   "nbconvert_exporter": "python",
   "pygments_lexer": "ipython3",
   "version": "3.7.6"
  }
 },
 "nbformat": 4,
 "nbformat_minor": 4
}
