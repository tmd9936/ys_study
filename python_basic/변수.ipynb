{
 "cells": [
  {
   "cell_type": "markdown",
   "metadata": {},
   "source": [
    "## 변수이름 규칙\n",
    "\n",
    "- 숫자로 시작하는 이름을 제외하고 영문 대소문자, _(언더바) ,숫자로 구성 가능\n",
    "- 일반적으로 해당 변수를 표현하고자 하는 경우 정확하고 간결한 이름을 사용하는 것이 좋다.\n",
    " - ex) a = 1000의 경우보다 student_num = 1000가 낫다 (이해가 빠름)"
   ]
  },
  {
   "cell_type": "code",
   "execution_count": 3,
   "metadata": {},
   "outputs": [],
   "source": [
    "# 모두 유효한(valid) 변수명\n",
    "abcABC = 1000\n",
    "_abc123 = 200\n",
    "AVD345 = 300\n",
    "a34bv = 300"
   ]
  },
  {
   "cell_type": "code",
   "execution_count": 1,
   "metadata": {
    "scrolled": true
   },
   "outputs": [
    {
     "ename": "SyntaxError",
     "evalue": "invalid syntax (<ipython-input-1-3bbb95b3633d>, line 2)",
     "output_type": "error",
     "traceback": [
      "\u001b[1;36m  File \u001b[1;32m\"<ipython-input-1-3bbb95b3633d>\"\u001b[1;36m, line \u001b[1;32m2\u001b[0m\n\u001b[1;33m    12asdf = 300\u001b[0m\n\u001b[1;37m         ^\u001b[0m\n\u001b[1;31mSyntaxError\u001b[0m\u001b[1;31m:\u001b[0m invalid syntax\n"
     ]
    }
   ],
   "source": [
    "# 숫자로 시작하는 경우\n",
    "12asdf = 300"
   ]
  },
  {
   "cell_type": "markdown",
   "metadata": {},
   "source": [
    "### reserved keywords (예약어)\n",
    " -  python에서 미리 정의한 키워드(내장 명령어)\n",
    " - 변수, 함수, 클래스 등등의 사용자 정의 이름으로 사용할 수 없음\n",
    " "
   ]
  },
  {
   "cell_type": "code",
   "execution_count": 8,
   "metadata": {},
   "outputs": [],
   "source": [
    "# for, while, if, elif, else, class, try, except 등등\n",
    "\n",
    "_class = 100 # 유효한 변수"
   ]
  },
  {
   "cell_type": "markdown",
   "metadata": {},
   "source": []
  }
 ],
 "metadata": {
  "kernelspec": {
   "display_name": "Python 3",
   "language": "python",
   "name": "python3"
  },
  "language_info": {
   "codemirror_mode": {
    "name": "ipython",
    "version": 3
   },
   "file_extension": ".py",
   "mimetype": "text/x-python",
   "name": "python",
   "nbconvert_exporter": "python",
   "pygments_lexer": "ipython3",
   "version": "3.7.6"
  }
 },
 "nbformat": 4,
 "nbformat_minor": 4
}
