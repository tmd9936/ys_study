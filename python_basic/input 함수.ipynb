{
 "cells": [
  {
   "cell_type": "markdown",
   "metadata": {},
   "source": [
    "### 사용자로부터 입력을 받는 함수 input()"
   ]
  },
  {
   "cell_type": "code",
   "execution_count": 2,
   "metadata": {},
   "outputs": [
    {
     "name": "stdout",
     "output_type": "stream",
     "text": [
      "당신의 이름을 입력하세요 : 백\n",
      "당신의 이름은 백 입니다.\n"
     ]
    }
   ],
   "source": [
    "yourName = input('당신의 이름을 입력하세요 : ')\n",
    "print('당신의 이름은 {} 입니다.'.format(yourName))"
   ]
  },
  {
   "cell_type": "code",
   "execution_count": 3,
   "metadata": {},
   "outputs": [
    {
     "name": "stdout",
     "output_type": "stream",
     "text": [
      "당신의 나이를 입력하세요 : 15\n",
      "당신의 나이는 15 입니다.\n"
     ]
    }
   ],
   "source": [
    "yourAge = input('당신의 나이를 입력하세요 : ')\n",
    "print('당신의 나이는 %s 입니다.' % yourAge)"
   ]
  },
  {
   "cell_type": "code",
   "execution_count": 4,
   "metadata": {
    "scrolled": true
   },
   "outputs": [
    {
     "name": "stdout",
     "output_type": "stream",
     "text": [
      "당신의 이름과 나이를 입력하세요 [홍길동 24] : 홀 21\n",
      "당싱의 이름은 홀, 나이는 21세 입니다.\n"
     ]
    }
   ],
   "source": [
    "yourName, yourAge = input('당신의 이름과 나이를 입력하세요 [홍길동 24] : ').split(' ')\n",
    "print('당싱의 이름은 {}, 나이는 {}세 입니다.'.format(yourName, yourAge))"
   ]
  },
  {
   "cell_type": "code",
   "execution_count": 5,
   "metadata": {},
   "outputs": [
    {
     "name": "stdout",
     "output_type": "stream",
     "text": [
      "당신의 이름과 나이를 입력하세요 [홍길동 24] : 12홍\n",
      "이름과 나이를 띄어쓰기 하세요.\n",
      "당신의 이름과 나이를 입력하세요 [홍길동 24] : 홀 45\n",
      "당신의 이름은 홀, 나이는 45세 입니다.\n"
     ]
    }
   ],
   "source": [
    "while True:\n",
    "    try:\n",
    "        yourName, yourAge = input('당신의 이름과 나이를 입력하세요 [홍길동 24] : ').split(' ')\n",
    "        print('당신의 이름은 {}, 나이는 {}세 입니다.'.format(yourName, yourAge))\n",
    "        break\n",
    "    except ValueError:\n",
    "        print('이름과 나이를 띄어쓰기 하세요.')"
   ]
  },
  {
   "cell_type": "code",
   "execution_count": 6,
   "metadata": {},
   "outputs": [
    {
     "name": "stdout",
     "output_type": "stream",
     "text": [
      "표시 할 구구단의 숫자를 입력하세요. : 4\n",
      "4 x 1 = 4\n",
      "4 x 2 = 8\n",
      "4 x 3 = 12\n",
      "4 x 4 = 16\n",
      "4 x 5 = 20\n",
      "4 x 6 = 24\n",
      "4 x 7 = 28\n",
      "4 x 8 = 32\n",
      "4 x 9 = 36\n"
     ]
    }
   ],
   "source": [
    "# 구구단에서 원하는 단을 출력하기\n",
    "number = int(input('표시 할 구구단의 숫자를 입력하세요. : '))\n",
    "for x in range(1,10):\n",
    "#     print(number,'x',x,'=',number*x)\n",
    "    print('{} x {} = {}'.format(number,x,number*x))"
   ]
  },
  {
   "cell_type": "markdown",
   "metadata": {},
   "source": [
    "### f스트링\n",
    "* python 3.6.x 부터 지원하는 문자열 포매팅\n",
    "* f스트링을 이용하면 간편하게 스트링 포맷을 이용가능\n",
    "* print(f'{x}') x가 변수이름"
   ]
  },
  {
   "cell_type": "code",
   "execution_count": 7,
   "metadata": {},
   "outputs": [
    {
     "name": "stdout",
     "output_type": "stream",
     "text": [
      "표시 할 구구단의 숫자를 입력하세요. : 4\n",
      "4 x 1 = 4\n",
      "4 x 2 = 8\n",
      "4 x 3 = 12\n",
      "4 x 4 = 16\n",
      "4 x 5 = 20\n",
      "4 x 6 = 24\n",
      "4 x 7 = 28\n",
      "4 x 8 = 32\n",
      "4 x 9 = 36\n"
     ]
    }
   ],
   "source": [
    "number = int(input('표시 할 구구단의 숫자를 입력하세요. : '))\n",
    "\n",
    "for x in range(1,10):\n",
    "    print(f'{number} x {x} = {number*x}')"
   ]
  },
  {
   "cell_type": "code",
   "execution_count": 9,
   "metadata": {},
   "outputs": [
    {
     "name": "stdout",
     "output_type": "stream",
     "text": [
      "시작 단을 입력하시오. : 2\n",
      "끝 단을 입력하시오5\n",
      "2 x 1 = 2      3 x 1 = 3      4 x 1 = 4      5 x 1 = 5      \n",
      "2 x 2 = 4      3 x 2 = 6      4 x 2 = 8      5 x 2 = 10     \n",
      "2 x 3 = 6      3 x 3 = 9      4 x 3 = 12     5 x 3 = 15     \n",
      "2 x 4 = 8      3 x 4 = 12     4 x 4 = 16     5 x 4 = 20     \n",
      "2 x 5 = 10     3 x 5 = 15     4 x 5 = 20     5 x 5 = 25     \n",
      "2 x 6 = 12     3 x 6 = 18     4 x 6 = 24     5 x 6 = 30     \n",
      "2 x 7 = 14     3 x 7 = 21     4 x 7 = 28     5 x 7 = 35     \n",
      "2 x 8 = 16     3 x 8 = 24     4 x 8 = 32     5 x 8 = 40     \n",
      "2 x 9 = 18     3 x 9 = 27     4 x 9 = 36     5 x 9 = 45     \n"
     ]
    }
   ],
   "source": [
    "while True:\n",
    "    s = int(input('시작 단을 입력하시오. : '))\n",
    "    e = int(input('끝 단을 입력하시오'))\n",
    "    if s > e:\n",
    "        print('다시 입력하세요. ')\n",
    "    else:\n",
    "        break\n",
    "\n",
    "for x in range(1,10):\n",
    "    for y in range(s,e+1):\n",
    "        print(f'{y} x {x} = {x*y}'.ljust(15), end='')\n",
    "    print()\n",
    "\n",
    "        "
   ]
  },
  {
   "cell_type": "code",
   "execution_count": 10,
   "metadata": {},
   "outputs": [
    {
     "name": "stdout",
     "output_type": "stream",
     "text": [
      "2 x 1 = 2      3 x 1 = 3      4 x 1 = 4      5 x 1 = 5      6 x 1 = 6      7 x 1 = 7      8 x 1 = 8      9 x 1 = 9      \n",
      "2 x 2 = 4      3 x 2 = 6      4 x 2 = 8      5 x 2 = 10     6 x 2 = 12     7 x 2 = 14     8 x 2 = 16     9 x 2 = 18     \n",
      "2 x 3 = 6      3 x 3 = 9      4 x 3 = 12     5 x 3 = 15     6 x 3 = 18     7 x 3 = 21     8 x 3 = 24     9 x 3 = 27     \n",
      "2 x 4 = 8      3 x 4 = 12     4 x 4 = 16     5 x 4 = 20     6 x 4 = 24     7 x 4 = 28     8 x 4 = 32     9 x 4 = 36     \n",
      "2 x 5 = 10     3 x 5 = 15     4 x 5 = 20     5 x 5 = 25     6 x 5 = 30     7 x 5 = 35     8 x 5 = 40     9 x 5 = 45     \n",
      "2 x 6 = 12     3 x 6 = 18     4 x 6 = 24     5 x 6 = 30     6 x 6 = 36     7 x 6 = 42     8 x 6 = 48     9 x 6 = 54     \n",
      "2 x 7 = 14     3 x 7 = 21     4 x 7 = 28     5 x 7 = 35     6 x 7 = 42     7 x 7 = 49     8 x 7 = 56     9 x 7 = 63     \n",
      "2 x 8 = 16     3 x 8 = 24     4 x 8 = 32     5 x 8 = 40     6 x 8 = 48     7 x 8 = 56     8 x 8 = 64     9 x 8 = 72     \n",
      "2 x 9 = 18     3 x 9 = 27     4 x 9 = 36     5 x 9 = 45     6 x 9 = 54     7 x 9 = 63     8 x 9 = 72     9 x 9 = 81     \n"
     ]
    }
   ],
   "source": [
    "for x in range(1,10):\n",
    "    for y in range(2,10):\n",
    "        print(f'{y} x {x} = {x*y}'.ljust(15), end='')\n",
    "    print()\n"
   ]
  },
  {
   "cell_type": "code",
   "execution_count": 11,
   "metadata": {},
   "outputs": [
    {
     "name": "stdout",
     "output_type": "stream",
     "text": [
      "1 x 1 = 1      2 x 1 = 2      3 x 1 = 3      \n",
      "1 x 2 = 2      2 x 2 = 4      3 x 2 = 6      \n",
      "1 x 3 = 3      2 x 3 = 6      3 x 3 = 9      \n",
      "1 x 4 = 4      2 x 4 = 8      3 x 4 = 12     \n",
      "1 x 5 = 5      2 x 5 = 10     3 x 5 = 15     \n",
      "1 x 6 = 6      2 x 6 = 12     3 x 6 = 18     \n",
      "1 x 7 = 7      2 x 7 = 14     3 x 7 = 21     \n",
      "1 x 8 = 8      2 x 8 = 16     3 x 8 = 24     \n",
      "1 x 9 = 9      2 x 9 = 18     3 x 9 = 27     \n",
      "\n",
      "\n",
      "\n",
      "4 x 1 = 4      5 x 1 = 5      6 x 1 = 6      \n",
      "4 x 2 = 8      5 x 2 = 10     6 x 2 = 12     \n",
      "4 x 3 = 12     5 x 3 = 15     6 x 3 = 18     \n",
      "4 x 4 = 16     5 x 4 = 20     6 x 4 = 24     \n",
      "4 x 5 = 20     5 x 5 = 25     6 x 5 = 30     \n",
      "4 x 6 = 24     5 x 6 = 30     6 x 6 = 36     \n",
      "4 x 7 = 28     5 x 7 = 35     6 x 7 = 42     \n",
      "4 x 8 = 32     5 x 8 = 40     6 x 8 = 48     \n",
      "4 x 9 = 36     5 x 9 = 45     6 x 9 = 54     \n",
      "\n",
      "\n",
      "\n",
      "7 x 1 = 7      8 x 1 = 8      9 x 1 = 9      \n",
      "7 x 2 = 14     8 x 2 = 16     9 x 2 = 18     \n",
      "7 x 3 = 21     8 x 3 = 24     9 x 3 = 27     \n",
      "7 x 4 = 28     8 x 4 = 32     9 x 4 = 36     \n",
      "7 x 5 = 35     8 x 5 = 40     9 x 5 = 45     \n",
      "7 x 6 = 42     8 x 6 = 48     9 x 6 = 54     \n",
      "7 x 7 = 49     8 x 7 = 56     9 x 7 = 63     \n",
      "7 x 8 = 56     8 x 8 = 64     9 x 8 = 72     \n",
      "7 x 9 = 63     8 x 9 = 72     9 x 9 = 81     \n",
      "\n",
      "\n",
      "\n"
     ]
    }
   ],
   "source": [
    "for z in range(1,10,3):\n",
    "    for x in range(1,10):\n",
    "        for y in range(z, z+3):\n",
    "            print(f'{y} x {x} = {x*y}'.ljust(15), end='')\n",
    "        print()\n",
    "    print('\\n'*2)"
   ]
  },
  {
   "cell_type": "code",
   "execution_count": 13,
   "metadata": {
    "scrolled": false
   },
   "outputs": [
    {
     "name": "stdout",
     "output_type": "stream",
     "text": [
      "=========(메뉴)=========\n",
      "1. 원하는 구구단 출력하기\n",
      "2. 구구단 세로 출력하기\n",
      "3. 구구단 가로 출력하기\n",
      "4. 구구단 3단씩 출력하기\n",
      "5. 종료\n",
      "=========(메뉴)=========\n",
      "번호 : 1\n",
      "원하는 단을 출력하세요. : 2\n",
      "2 * 1 = 2\n",
      "2 * 2 = 4\n",
      "2 * 3 = 6\n",
      "2 * 4 = 8\n",
      "2 * 5 = 10\n",
      "2 * 6 = 12\n",
      "2 * 7 = 14\n",
      "2 * 8 = 16\n",
      "2 * 9 = 18\n",
      "\n",
      "=========(메뉴)=========\n",
      "1. 원하는 구구단 출력하기\n",
      "2. 구구단 세로 출력하기\n",
      "3. 구구단 가로 출력하기\n",
      "4. 구구단 3단씩 출력하기\n",
      "5. 종료\n",
      "=========(메뉴)=========\n",
      "번호 : 2\n",
      "2 * 1 = 2\n",
      "2 * 2 = 4\n",
      "2 * 3 = 6\n",
      "2 * 4 = 8\n",
      "2 * 5 = 10\n",
      "2 * 6 = 12\n",
      "2 * 7 = 14\n",
      "2 * 8 = 16\n",
      "2 * 9 = 18\n",
      "\n",
      "3 * 1 = 3\n",
      "3 * 2 = 6\n",
      "3 * 3 = 9\n",
      "3 * 4 = 12\n",
      "3 * 5 = 15\n",
      "3 * 6 = 18\n",
      "3 * 7 = 21\n",
      "3 * 8 = 24\n",
      "3 * 9 = 27\n",
      "\n",
      "4 * 1 = 4\n",
      "4 * 2 = 8\n",
      "4 * 3 = 12\n",
      "4 * 4 = 16\n",
      "4 * 5 = 20\n",
      "4 * 6 = 24\n",
      "4 * 7 = 28\n",
      "4 * 8 = 32\n",
      "4 * 9 = 36\n",
      "\n",
      "5 * 1 = 5\n",
      "5 * 2 = 10\n",
      "5 * 3 = 15\n",
      "5 * 4 = 20\n",
      "5 * 5 = 25\n",
      "5 * 6 = 30\n",
      "5 * 7 = 35\n",
      "5 * 8 = 40\n",
      "5 * 9 = 45\n",
      "\n",
      "6 * 1 = 6\n",
      "6 * 2 = 12\n",
      "6 * 3 = 18\n",
      "6 * 4 = 24\n",
      "6 * 5 = 30\n",
      "6 * 6 = 36\n",
      "6 * 7 = 42\n",
      "6 * 8 = 48\n",
      "6 * 9 = 54\n",
      "\n",
      "7 * 1 = 7\n",
      "7 * 2 = 14\n",
      "7 * 3 = 21\n",
      "7 * 4 = 28\n",
      "7 * 5 = 35\n",
      "7 * 6 = 42\n",
      "7 * 7 = 49\n",
      "7 * 8 = 56\n",
      "7 * 9 = 63\n",
      "\n",
      "8 * 1 = 8\n",
      "8 * 2 = 16\n",
      "8 * 3 = 24\n",
      "8 * 4 = 32\n",
      "8 * 5 = 40\n",
      "8 * 6 = 48\n",
      "8 * 7 = 56\n",
      "8 * 8 = 64\n",
      "8 * 9 = 72\n",
      "\n",
      "9 * 1 = 9\n",
      "9 * 2 = 18\n",
      "9 * 3 = 27\n",
      "9 * 4 = 36\n",
      "9 * 5 = 45\n",
      "9 * 6 = 54\n",
      "9 * 7 = 63\n",
      "9 * 8 = 72\n",
      "9 * 9 = 81\n",
      "\n",
      "\n",
      "=========(메뉴)=========\n",
      "1. 원하는 구구단 출력하기\n",
      "2. 구구단 세로 출력하기\n",
      "3. 구구단 가로 출력하기\n",
      "4. 구구단 3단씩 출력하기\n",
      "5. 종료\n",
      "=========(메뉴)=========\n",
      "번호 : 3\n",
      "2 * 1 = 2       3 * 1 = 3       4 * 1 = 4       5 * 1 = 5       6 * 1 = 6       7 * 1 = 7       8 * 1 = 8       9 * 1 = 9       \n",
      "2 * 2 = 4       3 * 2 = 6       4 * 2 = 8       5 * 2 = 10      6 * 2 = 12      7 * 2 = 14      8 * 2 = 16      9 * 2 = 18      \n",
      "2 * 3 = 6       3 * 3 = 9       4 * 3 = 12      5 * 3 = 15      6 * 3 = 18      7 * 3 = 21      8 * 3 = 24      9 * 3 = 27      \n",
      "2 * 4 = 8       3 * 4 = 12      4 * 4 = 16      5 * 4 = 20      6 * 4 = 24      7 * 4 = 28      8 * 4 = 32      9 * 4 = 36      \n",
      "2 * 5 = 10      3 * 5 = 15      4 * 5 = 20      5 * 5 = 25      6 * 5 = 30      7 * 5 = 35      8 * 5 = 40      9 * 5 = 45      \n",
      "2 * 6 = 12      3 * 6 = 18      4 * 6 = 24      5 * 6 = 30      6 * 6 = 36      7 * 6 = 42      8 * 6 = 48      9 * 6 = 54      \n",
      "2 * 7 = 14      3 * 7 = 21      4 * 7 = 28      5 * 7 = 35      6 * 7 = 42      7 * 7 = 49      8 * 7 = 56      9 * 7 = 63      \n",
      "2 * 8 = 16      3 * 8 = 24      4 * 8 = 32      5 * 8 = 40      6 * 8 = 48      7 * 8 = 56      8 * 8 = 64      9 * 8 = 72      \n",
      "2 * 9 = 18      3 * 9 = 27      4 * 9 = 36      5 * 9 = 45      6 * 9 = 54      7 * 9 = 63      8 * 9 = 72      9 * 9 = 81      \n",
      "\n",
      "=========(메뉴)=========\n",
      "1. 원하는 구구단 출력하기\n",
      "2. 구구단 세로 출력하기\n",
      "3. 구구단 가로 출력하기\n",
      "4. 구구단 3단씩 출력하기\n",
      "5. 종료\n",
      "=========(메뉴)=========\n",
      "번호 : 4\n",
      "2 * 1 = 2       3 * 1 = 3       4 * 1 = 4       \n",
      "2 * 2 = 4       3 * 2 = 6       4 * 2 = 8       \n",
      "2 * 3 = 6       3 * 3 = 9       4 * 3 = 12      \n",
      "2 * 4 = 8       3 * 4 = 12      4 * 4 = 16      \n",
      "2 * 5 = 10      3 * 5 = 15      4 * 5 = 20      \n",
      "2 * 6 = 12      3 * 6 = 18      4 * 6 = 24      \n",
      "2 * 7 = 14      3 * 7 = 21      4 * 7 = 28      \n",
      "2 * 8 = 16      3 * 8 = 24      4 * 8 = 32      \n",
      "2 * 9 = 18      3 * 9 = 27      4 * 9 = 36      \n",
      "\n",
      "\n",
      "\n",
      "5 * 1 = 5       6 * 1 = 6       7 * 1 = 7       \n",
      "5 * 2 = 10      6 * 2 = 12      7 * 2 = 14      \n",
      "5 * 3 = 15      6 * 3 = 18      7 * 3 = 21      \n",
      "5 * 4 = 20      6 * 4 = 24      7 * 4 = 28      \n",
      "5 * 5 = 25      6 * 5 = 30      7 * 5 = 35      \n",
      "5 * 6 = 30      6 * 6 = 36      7 * 6 = 42      \n",
      "5 * 7 = 35      6 * 7 = 42      7 * 7 = 49      \n",
      "5 * 8 = 40      6 * 8 = 48      7 * 8 = 56      \n",
      "5 * 9 = 45      6 * 9 = 54      7 * 9 = 63      \n",
      "\n",
      "\n",
      "\n",
      "8 * 1 = 8       9 * 1 = 9       10 * 1 = 10     \n",
      "8 * 2 = 16      9 * 2 = 18      10 * 2 = 20     \n",
      "8 * 3 = 24      9 * 3 = 27      10 * 3 = 30     \n",
      "8 * 4 = 32      9 * 4 = 36      10 * 4 = 40     \n",
      "8 * 5 = 40      9 * 5 = 45      10 * 5 = 50     \n",
      "8 * 6 = 48      9 * 6 = 54      10 * 6 = 60     \n",
      "8 * 7 = 56      9 * 7 = 63      10 * 7 = 70     \n",
      "8 * 8 = 64      9 * 8 = 72      10 * 8 = 80     \n",
      "8 * 9 = 72      9 * 9 = 81      10 * 9 = 90     \n",
      "\n",
      "\n",
      "\n",
      "\n",
      "=========(메뉴)=========\n",
      "1. 원하는 구구단 출력하기\n",
      "2. 구구단 세로 출력하기\n",
      "3. 구구단 가로 출력하기\n",
      "4. 구구단 3단씩 출력하기\n",
      "5. 종료\n",
      "=========(메뉴)=========\n",
      "번호 : 5\n",
      "프로그램을 종료합니다.\n"
     ]
    }
   ],
   "source": [
    "def print_gugudan(num):\n",
    "    for x in range(1,10):\n",
    "        print(f'{num} * {x} = {num * x}')\n",
    "\n",
    "def print_gugudan_vertical():\n",
    "    for x in range(2,10):\n",
    "        for y in range(1,10):\n",
    "            print(f'{x} * {y} = {x*y}')\n",
    "        print()\n",
    "\n",
    "def print_gugudan_horizontal():\n",
    "    for x in range(1, 10):\n",
    "        for y in range(2,10):\n",
    "            print(f'{y} * {x} = {x*y}'.ljust(15), end=' ')\n",
    "        print()\n",
    "\n",
    "def print_gugudan_three_hrizontal():\n",
    "    for x in range(2,10,3):\n",
    "        for y in range(1,10):\n",
    "            for z in range(x, x+3):\n",
    "                print(f'{z} * {y} = {z*y}'.ljust(15), end=' ')\n",
    "            print()\n",
    "        print('\\n'*2)\n",
    "\n",
    "def menu_display():\n",
    "    print('=========(메뉴)=========')\n",
    "    print('1. 원하는 구구단 출력하기')\n",
    "    print('2. 구구단 세로 출력하기')\n",
    "    print('3. 구구단 가로 출력하기')\n",
    "    print('4. 구구단 3단씩 출력하기')\n",
    "    print('5. 종료')\n",
    "    print('=========(메뉴)=========')\n",
    "    \n",
    "    return input('번호 : ')\n",
    "    \n",
    "while True:\n",
    "    number = menu_display()\n",
    "    \n",
    "    if number == '1':\n",
    "        dan = int(input('원하는 단을 출력하세요. : '))\n",
    "        print_gugudan(dan)\n",
    "        print()\n",
    "    elif number == '2':\n",
    "        print_gugudan_vertical()\n",
    "        print()\n",
    "    elif number == '3':\n",
    "        print_gugudan_horizontal()\n",
    "        print()\n",
    "    elif number == '4':\n",
    "        print_gugudan_three_hrizontal()\n",
    "        print()\n",
    "    elif number == '5':\n",
    "        print('프로그램을 종료합니다.')\n",
    "        break\n",
    "    else:\n",
    "        print('정확한 숫자를 입력하세요.')\n",
    "    \n",
    "\n"
   ]
  },
  {
   "cell_type": "code",
   "execution_count": null,
   "metadata": {},
   "outputs": [],
   "source": []
  }
 ],
 "metadata": {
  "kernelspec": {
   "display_name": "Python 3",
   "language": "python",
   "name": "python3"
  },
  "language_info": {
   "codemirror_mode": {
    "name": "ipython",
    "version": 3
   },
   "file_extension": ".py",
   "mimetype": "text/x-python",
   "name": "python",
   "nbconvert_exporter": "python",
   "pygments_lexer": "ipython3",
   "version": "3.7.6"
  }
 },
 "nbformat": 4,
 "nbformat_minor": 4
}
