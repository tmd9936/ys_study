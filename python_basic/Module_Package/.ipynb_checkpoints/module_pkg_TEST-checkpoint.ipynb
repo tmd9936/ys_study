{
 "cells": [
  {
   "cell_type": "code",
   "execution_count": 17,
   "metadata": {},
   "outputs": [
    {
     "name": "stdout",
     "output_type": "stream",
     "text": [
      "0 1 1 2 3 5 8 13 \n",
      "0 1 1 2 3 5 8 13 \n"
     ]
    },
    {
     "data": {
      "text/plain": [
       "'피보나치'"
      ]
     },
     "execution_count": 17,
     "metadata": {},
     "output_type": "execute_result"
    }
   ],
   "source": [
    "# 상대 경로\n",
    "# ../ : 부모 디렉토리\n",
    "# ./ : 현재 디렉토리\n",
    "# 사용예1(클래스)\n",
    "from pkg.fibonacci import Fibonacci\n",
    "\n",
    "Fibonacci.fib(20)\n",
    "Fibonacci().title\n",
    "\n",
    "# 사용예2(클래스)\n",
    "from pkg. fibonacci import * # 권장되지 않음\n",
    "\n",
    "# 사용예3(클래스)\n",
    "from pkg.fibonacci import Fibonacci as fb\n",
    "\n",
    "fb.fib(20)\n",
    "fb().title"
   ]
  },
  {
   "cell_type": "code",
   "execution_count": 19,
   "metadata": {},
   "outputs": [
    {
     "name": "stdout",
     "output_type": "stream",
     "text": [
      "7\n",
      "10.0\n"
     ]
    }
   ],
   "source": [
    "# 사용예4(함수)\n",
    "import pkg.calc as c\n",
    "print(c.add(3,4))\n",
    "\n",
    "# 사용예5(함수)\n",
    "from pkg.calc import div as d\n",
    "print(d(100, 10))"
   ]
  },
  {
   "cell_type": "code",
   "execution_count": null,
   "metadata": {},
   "outputs": [],
   "source": []
  }
 ],
 "metadata": {
  "kernelspec": {
   "display_name": "Python 3",
   "language": "python",
   "name": "python3"
  },
  "language_info": {
   "codemirror_mode": {
    "name": "ipython",
    "version": 3
   },
   "file_extension": ".py",
   "mimetype": "text/x-python",
   "name": "python",
   "nbconvert_exporter": "python",
   "pygments_lexer": "ipython3",
   "version": "3.7.6"
  }
 },
 "nbformat": 4,
 "nbformat_minor": 4
}
