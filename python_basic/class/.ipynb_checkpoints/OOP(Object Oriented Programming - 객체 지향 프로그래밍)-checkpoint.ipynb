{
 "cells": [
  {
   "cell_type": "markdown",
   "metadata": {},
   "source": [
    "### OOP\n",
    "* 절차지향 프로그래밍(구조적 프로그래밍)\n",
    "    - e.g) C프로그래밍\n",
    "    - 일을 처리하는 순서와 과정을 프로그래밍으로 구현\n",
    "    - procedure, precess를 중시함\n",
    "    - 순서, 과정이 달라지면 새로운 작업 모델이 필요하게됨\n",
    "    - 재사용성이 불가능(힘들다)\n",
    "* 반면...\n",
    "    - OOP(객체지향 프로그래밍)는 프로세스 중심이 아닌 객체 중심으로 프로그래밍 하는 것\n",
    "    - 재사용성이 뛰어남, 모듈화, 확장성...e.g) 상속\n",
    "    \n",
    "* 객체지향 프로그래밍\n",
    "    - 인간의 현실세계를 프로그램에 반영 한 것(사이버화) \n",
    "    - 즉, 현실세계에 존재하는 객체(object-물체, 사물, 물건)를 프로그램에 반영 한 것\n",
    "        - 1) object : 물건, 물체를 의미(유무형의 물체)\n",
    "        - e.g) 자전거, 책상, 집, 정치, 윤리, 사회, 대기, 법...\n",
    "        - 2) 이러한 객체의 특징은 속성(attribute)과 행위(behavior)를 갖는 특징이 있다\n",
    "        - 따라서, 프로그램에 객체를 반영할 때는 먼저 속성과 행위를 뽑아내는 과정이 필요하다.\n",
    "        - 이를 객체 모델링(추상화)을 한다.\n",
    "\n",
    "* OOP의 주요 특징\n",
    "    1) 추상화 - Abstraction\n",
    "        - 어떤 물체의 특징을 부각시켜 표현하고, 나머지 부분은 과감하게 생략하는 것 ---> 프로그래밍에 접목\n",
    "    2) 은닉화 - Encapsulation(캡슐화)\n",
    "        - Data를 캡슐화하되 그 데이터에 접근할 때 메소드로 접근하도록 하는 것\n",
    "    3) 다형성 - Polymorphism\n",
    "        - 오버라이딩(재정의, overwrite), 오버로딩\n",
    "    4) 상속성 - Inheritance\n",
    "        - 기존 클래스에 작은 기능이나 특성을 추가하여 새로운 클래스를 만드는 것을 의미"
   ]
  },
  {
   "cell_type": "code",
   "execution_count": 19,
   "metadata": {},
   "outputs": [
    {
     "name": "stdout",
     "output_type": "stream",
     "text": [
      "주소 : 인천시 서구\n",
      "주소 : 인천시 서구\n",
      "방 : 4\n"
     ]
    }
   ],
   "source": [
    "# 추상화\n",
    "class House:\n",
    "    # 생성자 : 초기화; 객체생성시 자동으로 호출\n",
    "    def __init__(self,price, rooms, address, ownerName, pyeong, diretion):\n",
    "        self.price = price\n",
    "        self.rooms = rooms\n",
    "        self.address = address\n",
    "        self.ownerName = ownerName \n",
    "        self.pyeong = pyeong\n",
    "        self.diretion = diretion\n",
    "\n",
    "    def print_address(self):\n",
    "        # print('주소 : {}'.format(self.address))\n",
    "        print(f'주소 : {self.address}')\n",
    "    def print_rooms(self):\n",
    "        print('방 :',self.rooms)\n",
    "    def __del__(self):\n",
    "        print('소멸됨')\n",
    "\n",
    "house1 = House(10000, 4, '인천시 서구', '박정식', 34, '남향')\n",
    "house1.print_address()\n",
    "house1.print_rooms()\n",
    "\n",
    "    "
   ]
  },
  {
   "cell_type": "code",
   "execution_count": null,
   "metadata": {},
   "outputs": [],
   "source": []
  }
 ],
 "metadata": {
  "kernelspec": {
   "display_name": "Python 3",
   "language": "python",
   "name": "python3"
  },
  "language_info": {
   "codemirror_mode": {
    "name": "ipython",
    "version": 3
   },
   "file_extension": ".py",
   "mimetype": "text/x-python",
   "name": "python",
   "nbconvert_exporter": "python",
   "pygments_lexer": "ipython3",
   "version": "3.7.6"
  }
 },
 "nbformat": 4,
 "nbformat_minor": 4
}
