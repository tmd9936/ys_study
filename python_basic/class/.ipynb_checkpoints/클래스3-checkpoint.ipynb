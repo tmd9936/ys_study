{
 "cells": [
  {
   "cell_type": "code",
   "execution_count": 2,
   "metadata": {},
   "outputs": [
    {
     "name": "stdout",
     "output_type": "stream",
     "text": [
      "이름:  철수\n",
      "나이:  20\n",
      "이름:  민수\n",
      "나이:  30\n",
      "이름:  영수\n",
      "나이:  10\n"
     ]
    }
   ],
   "source": [
    "class Person2:\n",
    "    def __init__(self, name, age=10):\n",
    "        self.name = name\n",
    "        self.age = age\n",
    "    \n",
    "    def info(self):\n",
    "        print('이름: ', self.name)\n",
    "        print('나이: ', self.age)\n",
    "    \n",
    "p1 = Person2('철수', 20)\n",
    "p2 = Person2('민수', 30)\n",
    "p3 = Person2('영수')\n",
    "\n",
    "p1.info()\n",
    "p2.info()\n",
    "p3.info()"
   ]
  },
  {
   "cell_type": "code",
   "execution_count": 5,
   "metadata": {},
   "outputs": [
    {
     "name": "stdout",
     "output_type": "stream",
     "text": [
      "철수(는)은 잠을 잡니다.\n"
     ]
    }
   ],
   "source": [
    "class Person3:\n",
    "    def __init__(self, name, age=10):\n",
    "        self.name = name\n",
    "        self.age = age\n",
    "    \n",
    "    def sleep(self):\n",
    "        print('{}(는)은 잠을 잡니다.'.format(self.name))\n",
    "\n",
    "p1 = Person3('철수', 20)\n",
    "p1.sleep()"
   ]
  },
  {
   "cell_type": "markdown",
   "metadata": {},
   "source": [
    "### method 정의\n",
    "* 멤버함수라고도 하며, 해당 클래스의 object에서만 호출가능\n",
    "* 객체명.메소드명 형태로 호출됨"
   ]
  },
  {
   "cell_type": "code",
   "execution_count": 6,
   "metadata": {},
   "outputs": [
    {
     "name": "stdout",
     "output_type": "stream",
     "text": [
      "현재값 :  0\n",
      "현재값 :  1\n",
      "현재값 :  2\n",
      "현재값 :  3\n",
      "현재값 :  0\n"
     ]
    }
   ],
   "source": [
    "a = list()\n",
    "a.append(0) # 메소드 호출\n",
    "\n",
    "# 숫자의 증감\n",
    "class Counter:\n",
    "    def __init__(self):\n",
    "        self.num = 0\n",
    "    \n",
    "    def increment(self):\n",
    "        self.num += 1\n",
    "    \n",
    "    def reset(self):\n",
    "        self.num = 0\n",
    "    \n",
    "    def print_value(self):\n",
    "        print('현재값 : ', self.num)\n",
    "    \n",
    "c1 = Counter()\n",
    "c1.print_value()\n",
    "c1.increment()\n",
    "c1.print_value()\n",
    "c1.increment()\n",
    "c1.print_value()\n",
    "c1.increment()\n",
    "c1.print_value()\n",
    "c1.reset()\n",
    "c1.print_value()\n"
   ]
  },
  {
   "cell_type": "code",
   "execution_count": null,
   "metadata": {},
   "outputs": [],
   "source": []
  }
 ],
 "metadata": {
  "kernelspec": {
   "display_name": "Python 3",
   "language": "python",
   "name": "python3"
  },
  "language_info": {
   "codemirror_mode": {
    "name": "ipython",
    "version": 3
   },
   "file_extension": ".py",
   "mimetype": "text/x-python",
   "name": "python",
   "nbconvert_exporter": "python",
   "pygments_lexer": "ipython3",
   "version": "3.7.6"
  }
 },
 "nbformat": 4,
 "nbformat_minor": 4
}
