{
 "cells": [
  {
   "cell_type": "markdown",
   "metadata": {},
   "source": [
    "### Class Inheritance(상속)\n",
    "* 기존에 정의해둔 클래스의 기능을 그대로 물려받을 수 있는 기능\n",
    "* 기존 클래스에 기능 일부를 추가하거나, 변경하여 새로운 클래스를 정의 한다.\n",
    "* 코드를 재사용 할 수 있게된다.\n",
    "* 상속 받고자 하는 대상인 기존 클래스는 (Parent, Super, Base class)라고 부른다.\n",
    "* 상속 받는 새로운 클래스는 Child, Sub, Derived(파생) class 라고 부른다."
   ]
  },
  {
   "cell_type": "code",
   "execution_count": 21,
   "metadata": {},
   "outputs": [],
   "source": [
    "class Car:\n",
    "    \"\"\" Parent Class \"\"\"\n",
    "    def __init__(self, _type, color):\n",
    "        self._type = _type\n",
    "        self.color = color\n",
    "    \n",
    "    def show(self):\n",
    "        print('Car class \"Show\" Method')\n",
    "\n",
    "class BmwCar(Car):\n",
    "    \"\"\" Sub(Child, Derived) class \"\"\"\n",
    "    def __init__(self, car_name, _type, color):\n",
    "        # super()는 부모클래스를 생성자 호출\n",
    "        super().__init__(_type, color)\n",
    "        self.car_name = car_name\n",
    "        \n",
    "    def show_model(self):\n",
    "        print('Your Car Name : %s' % self.car_name)\n",
    "\n",
    "class BenzCar(Car):\n",
    "    def __init__(self, car_name, _type, color):\n",
    "        super().__init__(_type, color)\n",
    "        self.car_name = car_name\n",
    "    \n",
    "    # 메소드 오버라이드\n",
    "    def show(self):\n",
    "#         super().show()\n",
    "        print('BenzCar class \"Show\" Method')\n",
    "        \n",
    "    def show_model(self):\n",
    "        print('Your Car Name : %s' % self.car_name)"
   ]
  },
  {
   "cell_type": "code",
   "execution_count": 22,
   "metadata": {},
   "outputs": [
    {
     "name": "stdout",
     "output_type": "stream",
     "text": [
      "Car class \"Show\" Method\n",
      "Your Car Name : 500d\n"
     ]
    }
   ],
   "source": [
    "model1 = BmwCar('500d','sedan','red')\n",
    "model1.car_name # 부모에게 없는 속성\n",
    "model1._type # 물려받은 속성\n",
    "model1.color # 물려받은 속성\n",
    "model1.show() # 물려받은 메소드\n",
    "model1.show_model()"
   ]
  },
  {
   "cell_type": "code",
   "execution_count": 23,
   "metadata": {},
   "outputs": [
    {
     "name": "stdout",
     "output_type": "stream",
     "text": [
      "truck\n",
      "blue\n",
      "Car class \"Show\" Method\n",
      "BenzCar class \"Show\" Method\n",
      "Your Car Name : 420d\n"
     ]
    }
   ],
   "source": [
    "model2 = BenzCar('420d','truck','blue')\n",
    "model2.car_name # 부모에게 없는 속성\n",
    "print(model2._type) # 물려받은 속성\n",
    "print(model2.color) # 물려받은 속성\n",
    "model2.show() # 오버라이딩된 메소드\n",
    "model2.show_model()\n"
   ]
  },
  {
   "cell_type": "code",
   "execution_count": null,
   "metadata": {},
   "outputs": [],
   "source": []
  }
 ],
 "metadata": {
  "kernelspec": {
   "display_name": "Python 3",
   "language": "python",
   "name": "python3"
  },
  "language_info": {
   "codemirror_mode": {
    "name": "ipython",
    "version": 3
   },
   "file_extension": ".py",
   "mimetype": "text/x-python",
   "name": "python",
   "nbconvert_exporter": "python",
   "pygments_lexer": "ipython3",
   "version": "3.7.6"
  }
 },
 "nbformat": 4,
 "nbformat_minor": 4
}
