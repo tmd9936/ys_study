{
 "cells": [
  {
   "cell_type": "code",
   "execution_count": 7,
   "metadata": {},
   "outputs": [
    {
     "name": "stdout",
     "output_type": "stream",
     "text": [
      "인스턴스 삭제\n",
      "Name :  강길동\n",
      "Name :  나정신\n",
      "강길동\n",
      "하이\n"
     ]
    }
   ],
   "source": [
    "class User:\n",
    "    # 생성자(초기화)\n",
    "    def __init__(self, name, age):\n",
    "        self.name = name\n",
    "        self.age = age\n",
    "    \n",
    "    def print_info(self):\n",
    "        print('Name : ', self.name)\n",
    "    \n",
    "    def __del__(self):\n",
    "        print('인스턴스 삭제')\n",
    "    \n",
    "user1 = User('강길동', 29)\n",
    "user2 = User('나정신', 40)\n",
    "user1.print_info()\n",
    "user2.print_info()\n",
    "print(user1.name)\n",
    "user1.name = '하이'\n",
    "print(user1.name)\n",
    "\n"
   ]
  },
  {
   "cell_type": "markdown",
   "metadata": {},
   "source": [
    "### self의 이해\n",
    "* 클래스 내에 정의된 함수를 일반적으로 메소드(메서드)라고 한다.\n",
    "* 메소드의 첫번째 인자는 항상 self가 되야 한다는 말은 엄밀히 얘기하면 틀림"
   ]
  },
  {
   "cell_type": "code",
   "execution_count": 12,
   "metadata": {},
   "outputs": [
    {
     "name": "stdout",
     "output_type": "stream",
     "text": [
      "메소드2 호출\n",
      "메소드1 호출\n"
     ]
    }
   ],
   "source": [
    "class Demo:\n",
    "    def method1():\n",
    "        print('메소드1 호출')\n",
    "    def method2(self):\n",
    "        print('메소드2 호출')\n",
    "    \n",
    "demo = Demo()\n",
    "demo.method2()\n",
    "Demo.method1()"
   ]
  },
  {
   "cell_type": "code",
   "execution_count": 15,
   "metadata": {},
   "outputs": [
    {
     "name": "stdout",
     "output_type": "stream",
     "text": [
      "메소드1 호출\n"
     ]
    }
   ],
   "source": [
    "Demo.method1()"
   ]
  },
  {
   "cell_type": "markdown",
   "metadata": {},
   "source": [
    "### 클래스 네임스페이스\n",
    "* 네임스페이스 : 변수와 객체와의 관계를 저장하는 공간"
   ]
  },
  {
   "cell_type": "code",
   "execution_count": 16,
   "metadata": {},
   "outputs": [
    {
     "name": "stdout",
     "output_type": "stream",
     "text": [
      "['Demo', 'In', 'Out', 'User', '_', '__', '___', '__builtin__', '__builtins__', '__doc__', '__loader__', '__name__', '__package__', '__spec__', '_dh', '_i', '_i1', '_i10', '_i11', '_i12', '_i13', '_i14', '_i15', '_i16', '_i2', '_i3', '_i4', '_i5', '_i6', '_i7', '_i8', '_i9', '_ih', '_ii', '_iii', '_oh', 'demo', 'exit', 'get_ipython', 'quit', 'user1', 'user2']\n"
     ]
    }
   ],
   "source": [
    "print(dir())"
   ]
  },
  {
   "cell_type": "code",
   "execution_count": 19,
   "metadata": {},
   "outputs": [
    {
     "name": "stdout",
     "output_type": "stream",
     "text": [
      "Demo :  {}\n"
     ]
    }
   ],
   "source": [
    "print('Demo : ', demo.__dict__) # 클래스 / 인스턴스 네임스페이스 확인"
   ]
  },
  {
   "cell_type": "code",
   "execution_count": 26,
   "metadata": {},
   "outputs": [],
   "source": [
    "class Demo2:\n",
    "    aa = '하이'\n",
    "    def __init__(self,name):\n",
    "        self.name = name\n"
   ]
  },
  {
   "cell_type": "code",
   "execution_count": 21,
   "metadata": {},
   "outputs": [
    {
     "name": "stdout",
     "output_type": "stream",
     "text": [
      "['Demo', 'Demo2', 'In', 'Out', 'User', '_', '__', '___', '__builtin__', '__builtins__', '__doc__', '__loader__', '__name__', '__package__', '__spec__', '_dh', '_i', '_i1', '_i10', '_i11', '_i12', '_i13', '_i14', '_i15', '_i16', '_i17', '_i18', '_i19', '_i2', '_i20', '_i21', '_i3', '_i4', '_i5', '_i6', '_i7', '_i8', '_i9', '_ih', '_ii', '_iii', '_oh', 'demo', 'exit', 'get_ipython', 'quit', 'user1', 'user2']\n"
     ]
    }
   ],
   "source": [
    "print(dir())"
   ]
  },
  {
   "cell_type": "code",
   "execution_count": 31,
   "metadata": {},
   "outputs": [
    {
     "name": "stdout",
     "output_type": "stream",
     "text": [
      "demo2 :  {'name': 'ㅎㅎgg'}\n",
      "['__class__', '__delattr__', '__dict__', '__dir__', '__doc__', '__eq__', '__format__', '__ge__', '__getattribute__', '__gt__', '__hash__', '__init__', '__init_subclass__', '__le__', '__lt__', '__module__', '__ne__', '__new__', '__reduce__', '__reduce_ex__', '__repr__', '__setattr__', '__sizeof__', '__str__', '__subclasshook__', '__weakref__', 'aa']\n",
      "하이\n",
      "{'__module__': '__main__', 'aa': '하이', '__init__': <function Demo2.__init__ at 0x000001DC7479DAF8>, '__dict__': <attribute '__dict__' of 'Demo2' objects>, '__weakref__': <attribute '__weakref__' of 'Demo2' objects>, '__doc__': None}\n"
     ]
    }
   ],
   "source": [
    "demo2 = Demo2('ㅎㅎgg')\n",
    "print('demo2 : ', demo2.__dict__)\n",
    "print(dir(Demo2))\n",
    "print(Demo2.aa)\n",
    "print(Demo2.__dict__)"
   ]
  },
  {
   "cell_type": "code",
   "execution_count": 40,
   "metadata": {},
   "outputs": [],
   "source": [
    "class Book:\n",
    "    name = 'python'\n",
    "    \n",
    "    def set_info(self, name):\n",
    "        self.name = name\n",
    "        "
   ]
  },
  {
   "cell_type": "code",
   "execution_count": 41,
   "metadata": {},
   "outputs": [
    {
     "data": {
      "text/plain": [
       "mappingproxy({'__module__': '__main__',\n",
       "              'name': 'python',\n",
       "              'set_info': <function __main__.Book.set_info(self, name)>,\n",
       "              '__dict__': <attribute '__dict__' of 'Book' objects>,\n",
       "              '__weakref__': <attribute '__weakref__' of 'Book' objects>,\n",
       "              '__doc__': None})"
      ]
     },
     "execution_count": 41,
     "metadata": {},
     "output_type": "execute_result"
    }
   ],
   "source": [
    "Book.__dict__"
   ]
  },
  {
   "cell_type": "code",
   "execution_count": 42,
   "metadata": {},
   "outputs": [
    {
     "name": "stdout",
     "output_type": "stream",
     "text": [
      "book1:  {'name': 'java'}\n",
      "book2:  {}\n"
     ]
    }
   ],
   "source": [
    "book1 = Book()\n",
    "book1.set_info('java')\n",
    "book2 = Book()\n",
    "print('book1: ', book1.__dict__)\n",
    "print('book2: ', book2.__dict__)"
   ]
  },
  {
   "cell_type": "code",
   "execution_count": 43,
   "metadata": {},
   "outputs": [
    {
     "data": {
      "text/plain": [
       "'python'"
      ]
     },
     "execution_count": 43,
     "metadata": {},
     "output_type": "execute_result"
    }
   ],
   "source": [
    "Book.name"
   ]
  },
  {
   "cell_type": "code",
   "execution_count": 44,
   "metadata": {},
   "outputs": [
    {
     "data": {
      "text/plain": [
       "'java'"
      ]
     },
     "execution_count": 44,
     "metadata": {},
     "output_type": "execute_result"
    }
   ],
   "source": [
    "book1.name"
   ]
  },
  {
   "cell_type": "code",
   "execution_count": 45,
   "metadata": {},
   "outputs": [
    {
     "data": {
      "text/plain": [
       "'python'"
      ]
     },
     "execution_count": 45,
     "metadata": {},
     "output_type": "execute_result"
    }
   ],
   "source": [
    "book2.name"
   ]
  },
  {
   "cell_type": "markdown",
   "metadata": {},
   "source": [
    "### 클래스 변수, 인스턴스 변수"
   ]
  },
  {
   "cell_type": "code",
   "execution_count": 62,
   "metadata": {},
   "outputs": [],
   "source": [
    "class Employee:\n",
    "    employeeCnt = 0\n",
    "    \n",
    "    def __init__(self, name, age):\n",
    "        self.name = name\n",
    "        self.age = age\n",
    "        Employee.employeeCnt += 1\n",
    "    \n",
    "    def empInfo(self):\n",
    "        print('Name: ', self.name, 'Age : ',self.age)\n",
    "    \n",
    "    def empCount(self):\n",
    "        print('전체 종업원 수는 %d' % Employee.employeeCnt)"
   ]
  },
  {
   "cell_type": "code",
   "execution_count": 63,
   "metadata": {},
   "outputs": [
    {
     "data": {
      "text/plain": [
       "mappingproxy({'__module__': '__main__',\n",
       "              'employeeCnt': 0,\n",
       "              '__init__': <function __main__.Employee.__init__(self, name, age)>,\n",
       "              'empInfo': <function __main__.Employee.empInfo(self)>,\n",
       "              'empCount': <function __main__.Employee.empCount(self)>,\n",
       "              '__dict__': <attribute '__dict__' of 'Employee' objects>,\n",
       "              '__weakref__': <attribute '__weakref__' of 'Employee' objects>,\n",
       "              '__doc__': None})"
      ]
     },
     "execution_count": 63,
     "metadata": {},
     "output_type": "execute_result"
    }
   ],
   "source": [
    "Employee.__dict__"
   ]
  },
  {
   "cell_type": "code",
   "execution_count": 64,
   "metadata": {},
   "outputs": [
    {
     "data": {
      "text/plain": [
       "{'name': '홍길동', 'age': 28}"
      ]
     },
     "execution_count": 64,
     "metadata": {},
     "output_type": "execute_result"
    }
   ],
   "source": [
    "emp1 = Employee('홍길동',28)\n",
    "emp2 = Employee('강호동', 30)\n",
    "\n",
    "emp1.__dict__"
   ]
  },
  {
   "cell_type": "code",
   "execution_count": 67,
   "metadata": {},
   "outputs": [
    {
     "name": "stdout",
     "output_type": "stream",
     "text": [
      "전체 종업원 수는 3\n"
     ]
    }
   ],
   "source": [
    "emp1.empCount()"
   ]
  },
  {
   "cell_type": "code",
   "execution_count": 66,
   "metadata": {},
   "outputs": [],
   "source": [
    "emp3 = Employee('임꺽정',31)"
   ]
  },
  {
   "cell_type": "code",
   "execution_count": null,
   "metadata": {},
   "outputs": [],
   "source": []
  }
 ],
 "metadata": {
  "kernelspec": {
   "display_name": "Python 3",
   "language": "python",
   "name": "python3"
  },
  "language_info": {
   "codemirror_mode": {
    "name": "ipython",
    "version": 3
   },
   "file_extension": ".py",
   "mimetype": "text/x-python",
   "name": "python",
   "nbconvert_exporter": "python",
   "pygments_lexer": "ipython3",
   "version": "3.7.6"
  }
 },
 "nbformat": 4,
 "nbformat_minor": 4
}
