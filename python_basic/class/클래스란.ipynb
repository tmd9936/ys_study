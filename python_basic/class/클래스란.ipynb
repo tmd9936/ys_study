{
 "cells": [
  {
   "cell_type": "markdown",
   "metadata": {},
   "source": [
    "### 클래스란?\n",
    "\n",
    "* 실세계의 것을 모델링하여 속성(attribute)과 동작(method)을 갖는 데이터 타입\n",
    "* python에서 string, int, dict, list... 모두가 클래스로 존재\n",
    "* 예를 들어 학생이라는 클래스를 만든다면, 학생을 나타내는 속성과 학생이 행할 수 있는 행동을 정의 할 수 있다.\n",
    "* 클래스는 속성과 메소드(함수)\n",
    "\n",
    "```\n",
    "** 클래스 선언 **\n",
    "\n",
    "class 클래스명:  \n",
    "    속성1  \n",
    "    속성2  \n",
    "    함수1(메소드)  \n",
    "    함수2(메소드)  \n",
    "```"
   ]
  },
  {
   "cell_type": "code",
   "execution_count": 2,
   "metadata": {},
   "outputs": [
    {
     "name": "stdout",
     "output_type": "stream",
     "text": [
      "140723135098352\n"
     ]
    }
   ],
   "source": [
    "a = 100\n",
    "print(id(a)) #a의 주소값\n",
    "\n",
    "\n"
   ]
  },
  {
   "cell_type": "code",
   "execution_count": 38,
   "metadata": {},
   "outputs": [
    {
     "name": "stdout",
     "output_type": "stream",
     "text": [
      "2238403895496\n"
     ]
    }
   ],
   "source": [
    "class NameCard:\n",
    "    def set_info(self, name, email, addr):\n",
    "        self.name = name\n",
    "        self.email = email\n",
    "        self.addr = addr\n",
    "    \n",
    "    def print_info(self):\n",
    "        print('=============')\n",
    "        print('Name : ', self.name)\n",
    "        print('email : ', self.email)\n",
    "        print('addr : ', self.addr)\n",
    "        print('=============')\n",
    "        \n",
    "member1 = NameCard()\n",
    "print(id(member1))"
   ]
  },
  {
   "cell_type": "code",
   "execution_count": 45,
   "metadata": {},
   "outputs": [
    {
     "name": "stdout",
     "output_type": "stream",
     "text": [
      "=============\n",
      "Name :  kim\n",
      "email :  kim@test.com\n",
      "addr :  Incheon\n",
      "=============\n"
     ]
    }
   ],
   "source": [
    "member1.set_info('kim', 'kim@test.com','Incheon')\n",
    "member1.print_info()"
   ]
  },
  {
   "cell_type": "code",
   "execution_count": 40,
   "metadata": {},
   "outputs": [
    {
     "data": {
      "text/plain": [
       "'kim'"
      ]
     },
     "execution_count": 40,
     "metadata": {},
     "output_type": "execute_result"
    }
   ],
   "source": [
    "member1.name"
   ]
  },
  {
   "cell_type": "code",
   "execution_count": 46,
   "metadata": {},
   "outputs": [
    {
     "name": "stdout",
     "output_type": "stream",
     "text": [
      "=============\n",
      "Name :  Lee\n",
      "email :  lee@test.com\n",
      "addr :  Seoul\n",
      "=============\n"
     ]
    }
   ],
   "source": [
    "member2 = NameCard()\n",
    "member2.set_info('Lee','lee@test.com','Seoul')\n",
    "member2.print_info()"
   ]
  },
  {
   "cell_type": "code",
   "execution_count": 42,
   "metadata": {},
   "outputs": [
    {
     "name": "stdout",
     "output_type": "stream",
     "text": [
      "Seoul\n",
      "<class '__main__.NameCard'>\n",
      "['__class__', '__delattr__', '__dict__', '__dir__', '__doc__', '__eq__', '__format__', '__ge__', '__getattribute__', '__gt__', '__hash__', '__init__', '__init_subclass__', '__le__', '__lt__', '__module__', '__ne__', '__new__', '__reduce__', '__reduce_ex__', '__repr__', '__setattr__', '__sizeof__', '__str__', '__subclasshook__', '__weakref__', 'addr', 'email', 'name', 'print_info', 'set_info']\n"
     ]
    }
   ],
   "source": [
    "print(member2.addr)\n",
    "print(type(member2))\n",
    "print(dir(member2))"
   ]
  },
  {
   "cell_type": "code",
   "execution_count": 43,
   "metadata": {},
   "outputs": [
    {
     "name": "stdout",
     "output_type": "stream",
     "text": [
      "False\n"
     ]
    }
   ],
   "source": [
    "print(id(member2) == id(member1))"
   ]
  },
  {
   "cell_type": "code",
   "execution_count": 52,
   "metadata": {},
   "outputs": [],
   "source": [
    "# 클래스 생성자\n",
    "class MyDemo:\n",
    "    def __init__(self, name, addr):\n",
    "        print('객체 생성')\n",
    "        self.name = name\n",
    "        self.addr = addr\n",
    "    \n",
    "    def print_info(self):\n",
    "        print(self.name)\n",
    "        print(self.addr)\n",
    "    "
   ]
  },
  {
   "cell_type": "code",
   "execution_count": 55,
   "metadata": {},
   "outputs": [
    {
     "name": "stdout",
     "output_type": "stream",
     "text": [
      "객체 생성\n",
      "홍길동\n",
      "인천시\n",
      "객체 생성\n",
      "손흥민\n",
      "런던\n"
     ]
    }
   ],
   "source": [
    "instance1 = MyDemo('홍길동','인천시')\n",
    "instance1.print_info()\n",
    "\n",
    "instance2 = MyDemo('손흥민', '런던')\n",
    "instance2.print_info()"
   ]
  },
  {
   "cell_type": "code",
   "execution_count": 56,
   "metadata": {},
   "outputs": [
    {
     "data": {
      "text/plain": [
       "'\\n[문제 1] Book 클래스를 만들어서 책의 제목을 출력할 수 있도록 한다\\n       클래스를 이용하여 2개이상의 책을 만드세요\\n       \\ne.g) 책 제목은 \"파이썬 배우기\" 입니다.\\n     책 제목은 \"자바 기초\" 입니다.\\n     \\n[문제 2] Student 클래스를 정의하여 두 명의 학생을 \\n         만들고 두 학생의 정보를 출력하세요.\\ne.g) 제 이름은 홍길동입니다. 나이는 21살 입니다.\\n\\n[문제 3]  IceCream 클래스를 정의하여 두 개 이사으이 아이스크림을 \\n          정보를 출력하세요.\\ne.g) 돼지바 가격은 1000원 입니다.\\n'"
      ]
     },
     "execution_count": 56,
     "metadata": {},
     "output_type": "execute_result"
    }
   ],
   "source": [
    "'''\n",
    "[문제 1] Book 클래스를 만들어서 책의 제목을 출력할 수 있도록 한다\n",
    "       클래스를 이용하여 2개이상의 책을 만드세요\n",
    "       \n",
    "e.g) 책 제목은 \"파이썬 배우기\" 입니다.\n",
    "     책 제목은 \"자바 기초\" 입니다.\n",
    "     \n",
    "[문제 2] Student 클래스를 정의하여 두 명의 학생을 \n",
    "         만들고 두 학생의 정보를 출력하세요.\n",
    "e.g) 제 이름은 홍길동입니다. 나이는 21살 입니다.\n",
    "\n",
    "[문제 3]  IceCream 클래스를 정의하여 두 개 이사으이 아이스크림을 \n",
    "          정보를 출력하세요.\n",
    "e.g) 돼지바 가격은 1000원 입니다.\n",
    "'''"
   ]
  },
  {
   "cell_type": "code",
   "execution_count": 58,
   "metadata": {},
   "outputs": [
    {
     "name": "stdout",
     "output_type": "stream",
     "text": [
      "책 제목은 \" 파이썬 기초 \"입니다.\n",
      "책 제목은 \" 자바 초급 \"입니다.\n"
     ]
    }
   ],
   "source": [
    "# 문제 1\n",
    "class Book:\n",
    "    def __init__(self, sub):\n",
    "        self.sub = sub\n",
    "    def print_info(self):\n",
    "        print('책 제목은 \"', self.sub, '\"입니다.')\n",
    "\n",
    "book1 = Book('파이썬 기초')\n",
    "book1.print_info()\n",
    "book2 = Book('자바 초급')\n",
    "book2.print_info()\n",
    "    "
   ]
  },
  {
   "cell_type": "code",
   "execution_count": 60,
   "metadata": {},
   "outputs": [
    {
     "name": "stdout",
     "output_type": "stream",
     "text": [
      "제 이름은 박민수 입니다. 나이는 21 입니다.\n",
      "제 이름은 김진수 입니다. 나이는 30 입니다.\n"
     ]
    }
   ],
   "source": [
    "# 문제 2\n",
    "class Student:\n",
    "    def __init__(self, name, old):\n",
    "        self.name = name\n",
    "        self.old = old\n",
    "    def print_info(self):\n",
    "        print('제 이름은', self.name, '입니다. ', end='')\n",
    "        print('나이는', self.old, '입니다.')\n",
    "\n",
    "student1 = Student('박민수', 21)\n",
    "student1.print_info()\n",
    "student2 = Student('김진수', 30)\n",
    "student2.print_info()"
   ]
  },
  {
   "cell_type": "code",
   "execution_count": 67,
   "metadata": {},
   "outputs": [
    {
     "name": "stdout",
     "output_type": "stream",
     "text": [
      "돼지바가격은 1000원 입니다.\n",
      "쌍쌍바 객체가 사라집니다.\n",
      "쌍쌍바가격은 1500원 입니다.\n",
      "돼지바 객체가 사라집니다.\n"
     ]
    }
   ],
   "source": [
    "# 문제 3\n",
    "class IceCream:\n",
    "    def __init__(self, name, price):\n",
    "        self.name = name\n",
    "        self.price = price\n",
    "    def info(self):\n",
    "        print(f'{self.name}가격은 {self.price}원 입니다.')\n",
    "    # 소멸자\n",
    "    def __del__(self):\n",
    "        print(f'{self.name} 객체가 사라집니다.')\n",
    "\n",
    "iceCream1 = IceCream('돼지바', 1000)\n",
    "iceCream1.info()\n",
    "iceCream2 = IceCream('쌍쌍바', 1500)\n",
    "iceCream2.info()\n",
    "del iceCream1\n",
    "# iceCream1.info() 에러"
   ]
  },
  {
   "cell_type": "code",
   "execution_count": 64,
   "metadata": {},
   "outputs": [
    {
     "name": "stdout",
     "output_type": "stream",
     "text": [
      "6\n",
      "8\n",
      "2\n",
      "2.0\n"
     ]
    }
   ],
   "source": [
    "class Cal:\n",
    "    def setData(self, num1, num2):\n",
    "        self.num1 = num1\n",
    "        self.num2 = num2\n",
    "    \n",
    "    def add(self):\n",
    "        return self.num1 + self.num2\n",
    "    \n",
    "    def mul(self):\n",
    "        return self.num1 * self.num2\n",
    "    \n",
    "    def sub(self):\n",
    "        return self.num1 - self.num2\n",
    "    \n",
    "    def div(self):\n",
    "        return self.num1 / self.num2\n",
    "\n",
    "cal = Cal()\n",
    "cal.setData(4,2)\n",
    "print(cal.add())\n",
    "print(cal.mul())\n",
    "print(cal.sub())\n",
    "print(cal.div())\n"
   ]
  },
  {
   "cell_type": "code",
   "execution_count": null,
   "metadata": {},
   "outputs": [],
   "source": []
  }
 ],
 "metadata": {
  "kernelspec": {
   "display_name": "Python 3",
   "language": "python",
   "name": "python3"
  },
  "language_info": {
   "codemirror_mode": {
    "name": "ipython",
    "version": 3
   },
   "file_extension": ".py",
   "mimetype": "text/x-python",
   "name": "python",
   "nbconvert_exporter": "python",
   "pygments_lexer": "ipython3",
   "version": "3.7.6"
  }
 },
 "nbformat": 4,
 "nbformat_minor": 4
}
